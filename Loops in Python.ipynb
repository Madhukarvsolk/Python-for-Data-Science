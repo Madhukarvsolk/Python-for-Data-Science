{
 "cells": [
  {
   "cell_type": "markdown",
   "id": "aa217ea8",
   "metadata": {},
   "source": [
    "# Loops "
   ]
  },
  {
   "cell_type": "markdown",
   "id": "77a68fa0",
   "metadata": {},
   "source": [
    "\"for loop\" \n",
    "\n",
    "- Used for Iterating over a sequence a certain number of times\n",
    "\n",
    "- We can also run a number of statements once for each item like a list, tuple, set, dictionary and so on\n",
    "\n",
    "- Runs for a fixed amount of iteratins\n",
    "\n",
    "\"while loops\"\n",
    "\n",
    "- Runs until the condition is True and stops after it becomes False\n",
    "\n",
    "- Used to iterate over a block of code as long as \"condition is true\"\n",
    "\n",
    "- Firstly the condition is checked and that means, the body of loop is only executed once the condition is True!\n",
    "\n",
    "- After each iterations of the loop, the condition is checked again, this process continues untill the condition is False. \n",
    "\n",
    "Loop Controls -\n",
    "\n",
    "1. Break \n",
    "2. Continue\n",
    "3. Pass"
   ]
  },
  {
   "cell_type": "code",
   "execution_count": 1,
   "id": "44d009a0",
   "metadata": {},
   "outputs": [
    {
     "name": "stdout",
     "output_type": "stream",
     "text": [
      "Number not found at a = 1\n",
      "Number not found at a = 2\n",
      "Number not found at a = 3\n",
      "Number not found at a = 4\n",
      "Number found at a = 5  the value is 10\n"
     ]
    }
   ],
   "source": [
    "a = [1,2,3,4,5,6,7,8]\n",
    "\n",
    "\n",
    "for i in a:\n",
    "    if i == 5:\n",
    "        print(\"Number found at a = 5\", \" the value is\", i*2)\n",
    "        break\n",
    "        \n",
    "    else:\n",
    "        print(\"Number not found at a =\", i)"
   ]
  },
  {
   "cell_type": "code",
   "execution_count": 2,
   "id": "9022600b",
   "metadata": {},
   "outputs": [
    {
     "name": "stdout",
     "output_type": "stream",
     "text": [
      "2\n",
      "4\n",
      "6\n",
      "8\n",
      "10\n",
      "That's it\n"
     ]
    }
   ],
   "source": [
    "a = [1,2,3,4,5,6,7,8]\n",
    "\n",
    "\n",
    "for i in a:\n",
    "        print(i*2)\n",
    "        \n",
    "        if i == 5:\n",
    "            break\n",
    "            \n",
    "print(\"That's it\")"
   ]
  },
  {
   "cell_type": "code",
   "execution_count": 3,
   "id": "c981fc96",
   "metadata": {},
   "outputs": [
    {
     "name": "stdout",
     "output_type": "stream",
     "text": [
      "Enter the digit256\n"
     ]
    }
   ],
   "source": [
    "b = input(\"Enter the digit\")\n"
   ]
  },
  {
   "cell_type": "code",
   "execution_count": 4,
   "id": "a0ebed4e",
   "metadata": {},
   "outputs": [
    {
     "data": {
      "text/plain": [
       "0.2"
      ]
     },
     "execution_count": 4,
     "metadata": {},
     "output_type": "execute_result"
    }
   ],
   "source": [
    "c = 2/10\n",
    "c"
   ]
  },
  {
   "cell_type": "code",
   "execution_count": 5,
   "id": "73770fe8",
   "metadata": {},
   "outputs": [
    {
     "data": {
      "text/plain": [
       "4"
      ]
     },
     "execution_count": 5,
     "metadata": {},
     "output_type": "execute_result"
    }
   ],
   "source": [
    "d = 256%6\n",
    "d"
   ]
  },
  {
   "cell_type": "code",
   "execution_count": 6,
   "id": "1915e1a4",
   "metadata": {},
   "outputs": [
    {
     "data": {
      "text/plain": [
       "'256'"
      ]
     },
     "execution_count": 6,
     "metadata": {},
     "output_type": "execute_result"
    }
   ],
   "source": [
    "b\n",
    "\n",
    "# NOTE - input gives us string not integer"
   ]
  },
  {
   "cell_type": "code",
   "execution_count": 7,
   "id": "e8792a8f",
   "metadata": {},
   "outputs": [
    {
     "name": "stdout",
     "output_type": "stream",
     "text": [
      "Enter number 256\n",
      "Sum of digits 13\n"
     ]
    }
   ],
   "source": [
    "a = str(int(input(\"Enter number \")))\n",
    "\n",
    "b = 0\n",
    "\n",
    "for i in a:\n",
    "    \n",
    "    b = b + int(i)\n",
    "\n",
    "print(\"Sum of digits\", b)"
   ]
  },
  {
   "cell_type": "code",
   "execution_count": 8,
   "id": "79ce8cf3",
   "metadata": {},
   "outputs": [
    {
     "name": "stdout",
     "output_type": "stream",
     "text": [
      "256\n",
      "65536\n"
     ]
    }
   ],
   "source": [
    "if __name__ == '__main__':\n",
    "    n = int(input())\n",
    "    i = 0\n",
    "    if i<n:\n",
    "        i = i + n\n",
    "        print(i*i)\n",
    "        "
   ]
  },
  {
   "cell_type": "raw",
   "id": "baa95684",
   "metadata": {},
   "source": [
    "The provided code stub reads and integer, n, from STDIN. For all non-negative integers n<i^2, print i^2 .\n",
    "\n"
   ]
  },
  {
   "cell_type": "code",
   "execution_count": 12,
   "id": "574711d0",
   "metadata": {},
   "outputs": [
    {
     "name": "stdout",
     "output_type": "stream",
     "text": [
      "5\n",
      "0\n",
      "1\n",
      "4\n",
      "9\n",
      "16\n"
     ]
    }
   ],
   "source": [
    "if __name__ == '__main__' :\n",
    "    n = int(input())\n",
    "    for i in range (0,n) :\n",
    "       \n",
    "        print(i*i)"
   ]
  },
  {
   "cell_type": "code",
   "execution_count": 18,
   "id": "1f92ac16",
   "metadata": {},
   "outputs": [
    {
     "name": "stdout",
     "output_type": "stream",
     "text": [
      "0\n"
     ]
    }
   ],
   "source": [
    "# Example for Infinite loop in While\n",
    "\n",
    "if __name__ == '__main__' :\n",
    "    n = int(input())\n",
    "    i=0\n",
    "    while n!=0:\n",
    "        #i=i+1\n",
    "        i=i-1\n",
    "        print(i)\n",
    "        \n",
    "# Anything other than 0 will cause infinite loop"
   ]
  },
  {
   "cell_type": "code",
   "execution_count": 38,
   "id": "9fef53c7",
   "metadata": {},
   "outputs": [
    {
     "name": "stdout",
     "output_type": "stream",
     "text": [
      "2024\n",
      "True\n"
     ]
    }
   ],
   "source": [
    "def is_leap(year):\n",
    "    leap = False\n",
    "    \n",
    "    if (year % 4 == 0 and year % 100 != 0) or (year % 400 == 0) :\n",
    "        leap = True\n",
    "    return leap\n",
    "\n",
    "year = int(input())\n",
    "print(is_leap(year))"
   ]
  },
  {
   "cell_type": "code",
   "execution_count": null,
   "id": "7360e460",
   "metadata": {},
   "outputs": [],
   "source": []
  }
 ],
 "metadata": {
  "kernelspec": {
   "display_name": "Python 3 (ipykernel)",
   "language": "python",
   "name": "python3"
  },
  "language_info": {
   "codemirror_mode": {
    "name": "ipython",
    "version": 3
   },
   "file_extension": ".py",
   "mimetype": "text/x-python",
   "name": "python",
   "nbconvert_exporter": "python",
   "pygments_lexer": "ipython3",
   "version": "3.9.12"
  }
 },
 "nbformat": 4,
 "nbformat_minor": 5
}
