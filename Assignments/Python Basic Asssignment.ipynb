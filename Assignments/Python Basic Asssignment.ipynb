{
 "cells": [
  {
   "cell_type": "code",
   "execution_count": 1,
   "id": "4b29ca02",
   "metadata": {},
   "outputs": [],
   "source": [
    "# 1. Input the values of a and b as 10 AND 20 respectively. now check if a is greater or b is greater using if condition. "
   ]
  },
  {
   "cell_type": "code",
   "execution_count": 2,
   "id": "cb1f530c",
   "metadata": {},
   "outputs": [
    {
     "name": "stdout",
     "output_type": "stream",
     "text": [
      "20 is greater\n"
     ]
    }
   ],
   "source": [
    "a=10\n",
    "b=20\n",
    "\n",
    "if (a>b):\n",
    "    print(a, \"is greater\")\n",
    "else:\n",
    "    print(b, \"is greater\")"
   ]
  },
  {
   "cell_type": "code",
   "execution_count": 3,
   "id": "c85a1474",
   "metadata": {},
   "outputs": [],
   "source": [
    "# 2. Take 3 user input and print the greatest no from those input using if-else condition. edge case if any, should be handled."
   ]
  },
  {
   "cell_type": "code",
   "execution_count": 6,
   "id": "a8094e75",
   "metadata": {},
   "outputs": [
    {
     "name": "stdout",
     "output_type": "stream",
     "text": [
      "enter a: 453\n",
      "enter b: 4534\n",
      "enter c: 52452\n",
      "\n",
      "c is greatest of all\n"
     ]
    }
   ],
   "source": [
    "a= int(input(\"enter a: \"))\n",
    "b= int(input(\"enter b: \"))\n",
    "c= int(input(\"enter c: \"))\n",
    "\n",
    "if (a>b and a>c):\n",
    "    \n",
    "    print(\"a is greatest/n\")\n",
    "    \n",
    "elif(b>a and b>c):\n",
    "    \n",
    "    print(\"b is greatest\\n\")\n",
    "    \n",
    "else:\n",
    "    \n",
    "    print(\"\\nc is greatest of all\")\n",
    "    "
   ]
  },
  {
   "cell_type": "code",
   "execution_count": 6,
   "id": "fea706a7",
   "metadata": {},
   "outputs": [],
   "source": [
    "# Print the numbers from 1 to 10 using while loop"
   ]
  },
  {
   "cell_type": "code",
   "execution_count": 10,
   "id": "dab31351",
   "metadata": {},
   "outputs": [
    {
     "name": "stdout",
     "output_type": "stream",
     "text": [
      "1\n",
      "2\n",
      "3\n",
      "4\n",
      "5\n",
      "6\n",
      "7\n",
      "8\n",
      "9\n",
      "10\n"
     ]
    }
   ],
   "source": [
    "n = 1\n",
    "while(n<11):\n",
    "    print(n)\n",
    "    n=n+1"
   ]
  },
  {
   "cell_type": "code",
   "execution_count": 15,
   "id": "a7ae04a3",
   "metadata": {},
   "outputs": [],
   "source": [
    "# Create a list that is having 10,23,4,26,4,75,24,54 values and with the help of while loop, fetch the even numbers and print the numbers"
   ]
  },
  {
   "cell_type": "code",
   "execution_count": 16,
   "id": "92b7b627",
   "metadata": {},
   "outputs": [
    {
     "name": "stdout",
     "output_type": "stream",
     "text": [
      "10\n",
      "4\n",
      "26\n",
      "4\n",
      "24\n",
      "54\n"
     ]
    }
   ],
   "source": [
    "l = [10,23,4,26,4,75,24,54]\n",
    "n = 0\n",
    " \n",
    "while(n<len(l)):\n",
    "    \n",
    "    if l[n] % 2 == 0:\n",
    "        print(l[n])\n",
    "    n += 1"
   ]
  },
  {
   "cell_type": "code",
   "execution_count": 17,
   "id": "a522b90f",
   "metadata": {},
   "outputs": [],
   "source": [
    "#Create an array that is having user defined inputs and with the help of for loop, fetch all the prime numbers and print the numbers."
   ]
  },
  {
   "cell_type": "code",
   "execution_count": 5,
   "id": "a9ee4181",
   "metadata": {},
   "outputs": [
    {
     "name": "stdout",
     "output_type": "stream",
     "text": [
      "enter the number of elements in list: 5\n",
      "enter the elements : 6\n",
      "enter the elements : 5\n",
      "enter the elements : 2\n",
      "enter the elements : 2\n",
      "enter the elements : 299\n",
      "the elements in list are [6, 5, 2, 2, 299]\n",
      "prime number [5, 2, 2]\n"
     ]
    }
   ],
   "source": [
    "l=[]\n",
    "p=[]\n",
    "n= int(input(\"enter the number of elements in list: \"))\n",
    "for i in range(n):\n",
    "    a=int(input(\"enter the elements : \"))\n",
    "    l.append(a)\n",
    "print(\"the elements in list are\", l)\n",
    "\n",
    "for i in l:\n",
    "    c=0\n",
    "    for j in range(1,i):\n",
    "        if (i%j==0):\n",
    "            c=c+1\n",
    "    if(c==1):\n",
    "        p.append(i)\n",
    "print(\"prime number\", p)"
   ]
  },
  {
   "cell_type": "code",
   "execution_count": null,
   "id": "54d7b208",
   "metadata": {},
   "outputs": [],
   "source": []
  }
 ],
 "metadata": {
  "kernelspec": {
   "display_name": "Python 3 (ipykernel)",
   "language": "python",
   "name": "python3"
  },
  "language_info": {
   "codemirror_mode": {
    "name": "ipython",
    "version": 3
   },
   "file_extension": ".py",
   "mimetype": "text/x-python",
   "name": "python",
   "nbconvert_exporter": "python",
   "pygments_lexer": "ipython3",
   "version": "3.9.12"
  }
 },
 "nbformat": 4,
 "nbformat_minor": 5
}
