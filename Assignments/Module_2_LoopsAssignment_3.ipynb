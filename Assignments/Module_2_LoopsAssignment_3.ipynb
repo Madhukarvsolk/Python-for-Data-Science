{
 "cells": [
  {
   "cell_type": "code",
   "execution_count": null,
   "id": "af3b2eda",
   "metadata": {},
   "outputs": [],
   "source": [
    "#You work in XYZ Corporation as a Data Analyst. Your company has told you to work with the If\u0002Else Conditions.\n",
    "#Tasks to be performed:\n",
    "#1. Create an array that is having user defined inputs and with the help of for loop, fetch all the prime \n",
    "#numbers and print the numbers."
   ]
  },
  {
   "cell_type": "code",
   "execution_count": null,
   "id": "838d0420",
   "metadata": {},
   "outputs": [],
   "source": []
  },
  {
   "cell_type": "code",
   "execution_count": 3,
   "id": "a8d293ea",
   "metadata": {},
   "outputs": [
    {
     "name": "stdout",
     "output_type": "stream",
     "text": [
      "enter the number of elements in list: 5\n",
      "enter the elements : 11\n",
      "enter the elements : 47\n",
      "enter the elements : 20\n",
      "enter the elements : 40\n",
      "enter the elements : 60\n",
      "the elements in list are [11, 47, 20, 40, 60]\n",
      "prime number [11, 47]\n"
     ]
    }
   ],
   "source": [
    "l=[]\n",
    "p=[]\n",
    "n= int(input(\"enter the number of elements in list: \"))\n",
    "for i in range(n):\n",
    "    a=int(input(\"enter the elements : \"))\n",
    "    l.append(a)\n",
    "print(\"the elements in list are\", l)\n",
    "\n",
    "for i in l:\n",
    "    c=0\n",
    "    for j in range(1,i):\n",
    "        if (i%j==0):\n",
    "            c=c+1\n",
    "    if(c==1):\n",
    "        p.append(i)\n",
    "print(\"prime number\", p)"
   ]
  },
  {
   "cell_type": "code",
   "execution_count": null,
   "id": "91b429b8",
   "metadata": {},
   "outputs": [],
   "source": []
  }
 ],
 "metadata": {
  "kernelspec": {
   "display_name": "Python 3 (ipykernel)",
   "language": "python",
   "name": "python3"
  },
  "language_info": {
   "codemirror_mode": {
    "name": "ipython",
    "version": 3
   },
   "file_extension": ".py",
   "mimetype": "text/x-python",
   "name": "python",
   "nbconvert_exporter": "python",
   "pygments_lexer": "ipython3",
   "version": "3.9.12"
  }
 },
 "nbformat": 4,
 "nbformat_minor": 5
}
