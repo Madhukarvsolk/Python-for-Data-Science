{
 "cells": [
  {
   "cell_type": "code",
   "execution_count": null,
   "id": "7bcb6dc6",
   "metadata": {},
   "outputs": [],
   "source": [
    "#Take three user inputs and print the greatest number from those inputs using if-else\n",
    "#condition. Edge cases if any, should also be handled"
   ]
  },
  {
   "cell_type": "code",
   "execution_count": 1,
   "id": "300b5362",
   "metadata": {},
   "outputs": [
    {
     "name": "stdout",
     "output_type": "stream",
     "text": [
      "enter a: 453\n",
      "enter b: 646\n",
      "enter c: 345364\n",
      "345364\n"
     ]
    }
   ],
   "source": [
    "\n",
    "\n",
    "a= int(input(\"enter a: \"))\n",
    "b= int(input(\"enter b: \"))\n",
    "c= int(input(\"enter c: \"))\n",
    "\n",
    "if a>b and a>c:\n",
    "    print(a)\n",
    "elif b>a and b>c:\n",
    "    print(b)\n",
    "else:\n",
    "    print(c)\n",
    "    "
   ]
  },
  {
   "cell_type": "code",
   "execution_count": null,
   "id": "982ec252",
   "metadata": {},
   "outputs": [],
   "source": []
  }
 ],
 "metadata": {
  "kernelspec": {
   "display_name": "Python 3 (ipykernel)",
   "language": "python",
   "name": "python3"
  },
  "language_info": {
   "codemirror_mode": {
    "name": "ipython",
    "version": 3
   },
   "file_extension": ".py",
   "mimetype": "text/x-python",
   "name": "python",
   "nbconvert_exporter": "python",
   "pygments_lexer": "ipython3",
   "version": "3.9.12"
  }
 },
 "nbformat": 4,
 "nbformat_minor": 5
}
