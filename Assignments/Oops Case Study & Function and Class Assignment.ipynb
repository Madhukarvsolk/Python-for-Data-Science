{
 "cells": [
  {
   "cell_type": "markdown",
   "id": "645ff84d",
   "metadata": {},
   "source": [
    "CASE STUDY PROBLEM 1"
   ]
  },
  {
   "cell_type": "markdown",
   "id": "e843fe26",
   "metadata": {},
   "source": [
    "# Module 1: OOPs with Python Assignment-1\n"
   ]
  },
  {
   "cell_type": "code",
   "execution_count": null,
   "id": "3a78ee4e",
   "metadata": {},
   "outputs": [],
   "source": [
    "# 1.create a class names Employee, with a constructor ‘__init__’ method that accepts name and \n",
    "# salary as parameters and set properties named name and salary.\n",
    "# 2. Define __str__ method in Employee class so that when someone tries to print the object the \n",
    "# string Name: employee_name, Salary: employee_salary is printed with the actual employee \n",
    "# name and salary."
   ]
  },
  {
   "cell_type": "code",
   "execution_count": 1,
   "id": "edfa9594",
   "metadata": {},
   "outputs": [
    {
     "name": "stdout",
     "output_type": "stream",
     "text": [
      "Name:John Salary: 50000\n"
     ]
    }
   ],
   "source": [
    "class employee:\n",
    "    def __init__(self,name,salary):\n",
    "        self.name=name\n",
    "        self.salary=salary\n",
    "    def __str__(self):\n",
    "        return \"Name:\"+ str(self.name) +  \" Salary: \"+ str(self.salary)\n",
    "e1=employee(\"John\",50000)\n",
    "print(e1)"
   ]
  },
  {
   "cell_type": "code",
   "execution_count": null,
   "id": "6846b3bd",
   "metadata": {},
   "outputs": [],
   "source": [
    "# 3. Create another class named Calculator, with methods to add, subtract, multiply and divide two \n",
    "# numbers.\n",
    "# 4. These methods take two numbers as parameters.\n",
    "# 5. These methods will be called by method named execute command.\n",
    "# 6. Execute command takes in 3 parameters command which is string that can be either ‘add’, ‘sub’, \n",
    "# ‘mul’, ‘div’, and two numbers and it will call the appropriate method based on command \n",
    "# parameter."
   ]
  },
  {
   "cell_type": "code",
   "execution_count": 2,
   "id": "3881d65e",
   "metadata": {},
   "outputs": [
    {
     "name": "stdout",
     "output_type": "stream",
     "text": [
      "Addition:  24\n",
      "Substraction:  90\n",
      "Multiplication:  98\n",
      "Division:  4.0\n"
     ]
    }
   ],
   "source": [
    "class calculator:\n",
    "    def add(self,val1,val2):\n",
    "        print(\"Addition: \",val1+val2)\n",
    "    def sub(self,val1,val2):\n",
    "        print(\"Substraction: \", val1-val2)\n",
    "    def multiply(self,val1,val2):\n",
    "        print(\"Multiplication: \",val1*val2)\n",
    "    def divide(self,val1,val2):\n",
    "        print(\"Division: \",val1/val2)\n",
    "    def execute_command(self,operator,val1,val2):\n",
    "        if(operator==\"add\"):\n",
    "            return self.add(val1,val2)\n",
    "        elif(operator==\"sub\"):\n",
    "            return self.sub(val1,val2)\n",
    "        elif(operator==\"mul\"):\n",
    "            return self.multiply(val1,val2)\n",
    "        elif(operator==\"div\"):\n",
    "            return self.divide(val1,val2)\n",
    "        else:\n",
    "            print(\"invalid\")\n",
    "calculate=calculator()\n",
    "calculate.execute_command(\"add\",14,10)\n",
    "calculate.execute_command(\"sub\",100,10)\n",
    "calculate.execute_command(\"mul\",14,7)\n",
    "calculate.execute_command(\"div\",32,8)"
   ]
  },
  {
   "cell_type": "markdown",
   "id": "0f6bfcaa",
   "metadata": {},
   "source": [
    "# Module 2: Function and Class Assignment"
   ]
  },
  {
   "cell_type": "code",
   "execution_count": null,
   "id": "d83fde8a",
   "metadata": {},
   "outputs": [],
   "source": [
    "# 1. Create a function named ‘factor’ that can only accepts 1 argument. The function should \n",
    "# return the factorial of that number."
   ]
  },
  {
   "cell_type": "code",
   "execution_count": 6,
   "id": "a743bc8e",
   "metadata": {},
   "outputs": [
    {
     "data": {
      "text/plain": [
       "5040"
      ]
     },
     "execution_count": 6,
     "metadata": {},
     "output_type": "execute_result"
    }
   ],
   "source": [
    "def factor(value):\n",
    "    factorial=1\n",
    "    while(value>0):\n",
    "        factorial=factorial*value\n",
    "        value=value-1\n",
    "    return factorial\n",
    "factor(7)"
   ]
  },
  {
   "cell_type": "code",
   "execution_count": null,
   "id": "4eff3a5e",
   "metadata": {},
   "outputs": [],
   "source": [
    "# 2Create a function named ‘check_string’, the function should accept a string data from the \n",
    "# user and the function should check if the user input contains the letter ‘s’ in it. If it contains \n",
    "# the letter ‘s’ then print- ‘The string is containing the letter ‘s’’, if not then print- ‘The string \n",
    "# doesn’t contain the letter ‘s’"
   ]
  },
  {
   "cell_type": "code",
   "execution_count": 5,
   "id": "8b48ccfe",
   "metadata": {},
   "outputs": [
    {
     "name": "stdout",
     "output_type": "stream",
     "text": [
      "enter the string: student\n",
      " the string contain letter s\n"
     ]
    }
   ],
   "source": [
    "def check_string(string):\n",
    "    if(\"s\" in string):\n",
    "        print(\" the string contain letter s\")\n",
    "    else:\n",
    "        print(\"the string doe not contain letter s\")\n",
    "string=input(\"enter the string: \")\n",
    "check_string(string)"
   ]
  },
  {
   "cell_type": "code",
   "execution_count": null,
   "id": "e90c99d2",
   "metadata": {},
   "outputs": [],
   "source": [
    "# 3. Create a class named ‘student’ and inside the class, create a function named ‘fun1’- this \n",
    "# method should accepts the user defined input and return that value.\n",
    "# a. Create another method named- message() and that method should print the user \n",
    "# defined input that we have defined in ‘fun1’."
   ]
  },
  {
   "cell_type": "code",
   "execution_count": 8,
   "id": "5d250768",
   "metadata": {},
   "outputs": [
    {
     "name": "stdout",
     "output_type": "stream",
     "text": [
      "enter the value: Good morning\n"
     ]
    },
    {
     "data": {
      "text/plain": [
       "'Good morning'"
      ]
     },
     "execution_count": 8,
     "metadata": {},
     "output_type": "execute_result"
    }
   ],
   "source": [
    "class student:\n",
    "    def fun1(self,value):\n",
    "        self.value=value\n",
    "        return(self.value)\n",
    "    def message(self):\n",
    "        return (self.value)\n",
    "        \n",
    "xyz=student()\n",
    "xyz.fun1(input(\"enter the value: \"))\n",
    "xyz.message()"
   ]
  },
  {
   "cell_type": "code",
   "execution_count": null,
   "id": "6f0cb805",
   "metadata": {},
   "outputs": [],
   "source": [
    "# 4Create a lambda function that should double or multiply the number (that we will be passing \n",
    "# in the lambda function) by 2. Store the lambda function in a variable named ‘double_num’"
   ]
  },
  {
   "cell_type": "code",
   "execution_count": 1,
   "id": "4f49642f",
   "metadata": {},
   "outputs": [
    {
     "data": {
      "text/plain": [
       "10"
      ]
     },
     "execution_count": 1,
     "metadata": {},
     "output_type": "execute_result"
    }
   ],
   "source": [
    "double_num= lambda x :x*2\n",
    "double_num(5)"
   ]
  },
  {
   "cell_type": "code",
   "execution_count": null,
   "id": "96874aa5",
   "metadata": {},
   "outputs": [],
   "source": [
    "# 5. Take user input string and check whether that string is palindrome or not."
   ]
  },
  {
   "cell_type": "code",
   "execution_count": 1,
   "id": "b1b09229",
   "metadata": {},
   "outputs": [
    {
     "name": "stdout",
     "output_type": "stream",
     "text": [
      "Enter string to check if it is Palindrome? Malayalam\n",
      "Palindrome\n"
     ]
    }
   ],
   "source": [
    "def isPalindrome(s):\n",
    "    s=s.lower()\n",
    "    return s == s[::-1]\n",
    "if(isPalindrome(str(input(\"Enter string to check if it is Palindrome? \"))) == True):\n",
    "    print(\"Palindrome\")\n",
    "else:\n",
    "    print(\"Not Palindrome\")"
   ]
  },
  {
   "cell_type": "code",
   "execution_count": null,
   "id": "97518949",
   "metadata": {},
   "outputs": [],
   "source": []
  },
  {
   "cell_type": "code",
   "execution_count": null,
   "id": "df15a7df",
   "metadata": {},
   "outputs": [],
   "source": []
  }
 ],
 "metadata": {
  "kernelspec": {
   "display_name": "Python 3 (ipykernel)",
   "language": "python",
   "name": "python3"
  },
  "language_info": {
   "codemirror_mode": {
    "name": "ipython",
    "version": 3
   },
   "file_extension": ".py",
   "mimetype": "text/x-python",
   "name": "python",
   "nbconvert_exporter": "python",
   "pygments_lexer": "ipython3",
   "version": "3.9.12"
  }
 },
 "nbformat": 4,
 "nbformat_minor": 5
}
