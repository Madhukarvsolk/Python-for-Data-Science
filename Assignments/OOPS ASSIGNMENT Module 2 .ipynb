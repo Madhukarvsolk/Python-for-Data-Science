{
 "cells": [
  {
   "cell_type": "markdown",
   "id": "9f746063",
   "metadata": {},
   "source": [
    "# Module 2 Inheritance Assignment"
   ]
  },
  {
   "cell_type": "markdown",
   "id": "76243be6",
   "metadata": {},
   "source": [
    "1. Create a class named parent_Class and inside the class, initialize a global variable num as 10.\n",
    "\n",
    "a. Create another class named child_Class and this class should be inherited from the parent class.\n",
    "\n",
    "b. Now create an object for the child_Class and with the help of child_Class object, display the value of ‘num’."
   ]
  },
  {
   "cell_type": "code",
   "execution_count": 4,
   "id": "ebeb785f",
   "metadata": {},
   "outputs": [
    {
     "name": "stdout",
     "output_type": "stream",
     "text": [
      "10\n"
     ]
    }
   ],
   "source": [
    "class parent_class:\n",
    "    def __init__(self):\n",
    "        self.num = 10\n",
    "        \n",
    "class child_class(parent_class):\n",
    "    def __init__(self):\n",
    "        parent_class.__init__(self)\n",
    "        print(self.num)\n",
    "obj = child_class()"
   ]
  },
  {
   "cell_type": "raw",
   "id": "d9631ca4",
   "metadata": {},
   "source": [
    "2. Create three class named A, B, and C.\n",
    "\n",
    "a. Inside the A class, create a constructor. Inside the constructor, initilize 2 global variables- name and age.\n",
    "\n",
    "b. After initializing the global variables inside the constructor, now create a funtion named ‘details’ and that function should return the ‘name’ variable.\n",
    "\n",
    "c. Inside the B class, create a constructor. Inside the contructor, initialize 2 global veriables- name and id.\n",
    "\n",
    "d. After initializing the global variables inside the constructor, now create a funtion named ‘details’ and that function should return the ‘name’ variable.\n",
    "\n",
    "e. The C class should inherit from class A, and B. Inside the class C, create a constructor, and inside the constructor, call the contructor of class A.\n",
    "\n",
    "f. Now, create a method inside the class C, as get_details, and this fucntion should return the vaue of name.\n",
    "\n",
    "g. Atlast, create an object of class C, and with the help of the object, call the get_details(). -->"
   ]
  },
  {
   "cell_type": "code",
   "execution_count": 6,
   "id": "1e04404a",
   "metadata": {},
   "outputs": [
    {
     "data": {
      "text/plain": [
       "'Mahi'"
      ]
     },
     "execution_count": 6,
     "metadata": {},
     "output_type": "execute_result"
    }
   ],
   "source": [
    "class A:\n",
    "    def __init__(self, name, age):\n",
    "        self.name = \"Mahi\"\n",
    "        self.age = 27\n",
    "    def details(self):\n",
    "        return self.name\n",
    "    \n",
    "class B:\n",
    "    def __init__(self, name, id):\n",
    "        self.name = \"Zain\"\n",
    "        self.id = CEO101\n",
    "    def details(self):\n",
    "        return self.name\n",
    "    \n",
    "class C(A,B):\n",
    "    def __init__(self):\n",
    "        A.__init__(self,\"x\",1)\n",
    "    def get_details(self):\n",
    "        return self.name\n",
    "    \n",
    "o = C()\n",
    "o.get_details()"
   ]
  },
  {
   "cell_type": "code",
   "execution_count": 1,
   "id": "b8fa24ff",
   "metadata": {},
   "outputs": [],
   "source": [
    "# 3. Create a class named ‘Sub1’, inside the class, generate a user defined function named ‘first’ and inside the function, pass the following statement in the print()- ‘This is the first function from Sub 1 class’.\n",
    "# a. Now create another class named ‘Sub2’, and inside the class, create a function named ‘second’, and pass the following message in the print()- ‘This is the second function from the Sub 2 class’.\n",
    "# b. After that, create another class named ‘Super’ and inside that class, create a method named ‘final’, and pass the below message in the print()- ‘This is the final method from the super class’.\n",
    "# c. Now, create an object for the Super class and call all the 3 user defined methods, i.e., first(), second(), and final()."
   ]
  },
  {
   "cell_type": "code",
   "execution_count": 1,
   "id": "8b5f9f27",
   "metadata": {},
   "outputs": [
    {
     "name": "stdout",
     "output_type": "stream",
     "text": [
      "This is the first function from sub 1 class\n",
      "This is the second function from Sub 2 class\n",
      "This is the final function from super class\n"
     ]
    }
   ],
   "source": [
    "class Sub1():\n",
    " def first(self):\n",
    "    print(\"This is the first function from sub 1 class\")\n",
    "    \n",
    "class Sub2():\n",
    " def second(self):\n",
    "    print(\"This is the second function from Sub 2 class\")\n",
    "\n",
    "class Super(Sub1, Sub2):\n",
    " def final(self):\n",
    "    print(\"This is the final function from super class\")\n",
    "    \n",
    "my_supFunc = Super()\n",
    "my_supFunc.first()\n",
    "my_supFunc.second()\n",
    "my_supFunc.final()"
   ]
  },
  {
   "cell_type": "code",
   "execution_count": null,
   "id": "6dd53e13",
   "metadata": {},
   "outputs": [],
   "source": [
    "# 4. Create a class named ‘Parent’, and inside the class, create a function named ‘fun1’ and pass \n",
    "# the following message in the print()- ‘This is the message from the fun1’.\n",
    "# a. Now create a class named ‘Child1’ and inside the class, create a method named ‘fun2’ \n",
    "# and pass the following message in the print()- ‘This is the message from the fun2’.\n",
    "# b. After that, create another class named ‘Child2’ and inside the class, create a method \n",
    "# named ‘fun3’ and pass the following message in the print()- ‘This is the message from the fun3’.\n",
    "# c. Now, create an object of Child2 class and with the help of the object, call the ‘fun1’method from the ‘Parent’ class."
   ]
  },
  {
   "cell_type": "code",
   "execution_count": 6,
   "id": "752d0965",
   "metadata": {},
   "outputs": [
    {
     "name": "stdout",
     "output_type": "stream",
     "text": [
      "This is the message from the fun1\n"
     ]
    }
   ],
   "source": [
    "class Parent():\n",
    "    def fun1(self):\n",
    "        print(\"This is the message from the fun1\")\n",
    "        \n",
    "class Child1():\n",
    "    def fun2(self):\n",
    "        print(\"This is the message from the fun2\")\n",
    "        \n",
    "class Child2(Parent,Child1):\n",
    "    def fun3(self):\n",
    "        print(\"This is the message from the fun3\")\n",
    "        \n",
    "obj=Child2()\n",
    "obj.fun1()"
   ]
  },
  {
   "cell_type": "code",
   "execution_count": null,
   "id": "379ff2cd",
   "metadata": {},
   "outputs": [],
   "source": [
    "# 5. Create a class named ‘Parent’, and inside the class, create a function named ‘fun1’ and pass \n",
    "# the following message in the print()- ‘This is the message from the fun1’.\n",
    "# a. Now create a class named ‘Child’ and inside the class, create a method named ‘fun2’ and \n",
    "# pass the following message in the print()- ‘This is the message from the fun2’.\n",
    "# b. After that, create another class named ‘Hybrid’ and inside the class, create a method \n",
    "# named ‘fun3’ and pass the following message in the print()- ‘This is the message from \n",
    "# the fun3’.\n",
    "# c. Now, create an object of Hybrid class and with the help of the object, call the ‘fun1’, \n",
    "# ‘fun2’, and ‘fun3’ methods."
   ]
  },
  {
   "cell_type": "code",
   "execution_count": 10,
   "id": "1de7de33",
   "metadata": {},
   "outputs": [
    {
     "name": "stdout",
     "output_type": "stream",
     "text": [
      "This is the message from the fun1\n",
      "This is the message from the fun2\n",
      "This is the message from the fun3\n"
     ]
    }
   ],
   "source": [
    "class Parent():\n",
    "    def fun1(self):\n",
    "        print(\"This is the message from the fun1\")\n",
    "        \n",
    "class Child1():\n",
    "    def fun2(self):\n",
    "        print(\"This is the message from the fun2\")\n",
    "        \n",
    "class Hybrid(Parent,Child1):\n",
    "    def fun3(self):\n",
    "        print(\"This is the message from the fun3\")\n",
    "        \n",
    "obj=Hybrid()\n",
    "obj.fun1()\n",
    "obj.fun2()\n",
    "obj.fun3()"
   ]
  },
  {
   "cell_type": "markdown",
   "id": "03d2a188",
   "metadata": {},
   "source": [
    "# Module 2: Functions Assignment"
   ]
  },
  {
   "cell_type": "markdown",
   "id": "1b943e43",
   "metadata": {},
   "source": [
    "1. Create a class named ‘Super’ and inside that class define a user-defined function named fun1.\n",
    "a. Inside the ‘fun1’ function, pass the message “This is function 1 in the Super class.” in the print statement."
   ]
  },
  {
   "cell_type": "code",
   "execution_count": 8,
   "id": "04020eeb",
   "metadata": {},
   "outputs": [
    {
     "name": "stdout",
     "output_type": "stream",
     "text": [
      "This is function 1 in the super class\n"
     ]
    }
   ],
   "source": [
    "class Super:\n",
    "    def __init__(self):\n",
    "        self.super=()\n",
    "        \n",
    "    def fun1(self):\n",
    "        print(\"This is function 1 in the super class\")\n",
    "obj = Super() \n",
    "obj.fun1()"
   ]
  },
  {
   "cell_type": "markdown",
   "id": "f71ba2dc",
   "metadata": {},
   "source": [
    "2. Create another classed named ‘Modified_Super’ and inherit this class from the Super class. \n",
    "\n",
    "a. Inside the Modified_Super class, create a function named ‘fun1’ and pass the following message inside the print statement: ‘This is function 1 in the Modified Super class.’\n",
    "\n",
    "b. Create another user-defined function named ‘fun2’ and pass the message: ‘This is  the 2 nd function from the Modified Super class’ in the print statement. \n",
    "\n",
    "c. After that, now create an object for the Modified_Super class and call the fun1()"
   ]
  },
  {
   "cell_type": "code",
   "execution_count": 7,
   "id": "1b9420af",
   "metadata": {},
   "outputs": [
    {
     "name": "stdout",
     "output_type": "stream",
     "text": [
      "This is function 1 in the Modified Super class\n"
     ]
    }
   ],
   "source": [
    "class Super:\n",
    "    def __init__(self):\n",
    "        self.super=()\n",
    "        \n",
    "    def fun1(self):\n",
    "        print(\"This is function 1 in the super class\")\n",
    "        \n",
    "class Modified_super:\n",
    "    def __init__(self):\n",
    "        self.super=()\n",
    "    def fun1(self):\n",
    "        print(\"This is function 1 in the Modified Super class\")\n",
    "    def fun2(self):\n",
    "        print(\"This is the 2 nd function from the Modified Super class\")\n",
    "        \n",
    "        \n",
    "obj = Modified_super() \n",
    "obj.fun1()"
   ]
  },
  {
   "cell_type": "markdown",
   "id": "92220770",
   "metadata": {},
   "source": [
    "3. Create 2 methods named ‘Hello’. In the 1st Hello method, pass only one argument and pass \n",
    "this message: ‘This function is only having 1 argument’. And in the 2nd Hello method, pass \n",
    "two arguments and pass this message: ‘This function is having 2 arguments’.\n",
    "\n",
    "a. Try to call both the methods and analyze the output of both the methods."
   ]
  },
  {
   "cell_type": "code",
   "execution_count": 13,
   "id": "4e2e298f",
   "metadata": {},
   "outputs": [
    {
     "name": "stdout",
     "output_type": "stream",
     "text": [
      "this function is only having 1 argument\n",
      "this function is having 2 argument\n"
     ]
    }
   ],
   "source": [
    "def hello1(x):\n",
    "    print(\"this function is only having 1 argument\")\n",
    "def hello2(y,z):\n",
    "    print(\"this function is having 2 argument\")\n",
    "hello1(1)\n",
    "hello2(1,2)"
   ]
  },
  {
   "cell_type": "markdown",
   "id": "bbb1d770",
   "metadata": {},
   "source": [
    "4. Create a method named ‘Sum’ that can accept multiple user inputs. Now add those user\u0002defined input values using for loop and the function should return the addition of the \n",
    "numbers."
   ]
  },
  {
   "cell_type": "code",
   "execution_count": 17,
   "id": "608bd9fa",
   "metadata": {},
   "outputs": [
    {
     "name": "stdout",
     "output_type": "stream",
     "text": [
      "21\n"
     ]
    }
   ],
   "source": [
    "def sum(*x):\n",
    "    addition = 0\n",
    "    for i in x:\n",
    "        addition = addition+i\n",
    "    print(addition)\n",
    "sum(1,2,3,4,5,6)"
   ]
  },
  {
   "cell_type": "markdown",
   "id": "4d908c5f",
   "metadata": {},
   "source": [
    "5. Create a class named ‘Encapsulation’:\n",
    "a. Inside the class, first create a constructor. Inside the constructor, initialize \n",
    "originalValue variable as 10.\n",
    "\n",
    "b. After creating the constructor, define a function named ‘Value’ and this function \n",
    "should return the variable that we have initialized in the constructor.\n",
    "\n",
    "c. Now create 2nd function named setValue, and pass an argument named \n",
    "‘newValue’. The task of this function will be to replace the value of the \n",
    "originalValue variable by the value of newValue variable"
   ]
  },
  {
   "cell_type": "code",
   "execution_count": 7,
   "id": "cc16385f",
   "metadata": {},
   "outputs": [
    {
     "name": "stdout",
     "output_type": "stream",
     "text": [
      "10\n",
      "20\n"
     ]
    }
   ],
   "source": [
    "class Encapsulation:\n",
    "    def __init__(self):\n",
    "        self.originalValue=10\n",
    "    def value(self):\n",
    "        return self.originalValue\n",
    "    def setValue(self,value):\n",
    "        self.originalValue = value\n",
    "encapsulation = Encapsulation()\n",
    "print(encapsulation.value())\n",
    "encapsulation.setValue(20)\n",
    "print(encapsulation.value())"
   ]
  },
  {
   "cell_type": "markdown",
   "id": "cb43a79d",
   "metadata": {},
   "source": [
    "# Module 2: Exception Handling Assignment"
   ]
  },
  {
   "cell_type": "code",
   "execution_count": null,
   "id": "d2cca289",
   "metadata": {},
   "outputs": [],
   "source": [
    "# 1. With the help of try and inbuilt exception, display the exception.\n",
    "# 2. Take two user inputs and pass those input variables in a try block. If the user input is 0, then \n",
    "# throw the ZeroDivisionError exception."
   ]
  },
  {
   "cell_type": "code",
   "execution_count": 12,
   "id": "84a5f002",
   "metadata": {},
   "outputs": [
    {
     "name": "stdout",
     "output_type": "stream",
     "text": [
      "Enter value 1: 8\n",
      "Enter value 2: 0\n",
      "Cannot deivide by 0\n"
     ]
    }
   ],
   "source": [
    "value1 = int(input(\"Enter value 1: \"))\n",
    "value2 = int(input(\"Enter value 2: \"))\n",
    "try:\n",
    "    total = value1/value2\n",
    "    print(total)\n",
    "except ZeroDivisionError:\n",
    "    print(\"Cannot deivide by 0\")"
   ]
  },
  {
   "cell_type": "code",
   "execution_count": null,
   "id": "9a41e2ac",
   "metadata": {},
   "outputs": [],
   "source": [
    "# 3. import math package with help of math package, print - math.exp(50000). Now use the inbuilt overflow\n",
    "# error exception on the match.exp() and print the exception"
   ]
  },
  {
   "cell_type": "code",
   "execution_count": 13,
   "id": "9424437b",
   "metadata": {},
   "outputs": [
    {
     "name": "stdout",
     "output_type": "stream",
     "text": [
      "Over flow error\n"
     ]
    }
   ],
   "source": [
    "import math as mt\n",
    "try:\n",
    "    mt.exp(50000)\n",
    "except OverflowError:\n",
    "    print(\"Over flow error\")"
   ]
  },
  {
   "cell_type": "code",
   "execution_count": 21,
   "id": "b3853524",
   "metadata": {},
   "outputs": [
    {
     "name": "stdout",
     "output_type": "stream",
     "text": [
      "Requirement already satisfied: termcolor in c:\\users\\hp\\anaconda3\\lib\\site-packages (1.1.0)\n",
      "\u001b[42m\u001b[37mHello world\u001b[0m\n"
     ]
    }
   ],
   "source": [
    "# 4. Now install the 'termcolor' package in the anaconda prompt, and import that package to provide\n",
    "# the colors to the print statement in jupyter notebook\n",
    "\n",
    "! pip install termcolor\n",
    "\n",
    "from termcolor import colored\n",
    "print(colored(\"Hello world\",\"white\",\"on_green\"))"
   ]
  },
  {
   "cell_type": "code",
   "execution_count": null,
   "id": "46d7cd99",
   "metadata": {},
   "outputs": [],
   "source": [
    "#5  Create your own exception with the help of class and functions"
   ]
  },
  {
   "cell_type": "code",
   "execution_count": 39,
   "id": "265140f5",
   "metadata": {},
   "outputs": [
    {
     "name": "stdout",
     "output_type": "stream",
     "text": [
      "Enter any month number: 14\n",
      "You have entered invalid Month\n"
     ]
    }
   ],
   "source": [
    "class ExceptionMonth(Exception):\n",
    "    pass\n",
    "try:\n",
    "    month = int(input(\"Enter any month number: \"))\n",
    "    if(month > 12):\n",
    "        raise ExceptionMonth\n",
    "    else:\n",
    "        print(months[month-1])\n",
    "except ExceptionMonth:\n",
    "    print(\"You have entered invalid Month\")"
   ]
  },
  {
   "cell_type": "code",
   "execution_count": null,
   "id": "605aeecc",
   "metadata": {},
   "outputs": [],
   "source": []
  },
  {
   "cell_type": "code",
   "execution_count": null,
   "id": "c8e6b304",
   "metadata": {},
   "outputs": [],
   "source": []
  }
 ],
 "metadata": {
  "kernelspec": {
   "display_name": "Python 3 (ipykernel)",
   "language": "python",
   "name": "python3"
  },
  "language_info": {
   "codemirror_mode": {
    "name": "ipython",
    "version": 3
   },
   "file_extension": ".py",
   "mimetype": "text/x-python",
   "name": "python",
   "nbconvert_exporter": "python",
   "pygments_lexer": "ipython3",
   "version": "3.9.12"
  }
 },
 "nbformat": 4,
 "nbformat_minor": 5
}
