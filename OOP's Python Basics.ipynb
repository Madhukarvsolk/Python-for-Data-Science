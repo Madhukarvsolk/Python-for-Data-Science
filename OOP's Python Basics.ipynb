{
 "cells": [
  {
   "cell_type": "raw",
   "id": "49cef27b",
   "metadata": {},
   "source": [
    "Class is a logical code block which has attributes and behaviours\n",
    "\n",
    "Objects are the instances of class"
   ]
  },
  {
   "cell_type": "markdown",
   "id": "3c096aba",
   "metadata": {},
   "source": [
    "Inheritance \n",
    "\n",
    "It is a process of creating a new class which is a derivative of an existing one."
   ]
  },
  {
   "cell_type": "raw",
   "id": "33c8f5e6",
   "metadata": {},
   "source": [
    "OOP Principles\n",
    "\n",
    "This reading introduces you to the OOP principles in more detail using some examples.\n",
    "\n",
    "The object oriented paradigm was introduced in the 1960s by Alan Kay. At the time, the paradigm was not the best computing solution given the small scalability of software developed then. As the complexity of software and real-life applications improved, object oriented principles became a better solution. \n",
    "\n",
    "You previously encountered the four main pillars of object oriented programming. These are:  encapsulation, polymorphism, inheritance and abstraction. Let's look at a few examples that demonstrate how these principles translate when using Python.\n",
    "\n",
    "Encapsulation\n",
    "\n",
    "The idea of encapsulation is to have methods and variables within the bounds of a given unit. In the case of Python, this unit is called a class. And the members of a class become locally bound to that class. These concepts are better understood with scope, such as global scope (which in simple terms is the files I am working with), and local scope (which refers to the method and variables that are 'local' to a class). Encapsulation thus helps in establishing these scopes to some extent. \n",
    "\n",
    "For example, the Little Lemon company may have different departments such as inventory, marketing and accounts. And you may be required to deal with the data and operations for each of them separately. Classes and objects help in encapsulating and in turn restrict the different functionalities.\n",
    "\n",
    "Encapsulation is also used for hiding data and its internal representation. The term for this is information hiding.  Python has a way to deal with it, but it is better implemented in other programming languages such as Java and C++. Access modifiers represented by keywords such as public, private and protected are used for information hiding. The use of single and double underscores for this purpose in Python is a substitute for this practice. For example, let's examine an example of protected members in Python."
   ]
  },
  {
   "cell_type": "raw",
   "id": "2da308de",
   "metadata": {},
   "source": [
    "OOP Principles\n",
    "This reading introduces you to the OOP principles in more detail using some examples.\n",
    "\n",
    "The object oriented paradigm was introduced in the 1960s by Alan Kay. At the time, the paradigm was not the best computing solution given the small scalability of software developed then. As the complexity of software and real-life applications improved, object oriented principles became a better solution. \n",
    "\n",
    "You previously encountered the four main pillars of object oriented programming. These are:  encapsulation, polymorphism, inheritance and abstraction. Let's look at a few examples that demonstrate how these principles translate when using Python.\n",
    "\n",
    "Encapsulation\n",
    "The idea of encapsulation is to have methods and variables within the bounds of a given unit. In the case of Python, this unit is called a class. And the members of a class become locally bound to that class. These concepts are better understood with scope, such as global scope (which in simple terms is the files I am working with), and local scope (which refers to the method and variables that are 'local' to a class). Encapsulation thus helps in establishing these scopes to some extent. \n",
    "\n",
    "For example, the Little Lemon company may have different departments such as inventory, marketing and accounts. And you may be required to deal with the data and operations for each of them separately. Classes and objects help in encapsulating and in turn restrict the different functionalities.\n",
    "\n",
    "Encapsulation is also used for hiding data and its internal representation. The term for this is information hiding.  Python has a way to deal with it, but it is better implemented in other programming languages such as Java and C++. Access modifiers represented by keywords such as public, private and protected are used for information hiding. The use of single and double underscores for this purpose in Python is a substitute for this practice. For example, let's examine an example of protected members in Python.\n",
    "\n",
    "\n",
    "class Alpha:\n",
    "    def __init__(self):\n",
    "    self._a = 2.  # Protected member ‘a’\n",
    "    self.__b = 2.  # Private member ‘b’\n",
    "\n",
    "self._a is a protected member and can be accessed by the class and its subclasses.\n",
    "\n",
    "Private members in Python are conventionally used with preceding double underscores: __. self.__b is a private member of the class Alpha and can only be accessed from within the class Alpha.\n",
    "\n",
    "It should be noted that these private and protected members can still be accessed from outside of the class by using public methods to access them or by a practice known as name mangling. Name mangling is the use of two leading underscores and one trailing underscore, for example:\n",
    "\n",
    "_class__identifier \n",
    "\n",
    "Class is the name of the class and identifier is the data member that I want to access.\n",
    "\n",
    "Polymorphism\n",
    "\n",
    "Polymorphism refers to something that can have many forms. In this case, a given object. Remember that everything in Python is inherently an object, so when I talk about polymorphism, it can be an operator, method or any object of some class. I can illustrate the case for polymorphism using built-in functions and operations, for example:\n",
    "\n",
    "\n",
    "string = \"poly\"\n",
    "num = 7\n",
    "sequence = [1,2,3]\n",
    "new_str = string * 3\n",
    "new_num = 7 * 3\n",
    "new_sequence = sequence * 3\n",
    "\n",
    "print(new_str, new_num, new_sequence)\n",
    "The output is:\n",
    "\n",
    "\n",
    "polypolypoly 21 [1, 2, 3, 1, 2, 3, 1, 2, 3]\n",
    "In the example, I have used the same operator () to perform on a string, integer and a list. You can see the () operator behaves differently in all three cases.\n",
    "\n",
    "Let's examine one more example.\n",
    "\n",
    "\n",
    "string = \"poly\"\n",
    "sequence = [1,2,3]\n",
    "print(len(string))\n",
    "print(len(sequence))\n",
    "The output is:\n",
    "\n",
    "12\n",
    "4\n",
    "3\n",
    "\n",
    "The len() function is able to take variable inputs. In the example above it is a string and a list that provides the output in integer format.\n",
    "\n",
    "Inheritance\n",
    "Inheritance in Python will be covered later in the course, but the basic template for it is as follows:\n",
    "\n",
    "\n",
    "class Parent:\n",
    "    Members of the parent class\n",
    "\n",
    "class Child(Parent):\n",
    "    Inherited members from parent class\n",
    "    Additional members of the child class\n",
    "As the structure of inheritance gets more complicated, Python adheres to something called the Method Resolution Order (MRO) that determines the flow of execution. MRO is a set of rules, or an algorithm, that Python uses to implement monotonicity, which refers to the order or sequence in which the interpreter will look for the variables and functions to implement. This also helps in determining the scope of the different members of the given class.\n",
    "\n",
    "Abstraction\n",
    "Abstraction can be seen both as a means for hiding important information as well as unnecessary information in a block of code. The core of abstraction in Python is the implementation of something called abstract classes and methods, which can be implemented by inheriting from something called the abc module. \"abc\" here stands for abstract base class. It is first imported and then used as a parent class for some class that becomes an abstract class. Its simplest implementation can be done as below.\n",
    "\n",
    "\n",
    "from abc import ABC,   \n",
    "class ClassName(ABC):\n",
    "    pass\n",
    "You will cover abstraction in a little more detail later in the course. "
   ]
  },
  {
   "cell_type": "code",
   "execution_count": 16,
   "id": "1f857882",
   "metadata": {},
   "outputs": [
    {
     "name": "stdout",
     "output_type": "stream",
     "text": [
      "the number of bed_rooms are :  5\n",
      "the number of bath_rooms are :  2\n"
     ]
    }
   ],
   "source": [
    "class House:\n",
    "    '''\n",
    "    This is a stub for a class representing a house that can be used to create objects and evaluate different metrics that we may require in constructing it.\n",
    "    '''\n",
    "    num_rooms = 5\n",
    "    bathrooms = 2\n",
    "    \n",
    "    def cost_evaluation(self):\n",
    "        print(self.num_rooms)\n",
    "        pass\n",
    "        \n",
    "       \n",
    "        # Functionality to calculate the costs from the area of the house\n",
    "a = House()\n",
    "print(\"the number of bed_rooms are : \", a.num_rooms)\n",
    "print(\"the number of bath_rooms are : \", a.bathrooms)"
   ]
  },
  {
   "cell_type": "code",
   "execution_count": 12,
   "id": "f33f529e",
   "metadata": {},
   "outputs": [
    {
     "name": "stdout",
     "output_type": "stream",
     "text": [
      "7\n",
      "5\n"
     ]
    }
   ],
   "source": [
    "a.num_rooms = 7\n",
    "\n",
    "print(a.num_rooms)\n",
    "print(House.num_rooms)"
   ]
  },
  {
   "cell_type": "raw",
   "id": "582ca951",
   "metadata": {},
   "source": [
    "What has happened in the code above is, you have created an instance of a class called \"a\" and then modified the attribute for that instance with a value of 7.\n",
    "\n",
    "It updates the value of the instance attribute, but not the class attribute. \n",
    "\n",
    "So the num_rooms attribute of the class remains unchanged as 5, but the instance attribute associated with house object changes to 7. \n",
    "\n",
    "Let's now insert an alternate piece of code in this. "
   ]
  },
  {
   "cell_type": "code",
   "execution_count": 13,
   "id": "59de893d",
   "metadata": {},
   "outputs": [
    {
     "name": "stdout",
     "output_type": "stream",
     "text": [
      "7\n",
      "7\n"
     ]
    }
   ],
   "source": [
    "House.num_rooms = 7\n",
    "print(a.num_rooms)\n",
    "print(House.num_rooms)"
   ]
  },
  {
   "cell_type": "markdown",
   "id": "fccce3c9",
   "metadata": {},
   "source": [
    "# self"
   ]
  },
  {
   "cell_type": "raw",
   "id": "f15800e6",
   "metadata": {},
   "source": [
    "You will notice that the changes on a class attribute will affect even the instances that you will create over it. \n",
    "Also note the use of the keywork self  in this example. \n",
    "\n",
    "self is a convention in Python, and you may use any other word in its place, but as a practice, it is easy to recognize. \n",
    "\n",
    "self here is passed inside the method cost_evaluation() as it is an instance method and facilitates the method to point to any instance of the House when that method is called. \n",
    "\n",
    "It should be noted how any number of parameters can be passed to these instance methods but the first one is always the reference to the instance of that class."
   ]
  },
  {
   "cell_type": "code",
   "execution_count": 4,
   "id": "9384561f",
   "metadata": {},
   "outputs": [
    {
     "name": "stdout",
     "output_type": "stream",
     "text": [
      "7\n"
     ]
    }
   ],
   "source": [
    "value = 7\n",
    "class A:\n",
    "    value = 5\n",
    "a = A()\n",
    "a.value = 3\n",
    "print(value)       # Here the output is 7 because the class is'nt invoked\n",
    "\n",
    "#print(A.value)    # Here the output is 5 because the class is invoked"
   ]
  },
  {
   "cell_type": "markdown",
   "id": "4de52cb4",
   "metadata": {},
   "source": [
    "# Abstract Class"
   ]
  },
  {
   "cell_type": "code",
   "execution_count": null,
   "id": "9cc4d338",
   "metadata": {},
   "outputs": [],
   "source": [
    "      "
   ]
  }
 ],
 "metadata": {
  "kernelspec": {
   "display_name": "Python 3 (ipykernel)",
   "language": "python",
   "name": "python3"
  },
  "language_info": {
   "codemirror_mode": {
    "name": "ipython",
    "version": 3
   },
   "file_extension": ".py",
   "mimetype": "text/x-python",
   "name": "python",
   "nbconvert_exporter": "python",
   "pygments_lexer": "ipython3",
   "version": "3.9.12"
  }
 },
 "nbformat": 4,
 "nbformat_minor": 5
}
