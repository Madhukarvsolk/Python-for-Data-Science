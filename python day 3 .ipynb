{
 "cells": [
  {
   "cell_type": "raw",
   "id": "218cee40",
   "metadata": {},
   "source": [
    "conditional statements\n",
    "looping statements\n",
    "functions\n"
   ]
  },
  {
   "cell_type": "raw",
   "id": "56e24ff7",
   "metadata": {},
   "source": [
    "conditional statements-->to check something from conditional value(if-else)\n",
    "used to change the flow of execution when a provided condition is True or flase\n",
    "\n",
    "\n",
    "\n",
    "if else\n",
    "elif\n",
    "multiple if\n",
    "nested if"
   ]
  },
  {
   "cell_type": "code",
   "execution_count": null,
   "id": "e2ff17db",
   "metadata": {},
   "outputs": [],
   "source": [
    "#if else\n",
    "syntax-->if condition:\n",
    "            true statement\n",
    "         else:\n",
    "                false statement"
   ]
  },
  {
   "cell_type": "code",
   "execution_count": 7,
   "id": "2c380a46",
   "metadata": {},
   "outputs": [],
   "source": [
    "a=20\n",
    "b=10"
   ]
  },
  {
   "cell_type": "code",
   "execution_count": 10,
   "id": "de5d010c",
   "metadata": {},
   "outputs": [
    {
     "name": "stdout",
     "output_type": "stream",
     "text": [
      "a is not less than b\n"
     ]
    }
   ],
   "source": [
    "if(a<b):\n",
    "    print(\"a is less than b\")\n",
    "else:\n",
    "    print(\"a is not less than b\")"
   ]
  },
  {
   "cell_type": "code",
   "execution_count": 12,
   "id": "ed107bf6",
   "metadata": {},
   "outputs": [
    {
     "name": "stdout",
     "output_type": "stream",
     "text": [
      "Enter your age? 13\n",
      "Sorry! you have to wait !!\n"
     ]
    }
   ],
   "source": [
    "age = int (input(\"Enter your age? \"))  \n",
    "if age>=18:  \n",
    "    print(\"You are eligible to vote !!\");  \n",
    "else:  \n",
    "    print(\"Sorry! you have to wait !!\");\n"
   ]
  },
  {
   "cell_type": "code",
   "execution_count": null,
   "id": "f7583302",
   "metadata": {},
   "outputs": [],
   "source": [
    "#elif statement\n",
    "if condition:\n",
    "    statement\n",
    "elif condition:\n",
    "    statement\n",
    "elif condition:\n",
    "    statement\n",
    "else:\n",
    "    statement"
   ]
  },
  {
   "cell_type": "code",
   "execution_count": 13,
   "id": "f3fd2ec5",
   "metadata": {},
   "outputs": [
    {
     "name": "stdout",
     "output_type": "stream",
     "text": [
      "enter the value of a2\n",
      "enter the value of b2\n",
      "a is equal to b\n"
     ]
    }
   ],
   "source": [
    "a=int(input(\"enter the value of a\"))\n",
    "b=int(input(\"enter the value of b\"))\n",
    "if(a>b):\n",
    "    print(\"a is greater than b\")\n",
    "elif(b>a):\n",
    "    print(\"b is greater than a\")\n",
    "elif(a==b):     #  ==   comparing whether both the values are equal or not\n",
    "    print(\"a is equal to b\")\n",
    "else:\n",
    "    print(\"invalid data\")"
   ]
  },
  {
   "cell_type": "code",
   "execution_count": 14,
   "id": "d421960f",
   "metadata": {},
   "outputs": [],
   "source": [
    "a=10"
   ]
  },
  {
   "cell_type": "code",
   "execution_count": 16,
   "id": "c923a0e6",
   "metadata": {},
   "outputs": [
    {
     "name": "stdout",
     "output_type": "stream",
     "text": [
      "a is less than b\n"
     ]
    }
   ],
   "source": [
    "a=10\n",
    "b=111\n",
    "if(a<b):\n",
    "    print(\"a is less than b\")\n",
    "else:\n",
    "    print(\"b is less than a\")\n"
   ]
  },
  {
   "cell_type": "code",
   "execution_count": 26,
   "id": "37bcc49c",
   "metadata": {},
   "outputs": [
    {
     "name": "stdout",
     "output_type": "stream",
     "text": [
      "Enter value for a3\n",
      "Enter value for b2\n",
      "Enter value for c5\n",
      "a is greater than b and c\n"
     ]
    }
   ],
   "source": [
    "a=int(input(\"Enter value for a\"))\n",
    "b=int(input(\"Enter value for b\"))\n",
    "c=int(input(\"Enter value for c\"))\n",
    "if(a>b or a>c):\n",
    "    print(\"a is greater than b and c\")\n",
    "elif(b>a or b>c):\n",
    "    print(\"b is gretaer than a and c\")\n",
    "elif(c>a or c>b):\n",
    "    print(\"c is greater than a,b\")\n",
    "else:\n",
    "    print(\"?\")\n"
   ]
  },
  {
   "cell_type": "code",
   "execution_count": 17,
   "id": "5c0dc7ab",
   "metadata": {},
   "outputs": [],
   "source": [
    "a=10\n",
    "b=10"
   ]
  },
  {
   "cell_type": "code",
   "execution_count": 18,
   "id": "554d8680",
   "metadata": {},
   "outputs": [
    {
     "data": {
      "text/plain": [
       "True"
      ]
     },
     "execution_count": 18,
     "metadata": {},
     "output_type": "execute_result"
    }
   ],
   "source": [
    "a==b"
   ]
  },
  {
   "cell_type": "code",
   "execution_count": 29,
   "id": "6c7993e1",
   "metadata": {},
   "outputs": [
    {
     "name": "stdout",
     "output_type": "stream",
     "text": [
      "enter the job location a : bangalore\n",
      "enter the job location b : bangalore\n",
      "same country\n"
     ]
    }
   ],
   "source": [
    "a = input(\"enter the job location a : \")\n",
    "b = input(\"enter the job location b : \")\n",
    "        \n",
    "if a < b :\n",
    "        print(\"india\")\n",
    "        \n",
    "elif b < a :\n",
    "        print(\"overseas\")\n",
    "        \n",
    "elif (a==b) :\n",
    "        print(\"same country\")\n",
    "\n",
    "        \n",
    "else :\n",
    "        print(\"invalid data\")\n"
   ]
  },
  {
   "cell_type": "code",
   "execution_count": 33,
   "id": "de8996d6",
   "metadata": {},
   "outputs": [
    {
     "name": "stdout",
     "output_type": "stream",
     "text": [
      "Enter the country:Brazil\n",
      "South America\n"
     ]
    }
   ],
   "source": [
    "a=(input(\"Enter the country:\"))\n",
    "if(a==\"Canada\"):\n",
    "    print(\"North America\")\n",
    "if(a==\"India\"):\n",
    "    print(\"South Asia\")\n",
    "if(a==\"Brazil\"):\n",
    "    print(\"South America\")\n",
    "else:\n",
    "    print(\"Anywhere\")\n",
    "    \n",
    "    \n"
   ]
  },
  {
   "cell_type": "code",
   "execution_count": 42,
   "id": "fdedff68",
   "metadata": {},
   "outputs": [
    {
     "name": "stdout",
     "output_type": "stream",
     "text": [
      "Enter the day:1\n",
      "Today is Monday\n"
     ]
    }
   ],
   "source": [
    "day=(int(input(\"Enter the day:\")))\n",
    "\n",
    "if day==1:\n",
    "    print(\"Today is Monday\")\n",
    "elif day==2:\n",
    "    print(\"Today is Tuesday\")\n",
    "elif day==3:\n",
    "    print(\"Today is wedesday\")\n",
    "elif day==4:\n",
    "    print(\"Today is thrusday\")\n",
    "elif day==5:\n",
    "    print(\"Today is friday\")\n",
    "elif day==6:\n",
    "    print(\"Today is saturday\")\n",
    "else:\n",
    "    print(\"Today is Sunday\")\n"
   ]
  },
  {
   "cell_type": "code",
   "execution_count": 38,
   "id": "534913ce",
   "metadata": {},
   "outputs": [
    {
     "name": "stdout",
     "output_type": "stream",
     "text": [
      "Enter the day:1\n"
     ]
    }
   ],
   "source": [
    "day=(int(input(\"Enter the day:\")))"
   ]
  },
  {
   "cell_type": "code",
   "execution_count": null,
   "id": "0fbcdc74",
   "metadata": {},
   "outputs": [],
   "source": []
  },
  {
   "cell_type": "code",
   "execution_count": null,
   "id": "698bc897",
   "metadata": {},
   "outputs": [],
   "source": []
  },
  {
   "cell_type": "raw",
   "id": "0eed44f7",
   "metadata": {},
   "source": [
    "#multiple if\n",
    "if condition:\n",
    "    task\n",
    "if condition:\n",
    "    task\n",
    "if condition:\n",
    "    task\n",
    "else:\n",
    "    task"
   ]
  },
  {
   "cell_type": "code",
   "execution_count": null,
   "id": "637fbc32",
   "metadata": {},
   "outputs": [],
   "source": [
    "#nested if statement\n",
    "if condition:\n",
    "    if condition2:\n",
    "        task 1\n",
    "    else:\n",
    "        task 2\n",
    "else:\n",
    "    task 3"
   ]
  },
  {
   "cell_type": "code",
   "execution_count": 44,
   "id": "5d828870",
   "metadata": {},
   "outputs": [
    {
     "name": "stdout",
     "output_type": "stream",
     "text": [
      "enter the value:-1\n",
      "num is negative\n"
     ]
    }
   ],
   "source": [
    "num=int(input(\"enter the value:\"))\n",
    "if(num>=0):\n",
    "    if(num==0):\n",
    "        print(\"entered num is 0\")\n",
    "    else:\n",
    "        print(\"num is positive\")\n",
    "else:\n",
    "    print(\"num is negative\")"
   ]
  },
  {
   "cell_type": "markdown",
   "id": "bd6ec3bc",
   "metadata": {},
   "source": [
    "# Looping statement"
   ]
  },
  {
   "cell_type": "raw",
   "id": "5c67bd9c",
   "metadata": {},
   "source": [
    "while \n",
    "for"
   ]
  },
  {
   "cell_type": "code",
   "execution_count": null,
   "id": "1bb47be8",
   "metadata": {},
   "outputs": [],
   "source": [
    "while expression:\n",
    "    statement"
   ]
  },
  {
   "cell_type": "code",
   "execution_count": 1,
   "id": "4d5370af",
   "metadata": {},
   "outputs": [
    {
     "name": "stdout",
     "output_type": "stream",
     "text": [
      "1\n",
      "2\n",
      "3\n",
      "4\n",
      "5\n",
      "6\n",
      "7\n",
      "8\n",
      "9\n"
     ]
    }
   ],
   "source": [
    "g = 1\n",
    "while g < 10:\n",
    "    print(g)\n",
    "    g += 1\n"
   ]
  },
  {
   "cell_type": "code",
   "execution_count": 4,
   "id": "d5ce872a",
   "metadata": {},
   "outputs": [
    {
     "name": "stdout",
     "output_type": "stream",
     "text": [
      "intellipaat 0\n",
      "intellipaat 1\n",
      "intellipaat 2\n",
      "intellipaat 3\n",
      "intellipaat 4\n",
      "intellipaat 5\n",
      "intellipaat 6\n",
      "intellipaat 7\n",
      "intellipaat 8\n",
      "intellipaat 9\n"
     ]
    }
   ],
   "source": [
    "i=0\n",
    "while(i<10):\n",
    "    print(\"intellipaat\",i)\n",
    "    i=i+1"
   ]
  },
  {
   "cell_type": "code",
   "execution_count": null,
   "id": "7ad69628",
   "metadata": {},
   "outputs": [],
   "source": [
    "for loop\n"
   ]
  },
  {
   "cell_type": "code",
   "execution_count": null,
   "id": "24800d2d",
   "metadata": {},
   "outputs": [],
   "source": [
    "for iterate_var in condition:\n",
    "    statement"
   ]
  },
  {
   "cell_type": "code",
   "execution_count": 5,
   "id": "42eb3843",
   "metadata": {},
   "outputs": [
    {
     "data": {
      "text/plain": [
       "range(0, 5)"
      ]
     },
     "execution_count": 5,
     "metadata": {},
     "output_type": "execute_result"
    }
   ],
   "source": [
    "range(5)   #start=0 end=n-1"
   ]
  },
  {
   "cell_type": "code",
   "execution_count": 6,
   "id": "8e041aa1",
   "metadata": {},
   "outputs": [
    {
     "data": {
      "text/plain": [
       "range(0, 5)"
      ]
     },
     "execution_count": 6,
     "metadata": {},
     "output_type": "execute_result"
    }
   ],
   "source": [
    "range(0,5)"
   ]
  },
  {
   "cell_type": "code",
   "execution_count": 11,
   "id": "35bf485f",
   "metadata": {},
   "outputs": [
    {
     "name": "stdout",
     "output_type": "stream",
     "text": [
      "python 5\n",
      "python 8\n"
     ]
    }
   ],
   "source": [
    "for i in range(5,10,3):\n",
    "    print(\"python\",i)"
   ]
  },
  {
   "cell_type": "code",
   "execution_count": 14,
   "id": "c2a7fdc1",
   "metadata": {},
   "outputs": [
    {
     "data": {
      "text/plain": [
       "range(0, 10)"
      ]
     },
     "execution_count": 14,
     "metadata": {},
     "output_type": "execute_result"
    }
   ],
   "source": [
    "range(10)"
   ]
  },
  {
   "cell_type": "code",
   "execution_count": 12,
   "id": "b993f0c1",
   "metadata": {},
   "outputs": [
    {
     "name": "stdout",
     "output_type": "stream",
     "text": [
      "0\n",
      "1\n",
      "2\n",
      "3\n",
      "4\n"
     ]
    }
   ],
   "source": [
    "for i in range(10):\n",
    "    if(i==5):\n",
    "        break\n",
    "    else:\n",
    "        print(i)"
   ]
  },
  {
   "cell_type": "code",
   "execution_count": 13,
   "id": "83116af2",
   "metadata": {},
   "outputs": [
    {
     "name": "stdout",
     "output_type": "stream",
     "text": [
      "0\n",
      "1\n",
      "2\n",
      "3\n",
      "4\n",
      "6\n",
      "7\n",
      "8\n",
      "9\n"
     ]
    }
   ],
   "source": [
    "for i in range(10):\n",
    "    if(i==5):\n",
    "        continue\n",
    "    else:\n",
    "        print(i)"
   ]
  },
  {
   "cell_type": "code",
   "execution_count": null,
   "id": "23cc4191",
   "metadata": {},
   "outputs": [],
   "source": []
  }
 ],
 "metadata": {
  "kernelspec": {
   "display_name": "Python 3 (ipykernel)",
   "language": "python",
   "name": "python3"
  },
  "language_info": {
   "codemirror_mode": {
    "name": "ipython",
    "version": 3
   },
   "file_extension": ".py",
   "mimetype": "text/x-python",
   "name": "python",
   "nbconvert_exporter": "python",
   "pygments_lexer": "ipython3",
   "version": "3.9.12"
  }
 },
 "nbformat": 4,
 "nbformat_minor": 5
}
