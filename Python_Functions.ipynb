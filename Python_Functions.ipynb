{
 "cells": [
  {
   "cell_type": "code",
   "execution_count": 1,
   "id": "66e642c9",
   "metadata": {},
   "outputs": [],
   "source": [
    "# FUNCTIONS IN PYTHON"
   ]
  },
  {
   "cell_type": "code",
   "execution_count": 2,
   "id": "c960452c",
   "metadata": {},
   "outputs": [
    {
     "name": "stdout",
     "output_type": "stream",
     "text": [
      "8\n"
     ]
    }
   ],
   "source": [
    "def multiply(a):\n",
    "    b=a*2\n",
    "    print(b)\n",
    "multiply(4)"
   ]
  },
  {
   "cell_type": "code",
   "execution_count": 3,
   "id": "f898484e",
   "metadata": {},
   "outputs": [
    {
     "name": "stdout",
     "output_type": "stream",
     "text": [
      "10.33\n",
      "10.33\n",
      "10\n",
      "10\n"
     ]
    }
   ],
   "source": [
    "#Built-in-functions\n",
    "\n",
    "a=abs(10.33)\n",
    "b=abs(-10.33)\n",
    "c=abs(10)\n",
    "d=abs(-10)\n",
    "\n",
    "print(a)\n",
    "print(b)\n",
    "print(c)\n",
    "print(d)\n"
   ]
  },
  {
   "cell_type": "code",
   "execution_count": 4,
   "id": "1c246540",
   "metadata": {},
   "outputs": [
    {
     "data": {
      "text/plain": [
       "5"
      ]
     },
     "execution_count": 4,
     "metadata": {},
     "output_type": "execute_result"
    }
   ],
   "source": [
    "a=[12,44,55,\"mad\",\"kohli\"]\n",
    "len(a)"
   ]
  },
  {
   "cell_type": "code",
   "execution_count": 5,
   "id": "624f77aa",
   "metadata": {},
   "outputs": [
    {
     "name": "stdout",
     "output_type": "stream",
     "text": [
      "True\n",
      "False\n"
     ]
    }
   ],
   "source": [
    "a=[1,1,1,1]\n",
    "print(all(a))\n",
    "\n",
    "b=[1,0,1,0]\n",
    "print(all(b))"
   ]
  },
  {
   "cell_type": "code",
   "execution_count": 6,
   "id": "c7f0358c",
   "metadata": {},
   "outputs": [
    {
     "name": "stdout",
     "output_type": "stream",
     "text": [
      "39\n",
      "8\n",
      "1\n"
     ]
    }
   ],
   "source": [
    "a=[1,2,3,4,5,2,3,4,7,8]\n",
    "print(sum(a))\n",
    "print(max(a))\n",
    "print(min(a))"
   ]
  },
  {
   "cell_type": "code",
   "execution_count": 7,
   "id": "ef3c7404",
   "metadata": {},
   "outputs": [
    {
     "name": "stdout",
     "output_type": "stream",
     "text": [
      "I\n",
      "N\n",
      "D\n",
      "I\n",
      "A\n"
     ]
    }
   ],
   "source": [
    "#iter\n",
    "\n",
    "a=iter([\"I\",\"N\",\"D\",\"I\",\"A\"])\n",
    "print(next(a))\n",
    "print(next(a))\n",
    "print(next(a))\n",
    "print(next(a))\n",
    "print(next(a))"
   ]
  },
  {
   "cell_type": "code",
   "execution_count": 8,
   "id": "6085a6eb",
   "metadata": {},
   "outputs": [
    {
     "name": "stdout",
     "output_type": "stream",
     "text": [
      "8\n",
      "129110040087761027839616029934664535539337183380513\n"
     ]
    }
   ],
   "source": [
    "a=pow(2,3)\n",
    "b=pow(33,33)\n",
    "print(a)\n",
    "print(b)"
   ]
  },
  {
   "cell_type": "code",
   "execution_count": 9,
   "id": "b87d5245",
   "metadata": {},
   "outputs": [
    {
     "name": "stdout",
     "output_type": "stream",
     "text": [
      "0\n",
      "1\n",
      "2\n",
      "3\n",
      "4\n",
      "5\n"
     ]
    }
   ],
   "source": [
    "a=range(6)\n",
    "for n in a:\n",
    "    print(n)\n"
   ]
  },
  {
   "cell_type": "code",
   "execution_count": 10,
   "id": "682e9846",
   "metadata": {},
   "outputs": [
    {
     "name": "stdout",
     "output_type": "stream",
     "text": [
      "1\n",
      "3\n",
      "5\n",
      "7\n",
      "9\n"
     ]
    }
   ],
   "source": [
    "a=range(1,10,2)\n",
    "for i in a:\n",
    "    print(i)"
   ]
  },
  {
   "cell_type": "code",
   "execution_count": 11,
   "id": "0d45d140",
   "metadata": {},
   "outputs": [
    {
     "name": "stdout",
     "output_type": "stream",
     "text": [
      "2.35\n",
      "2.1234544\n"
     ]
    }
   ],
   "source": [
    "a=round(2.345678,2)\n",
    "b=round(2.1234544226789,7)\n",
    "\n",
    "print(a)\n",
    "print(b)"
   ]
  },
  {
   "cell_type": "code",
   "execution_count": 12,
   "id": "23efcea8",
   "metadata": {},
   "outputs": [
    {
     "name": "stdout",
     "output_type": "stream",
     "text": [
      "['A', 'D', 'I', 'I', 'N']\n",
      "['N', 'I', 'I', 'D', 'A']\n",
      "['A', 'D', 'I', 'I', 'N']\n"
     ]
    }
   ],
   "source": [
    "l=[\"I\",\"N\",\"D\", \"I\", \"A\"]\n",
    "\n",
    "print(sorted(l))\n",
    "print(sorted(l,reverse=True))\n",
    "print(sorted(l,reverse=False))"
   ]
  },
  {
   "cell_type": "code",
   "execution_count": 13,
   "id": "3843a30d",
   "metadata": {},
   "outputs": [
    {
     "name": "stdout",
     "output_type": "stream",
     "text": [
      "[2, 5, 6, 8, 12, 33, 45, 88, 99]\n",
      "[99, 88, 45, 33, 12, 8, 6, 5, 2]\n"
     ]
    }
   ],
   "source": [
    "l=[2,5,8,12,45,6,33,88,99]\n",
    "print(sorted(l))\n",
    "print(sorted(l,reverse=True))"
   ]
  },
  {
   "cell_type": "code",
   "execution_count": 14,
   "id": "c33ee58d",
   "metadata": {},
   "outputs": [
    {
     "data": {
      "text/plain": [
       "('m', 'a', 'd', 'h', 'u')"
      ]
     },
     "execution_count": 14,
     "metadata": {},
     "output_type": "execute_result"
    }
   ],
   "source": [
    "t=(\"m\",\"a\",\"d\",\"h\",\"u\",\"k\",\"a\",\"r\")\n",
    "t[slice(5)]"
   ]
  },
  {
   "cell_type": "code",
   "execution_count": 15,
   "id": "1446b0b7",
   "metadata": {},
   "outputs": [],
   "source": [
    "#user defined functions"
   ]
  },
  {
   "cell_type": "code",
   "execution_count": 16,
   "id": "bd2d4810",
   "metadata": {},
   "outputs": [
    {
     "name": "stdout",
     "output_type": "stream",
     "text": [
      "Your name is Madhukar V\n",
      "Hello Madhukar V\n"
     ]
    }
   ],
   "source": [
    "def hello():\n",
    "    name=str(input(\"Your name is \"))\n",
    "    print(\"Hello\", name)\n",
    "    return \n",
    "hello()\n"
   ]
  },
  {
   "cell_type": "code",
   "execution_count": 17,
   "id": "dd0b1228",
   "metadata": {},
   "outputs": [
    {
     "name": "stdout",
     "output_type": "stream",
     "text": [
      "22220\n",
      "23\n"
     ]
    }
   ],
   "source": [
    "def absolute(a):\n",
    "    if a>=0:\n",
    "        return a\n",
    "    else:\n",
    "        return -a\n",
    "print(absolute(22220))\n",
    "print(absolute(-23))"
   ]
  },
  {
   "cell_type": "code",
   "execution_count": 18,
   "id": "8b488df8",
   "metadata": {},
   "outputs": [
    {
     "name": "stdout",
     "output_type": "stream",
     "text": [
      "apple\n",
      "mango\n",
      "banana\n"
     ]
    }
   ],
   "source": [
    "def my_function(food):\n",
    "    for x in food:\n",
    "        print(x)\n",
    "\n",
    "food = ['apple', 'mango', 'banana']\n",
    "my_function(food)"
   ]
  },
  {
   "cell_type": "code",
   "execution_count": 19,
   "id": "83ffce58",
   "metadata": {},
   "outputs": [
    {
     "name": "stdout",
     "output_type": "stream",
     "text": [
      "22\n",
      "37\n"
     ]
    }
   ],
   "source": [
    "def multiply(a):\n",
    "    return a*5+7\n",
    "print(multiply(3))\n",
    "print(multiply(6))\n",
    "\n",
    "#try this \n",
    "#multiply(3)\n",
    "#multiply(6)\n",
    "#multiply(0)"
   ]
  },
  {
   "cell_type": "code",
   "execution_count": 20,
   "id": "c3e290ca",
   "metadata": {},
   "outputs": [
    {
     "name": "stdout",
     "output_type": "stream",
     "text": [
      "I am from India\n"
     ]
    }
   ],
   "source": [
    "def my_country(country=\"India\"):\n",
    "    print(\"I am from\", country)\n",
    "    \n",
    "my_country()\n",
    "#my_country(\"Srilanka\")\n",
    "#my_country()\n",
    "#my_country(\"Singapour\")"
   ]
  },
  {
   "cell_type": "code",
   "execution_count": 21,
   "id": "77e6239b",
   "metadata": {},
   "outputs": [
    {
     "name": "stdout",
     "output_type": "stream",
     "text": [
      "[1, 2, 3, 4]\n",
      "[1, 2, 3, 4]\n",
      "[1, 2, 3, 4]\n",
      "madhu\n",
      "madhu\n",
      "madhu\n",
      "3\n",
      "3\n",
      "3\n"
     ]
    }
   ],
   "source": [
    "def print_many(x, y):\n",
    "    \n",
    "   for i in range(y):\n",
    "    print(x)\n",
    "\n",
    "z = 3\n",
    "print_many([1,2,3,4],z)\n",
    "print_many(\"madhu\",z)\n",
    "print_many(3,z)"
   ]
  },
  {
   "cell_type": "code",
   "execution_count": 22,
   "id": "8882faa0",
   "metadata": {},
   "outputs": [],
   "source": [
    "#Returning a value from a function\n"
   ]
  },
  {
   "cell_type": "code",
   "execution_count": 23,
   "id": "649dd557",
   "metadata": {},
   "outputs": [
    {
     "data": {
      "text/plain": [
       "25"
      ]
     },
     "execution_count": 23,
     "metadata": {},
     "output_type": "execute_result"
    }
   ],
   "source": [
    "def square(x):\n",
    "    y = x * x\n",
    "    return y\n",
    "\n",
    "#toSquare = 10\n",
    "#result = square(toSquare)\n",
    "#print(\"The result of {} squared is {}.\".format(toSquare, result))\n",
    "\n",
    "square(5)"
   ]
  },
  {
   "cell_type": "code",
   "execution_count": 24,
   "id": "e7c93d02",
   "metadata": {},
   "outputs": [
    {
     "name": "stdout",
     "output_type": "stream",
     "text": [
      "here\n",
      "9\n"
     ]
    }
   ],
   "source": [
    "# After Return, nothing prints, no code executes\n",
    "\n",
    "def weird():\n",
    "    print(\"here\")\n",
    "    return 9\n",
    "    print(\"there\")\n",
    "    return 4 \n",
    "\n",
    "x = weird()\n",
    "print(x)\n"
   ]
  },
  {
   "cell_type": "code",
   "execution_count": 25,
   "id": "b6c069d1",
   "metadata": {},
   "outputs": [
    {
     "name": "stdout",
     "output_type": "stream",
     "text": [
      "False\n",
      "True\n"
     ]
    }
   ],
   "source": [
    "def longer_than_five(list_of_names):\n",
    "    for name in list_of_names: # iterate over the list to look at each name\n",
    "        if len(name) > 5: # as soon as you see a name longer than 5 letters,\n",
    "            return True # then return True!\n",
    "            # If Python executes that return statement, the function is over and the rest of the code will not run -- you already have your answer!\n",
    "    return False # You will only get to this line if you\n",
    "    # iterated over the whole list and did not get a name where\n",
    "    # the if expression evaluated to True, so at this point, it's correct to return False!\n",
    "\n",
    "# Here are a couple sample calls to the function with different lists of names. Try running this code in Codelens a few times and make sure you understand exactly what is happening.\n",
    "\n",
    "list1 = [\"Sam\",\"Tera\",\"Sal\",\"Amita\"]\n",
    "list2 = [\"Rey\",\"Ayo\",\"Lauren\",\"Natalie\"]\n",
    "\n",
    "print(longer_than_five(list1))\n",
    "print(longer_than_five(list2))\n"
   ]
  },
  {
   "cell_type": "code",
   "execution_count": 26,
   "id": "3a56d53b",
   "metadata": {},
   "outputs": [
    {
     "name": "stdout",
     "output_type": "stream",
     "text": [
      "True\n",
      "False\n"
     ]
    }
   ],
   "source": [
    "def xyz(abc):\n",
    "    for i in abc:\n",
    "        if len(abc) > 3:\n",
    "            return True\n",
    "        return False\n",
    "    \n",
    "print(xyz([1,2,3,4,5]))\n",
    "print(xyz([\"madhu\",\"svarat\"]))"
   ]
  },
  {
   "cell_type": "code",
   "execution_count": 27,
   "id": "769a3c64",
   "metadata": {},
   "outputs": [
    {
     "name": "stdout",
     "output_type": "stream",
     "text": [
      "50\n"
     ]
    }
   ],
   "source": [
    "def square(x):\n",
    "    y = x * x\n",
    "    return y\n",
    "\n",
    "print(square(5) + square(5))"
   ]
  },
  {
   "cell_type": "code",
   "execution_count": 28,
   "id": "fbb92125",
   "metadata": {},
   "outputs": [
    {
     "name": "stdout",
     "output_type": "stream",
     "text": [
      "Second one was at least as long\n"
     ]
    }
   ],
   "source": [
    "def cyu2(s1, s2):\n",
    "    x = len(s1)\n",
    "    y = len(s2)\n",
    "    return x-y\n",
    "\n",
    "z = cyu2([1,2,3,4], [2,3,4,5,6,7])\n",
    "if z > 0:\n",
    "    print(\"First one was longer\")\n",
    "else:\n",
    "    print(\"Second one was at least as long\")"
   ]
  },
  {
   "cell_type": "code",
   "execution_count": 29,
   "id": "a7a2c285",
   "metadata": {},
   "outputs": [
    {
     "name": "stdout",
     "output_type": "stream",
     "text": [
      "g\n",
      "square\n",
      "25\n"
     ]
    }
   ],
   "source": [
    "def square(x):\n",
    "    print(\"square\")\n",
    "    return x*x\n",
    "\n",
    "def g(y):\n",
    "    print(\"g\")\n",
    "    return y + 3\n",
    "\n",
    "print(square(g(2)))"
   ]
  },
  {
   "cell_type": "code",
   "execution_count": 30,
   "id": "caad8ddb",
   "metadata": {},
   "outputs": [
    {
     "name": "stdout",
     "output_type": "stream",
     "text": [
      "10\n",
      "Next we'll accumulate the sum\n"
     ]
    },
    {
     "data": {
      "text/plain": [
       "9"
      ]
     },
     "execution_count": 30,
     "metadata": {},
     "output_type": "execute_result"
    }
   ],
   "source": [
    "def show_me_numbers(list_of_ints):\n",
    "    print(10)\n",
    "    print(\"Next we'll accumulate the sum\")\n",
    "    accum = 0\n",
    "    for num in list_of_ints:\n",
    "        accum = accum + num\n",
    "    return accum\n",
    "    print(\"All done with accumulation!\")\n",
    "\n",
    "show_me_numbers([4,2,3])"
   ]
  },
  {
   "cell_type": "code",
   "execution_count": 31,
   "id": "4bc72bb0",
   "metadata": {},
   "outputs": [
    {
     "name": "stdout",
     "output_type": "stream",
     "text": [
      "121\n",
      "11\n",
      "y\n",
      "x\n",
      "121\n",
      "11\n",
      "y\n",
      "x\n",
      "121\n"
     ]
    }
   ],
   "source": [
    "# Difference between \"return\" and \"print\"\n",
    "# Return and Print\n",
    "def square(x):\n",
    "    #print(\"square\")\n",
    "    return x*x\n",
    "square(5)\n",
    "\n",
    "# After Print, Return can still function \n",
    "\n",
    "def square(x):\n",
    "    return x*x\n",
    "    print(\"square\")\n",
    "square(6)   \n",
    "\n",
    "# After Return, nothing prints, no code executes\n",
    "\n",
    "def square(x):\n",
    "    y=x*x\n",
    "    print(\"y\")\n",
    "    print(\"x\")\n",
    "    return y\n",
    "\n",
    "#square(2)\n",
    "#print(square(2))\n",
    "\n",
    "# Print executes the variables, Return executes the Output\n",
    "\n",
    "def square(x):\n",
    "    y=x*x\n",
    "    print(\"y\")\n",
    "    print(\"x\")\n",
    "\n",
    "#square(4)\n",
    "#print(square(4))\n",
    "\n",
    "# Return executes the Output\n",
    "\n",
    "def square(x):\n",
    "    y=x*x\n",
    "    print(y)\n",
    "    print(x)\n",
    "\n",
    "# square(8)\n",
    "#print(square(8))\n",
    "\n",
    "# I called a function, it printed the values with proper output\n",
    "# Print statement prints the value that passed into function variable.\n",
    "# y is different (value), \"y\" is different (statements)\n",
    "\n",
    "def square(x):\n",
    "    y=x*x\n",
    "    print(y)\n",
    "    print(x)\n",
    "    print(\"y\")\n",
    "    print(\"x\")\n",
    "\n",
    "#square(9)\n",
    "#print(square(9))\n",
    "\n",
    "# I called 'for print the function', it gave \"none\". \n",
    "# It is because, 'return' will execute the function parameters we passed into the function.\n",
    "# whereas 'print' cannot do that operation. it can only read that as statements.\n",
    "\n",
    "def square(x):\n",
    "    y=x*x\n",
    "    print(y)\n",
    "    print(x)\n",
    "    print(\"y\")\n",
    "    print(\"x\")\n",
    "    return y\n",
    "square(11)\n",
    "print(square(11))\n",
    "\n",
    "# here, because of return statement after print,\n",
    "# return statement will help print header line to execute the function.\n",
    "# if no return statement, print asks for you \"none\",\n",
    "# it has no support from anything to execte the function."
   ]
  },
  {
   "cell_type": "code",
   "execution_count": 32,
   "id": "524e3840",
   "metadata": {},
   "outputs": [
    {
     "data": {
      "text/plain": [
       "45"
      ]
     },
     "execution_count": 32,
     "metadata": {},
     "output_type": "execute_result"
    }
   ],
   "source": [
    "def mylist(lst):\n",
    "    n=0\n",
    "    for i in lst:\n",
    "        n=n+i\n",
    "    #print(n)\n",
    "    return n\n",
    "\n",
    "mylist([1,2,3,4,5,6,7,8,9])"
   ]
  },
  {
   "cell_type": "code",
   "execution_count": 33,
   "id": "c94078af",
   "metadata": {},
   "outputs": [
    {
     "name": "stdout",
     "output_type": "stream",
     "text": [
      "5\n"
     ]
    }
   ],
   "source": [
    "# Scope of the function variables\n",
    "\n",
    "#def square(x):\n",
    "    #y=x*x\n",
    "    #return y\n",
    "#z=square(10)\n",
    "#print(y)\n",
    "\n",
    "# --> the above function gives error because,\n",
    "# the variables assigned in the function defination are limited only to\n",
    "# those \"local variables\" andnot for \"global\"\n",
    "# scope of the variable \"y\" is local to the function \"square\",\n",
    "# and so,it cannot access the statement \"print(y)\"\n",
    " \n",
    "def square(x): #formal parameter \"x\", got its value from 10 which goes into\n",
    "               #local namespace for the invocation of square,\n",
    "               #even y being 100 will be in local stack frame\n",
    "    y=x*x      \n",
    "    return y\n",
    "\n",
    "# suppose if \"y\" is defined outside of function like below,\n",
    "\n",
    "y=5           # global frame with defined invocations and assignments \"y\"\n",
    "z=square(10)  # global frame with defined name \"square\"\n",
    "print(y)\n",
    "\n",
    "# output will be 5,not 100 as we expect,\n",
    "# it is due to namespace concept in python"
   ]
  },
  {
   "cell_type": "code",
   "execution_count": 34,
   "id": "38114b05",
   "metadata": {},
   "outputs": [
    {
     "name": "stdout",
     "output_type": "stream",
     "text": [
      "5\n"
     ]
    }
   ],
   "source": [
    "# About Global name - \n",
    "\n",
    "# there is one unique global level namespace rest followed \n",
    "# by the invocations of new namespace\n",
    "def square(x):\n",
    "    w=q+1    # Assigned some values \"q\", \"x\" in the local variable \"w\" and \"y\"\n",
    "    y=x*x    # Whereas \"q\" is assigned with some values \"7\" in Global frame\n",
    "    return y\n",
    "\n",
    "y=5 # \"y\" is also read as global variable due to defining outside of function body\n",
    "q=7 # \"q\" is read as global variable due to defining outside of function body\n",
    "z=square(10)\n",
    "print(y)\n",
    "            \n",
    "# Since it confuses, it is better to avoid the reference of global variables\n",
    "# in the local variables or inside the function defination. \n",
    "# better to create a different formal parameters in the function body\n"
   ]
  },
  {
   "cell_type": "code",
   "execution_count": 35,
   "id": "490750a8",
   "metadata": {},
   "outputs": [
    {
     "data": {
      "text/plain": [
       "21"
      ]
     },
     "execution_count": 35,
     "metadata": {},
     "output_type": "execute_result"
    }
   ],
   "source": [
    "# Function can call another function; it is called as composition\n",
    "\n",
    "def square(x):\n",
    "    y=x*x\n",
    "    return y             # function 1\n",
    "\n",
    "def sum_square(x,y,z):   # function 2\n",
    "    a=square(x)          # involving function 1 in function 1 \n",
    "    b=square(y)\n",
    "    c=square(z)\n",
    "    return (a+b+c)\n",
    "\n",
    "sum_square(1,2,4)"
   ]
  },
  {
   "cell_type": "code",
   "execution_count": 36,
   "id": "fc71939c",
   "metadata": {},
   "outputs": [
    {
     "data": {
      "text/plain": [
       "2"
      ]
     },
     "execution_count": 36,
     "metadata": {},
     "output_type": "execute_result"
    }
   ],
   "source": [
    "# Write a function called int_return that takes an integer as input and returns the same integer.\n",
    "\n",
    "def int_return(x):\n",
    "    return x\n",
    "\n",
    "int_return(2)"
   ]
  },
  {
   "cell_type": "code",
   "execution_count": 37,
   "id": "80514ebd",
   "metadata": {},
   "outputs": [
    {
     "data": {
      "text/plain": [
       "8"
      ]
     },
     "execution_count": 37,
     "metadata": {},
     "output_type": "execute_result"
    }
   ],
   "source": [
    "# Write a function called add that takes any number as its input and returns that sum with 2 added.\n",
    "\n",
    "def add(x):\n",
    "    y = x+2\n",
    "    return y\n",
    "add(6)"
   ]
  },
  {
   "cell_type": "code",
   "execution_count": 38,
   "id": "8c037f10",
   "metadata": {},
   "outputs": [
    {
     "data": {
      "text/plain": [
       "'Hello, Nice to meet you!'"
      ]
     },
     "execution_count": 38,
     "metadata": {},
     "output_type": "execute_result"
    }
   ],
   "source": [
    "# Write a function called change that takes any string, adds “Nice to meet you!” to the end of the argument given, and returns that new string.\n",
    "\n",
    "def change(x):\n",
    "    y = x + \"Nice to meet you!\"\n",
    "    return y\n",
    "change(\"Hello, \")"
   ]
  },
  {
   "cell_type": "code",
   "execution_count": 39,
   "id": "013af5dd",
   "metadata": {},
   "outputs": [
    {
     "data": {
      "text/plain": [
       "6"
      ]
     },
     "execution_count": 39,
     "metadata": {},
     "output_type": "execute_result"
    }
   ],
   "source": [
    "# Write a function, accum, that takes a list of integers as input and returns the sum of those integers.\n",
    "\n",
    "def accum(l):\n",
    "    y = sum(l)\n",
    "    return y\n",
    "\n",
    "accum([1,2,3])\n"
   ]
  },
  {
   "cell_type": "code",
   "execution_count": 40,
   "id": "73b75eaa",
   "metadata": {},
   "outputs": [
    {
     "data": {
      "text/plain": [
       "'longer than 5'"
      ]
     },
     "execution_count": 40,
     "metadata": {},
     "output_type": "execute_result"
    }
   ],
   "source": [
    "# Write a function, length, that takes in a list as the input. If the length of the list is greater than or equal to 5, return “Longer than 5”. If the length is less than 5, return “Less than 5”.\n",
    "\n",
    "def length(l):\n",
    "    if len(l)>=5:\n",
    "        return (\"longer than 5\")\n",
    "    else:\n",
    "        return (\"lesser than 5\")\n",
    "\n",
    "length([1,2,3,4,5,6,8,9])"
   ]
  },
  {
   "cell_type": "code",
   "execution_count": 41,
   "id": "14c6c65f",
   "metadata": {},
   "outputs": [
    {
     "data": {
      "text/plain": [
       "'Longer than 5'"
      ]
     },
     "execution_count": 41,
     "metadata": {},
     "output_type": "execute_result"
    }
   ],
   "source": [
    "def length(x):\n",
    "    for i in x:\n",
    "        if len(x) >= 5:\n",
    "            return \"Longer than 5\"\n",
    "        else:\n",
    "            return \"Less than 5\"\n",
    "length([1,2,3,4,5,6,7])"
   ]
  },
  {
   "cell_type": "code",
   "execution_count": 42,
   "id": "a1f1a63e",
   "metadata": {},
   "outputs": [
    {
     "data": {
      "text/plain": [
       "'less than 5'"
      ]
     },
     "execution_count": 42,
     "metadata": {},
     "output_type": "execute_result"
    }
   ],
   "source": [
    "def length(l):\n",
    "    if len(l) >= 5:\n",
    "        return 'longer than 5'\n",
    "    return 'less than 5'\n",
    "length([1,2,4,6])"
   ]
  },
  {
   "cell_type": "code",
   "execution_count": 43,
   "id": "5ca0a48e",
   "metadata": {},
   "outputs": [
    {
     "data": {
      "text/plain": [
       "15.0"
      ]
     },
     "execution_count": 43,
     "metadata": {},
     "output_type": "execute_result"
    }
   ],
   "source": [
    "# You will need to write two functions for this problem. \n",
    "#The first function, divide that takes in any number and returns \n",
    "#that same number divided by 2. \n",
    "#The second function called sum should take any number, divide it by 2, \n",
    "#and add 6. It should return this new number. \n",
    "#You should call the divide function within the sum function. \n",
    "#Do not worry about decimals.\n",
    "\n",
    "\n",
    "def divide(x):\n",
    "    y = x/2\n",
    "    return y\n",
    "\n",
    "def sumy(z):\n",
    "    q = divide(z) + 6\n",
    "    return q\n",
    "\n",
    "sumy(18)\n"
   ]
  },
  {
   "cell_type": "markdown",
   "id": "6cd529c0",
   "metadata": {},
   "source": [
    "Loops with Functions"
   ]
  },
  {
   "cell_type": "code",
   "execution_count": 1,
   "id": "ee5064e7",
   "metadata": {},
   "outputs": [
    {
     "name": "stdout",
     "output_type": "stream",
     "text": [
      "15\n"
     ]
    }
   ],
   "source": [
    "# Python program to compute\n",
    "# sum of digits in number.\n",
    "\n",
    "def sumDigits(no):\n",
    "\treturn 0 if no == 0 else int(no % 10) + sumDigits(int(no / 10))\n",
    "\n",
    "# Driver code\n",
    "n = 12345\n",
    "print(sumDigits(n))\n"
   ]
  },
  {
   "cell_type": "code",
   "execution_count": 2,
   "id": "5fb59b4b",
   "metadata": {},
   "outputs": [
    {
     "name": "stdout",
     "output_type": "stream",
     "text": [
      "15\n"
     ]
    }
   ],
   "source": [
    "# Python 3 program to\n",
    "# compute sum of digits in\n",
    "# number.\n",
    "\n",
    "# Function to get sum of digits\n",
    "def getSum(n):\n",
    "\t\n",
    "\tsum = 0\n",
    "\twhile (n != 0):\n",
    "\t\n",
    "\t\tsum = sum + (n % 10)\n",
    "\t\tn = n//10\n",
    "\t\n",
    "\treturn sum\n",
    "\n",
    "n = 12345\n",
    "print(getSum(n))\n"
   ]
  },
  {
   "cell_type": "code",
   "execution_count": 3,
   "id": "a7b162cc",
   "metadata": {},
   "outputs": [
    {
     "name": "stdout",
     "output_type": "stream",
     "text": [
      "15\n"
     ]
    }
   ],
   "source": [
    "# Python program to\n",
    "# compute sum of digits in\n",
    "# number.\n",
    "\n",
    "# Function to get sum of digits\n",
    "def getSum(n):\n",
    "\t\n",
    "\tstrr = str(n)\n",
    "\tlist_of_number = list(map(int, strr.strip()))\n",
    "\treturn sum(list_of_number)\n",
    "\n",
    "n = 12345\n",
    "print(getSum(n))\n"
   ]
  },
  {
   "cell_type": "code",
   "execution_count": 12,
   "id": "45515a9e",
   "metadata": {},
   "outputs": [
    {
     "name": "stdout",
     "output_type": "stream",
     "text": [
      "1\n"
     ]
    }
   ],
   "source": [
    "# Python program to\n",
    "# compute sum of digits in\n",
    "# number.\n",
    "\n",
    "# Function to get sum of digits\n",
    "def getSum(n):\n",
    "    sum = 0\n",
    "    for digit in str(n):\n",
    "        sum += int(digit)\n",
    "        return sum\n",
    "\n",
    "print(getSum(123))"
   ]
  },
  {
   "cell_type": "code",
   "execution_count": null,
   "id": "1bb4e248",
   "metadata": {},
   "outputs": [],
   "source": []
  },
  {
   "cell_type": "code",
   "execution_count": null,
   "id": "92d0c782",
   "metadata": {},
   "outputs": [],
   "source": []
  }
 ],
 "metadata": {
  "kernelspec": {
   "display_name": "Python 3 (ipykernel)",
   "language": "python",
   "name": "python3"
  },
  "language_info": {
   "codemirror_mode": {
    "name": "ipython",
    "version": 3
   },
   "file_extension": ".py",
   "mimetype": "text/x-python",
   "name": "python",
   "nbconvert_exporter": "python",
   "pygments_lexer": "ipython3",
   "version": "3.9.12"
  }
 },
 "nbformat": 4,
 "nbformat_minor": 5
}
