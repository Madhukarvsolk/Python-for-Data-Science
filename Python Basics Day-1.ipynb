{
 "cells": [
  {
   "cell_type": "code",
   "execution_count": 1,
   "id": "f8e4933c",
   "metadata": {},
   "outputs": [
    {
     "name": "stdout",
     "output_type": "stream",
     "text": [
      "5\n"
     ]
    }
   ],
   "source": [
    "#Python Variables - Memory location for storing values. Act as the containers for storing values.\n",
    "a = 5\n",
    "print(a)"
   ]
  },
  {
   "cell_type": "code",
   "execution_count": 2,
   "id": "987d5547",
   "metadata": {},
   "outputs": [],
   "source": [
    "#Assigning values to variables: 1. A variable name should always start with a letter and can never start with numbers.\n",
    "# In-built functions or keywords cannot be assigned to variable names.\n",
    "# It cannot have any special symbol other than '_' -> underscore in its name. "
   ]
  },
  {
   "cell_type": "code",
   "execution_count": 3,
   "id": "eaf4c041",
   "metadata": {},
   "outputs": [
    {
     "name": "stdout",
     "output_type": "stream",
     "text": [
      "6 8\n"
     ]
    }
   ],
   "source": [
    "#Case-sensitive.\n",
    "b = 6\n",
    "B = 8\n",
    "print(b, B)"
   ]
  },
  {
   "cell_type": "code",
   "execution_count": 4,
   "id": "8a915a3d",
   "metadata": {},
   "outputs": [
    {
     "data": {
      "text/plain": [
       "int"
      ]
     },
     "execution_count": 4,
     "metadata": {},
     "output_type": "execute_result"
    }
   ],
   "source": [
    "#Numbers - int, Decimals - float, words - string\n",
    "c = 98\n",
    "type(c)\n"
   ]
  },
  {
   "cell_type": "code",
   "execution_count": 5,
   "id": "4d7554dd",
   "metadata": {},
   "outputs": [
    {
     "data": {
      "text/plain": [
       "float"
      ]
     },
     "execution_count": 5,
     "metadata": {},
     "output_type": "execute_result"
    }
   ],
   "source": [
    "d = 89.5\n",
    "type(d)"
   ]
  },
  {
   "cell_type": "code",
   "execution_count": 6,
   "id": "5cf8cb27",
   "metadata": {},
   "outputs": [
    {
     "data": {
      "text/plain": [
       "str"
      ]
     },
     "execution_count": 6,
     "metadata": {},
     "output_type": "execute_result"
    }
   ],
   "source": [
    "a = 'Hello, World'\n",
    "type(a)"
   ]
  },
  {
   "cell_type": "code",
   "execution_count": 7,
   "id": "e8b52fd2",
   "metadata": {},
   "outputs": [],
   "source": [
    "v = \"This is a boy's car\""
   ]
  },
  {
   "cell_type": "code",
   "execution_count": 8,
   "id": "a77cd975",
   "metadata": {},
   "outputs": [],
   "source": [
    "#Assigning values -> 2 ways\n",
    "#1. Static Way = Manually assigning the values to variables\n",
    "#2. Dynamic Way = User- defined variable. Syntax -> input()"
   ]
  },
  {
   "cell_type": "code",
   "execution_count": 9,
   "id": "d280a8e8",
   "metadata": {},
   "outputs": [
    {
     "name": "stdout",
     "output_type": "stream",
     "text": [
      "\n"
     ]
    }
   ],
   "source": [
    "w = input()"
   ]
  },
  {
   "cell_type": "code",
   "execution_count": 10,
   "id": "237e2ba6",
   "metadata": {},
   "outputs": [
    {
     "data": {
      "text/plain": [
       "str"
      ]
     },
     "execution_count": 10,
     "metadata": {},
     "output_type": "execute_result"
    }
   ],
   "source": [
    "type(w)"
   ]
  },
  {
   "cell_type": "code",
   "execution_count": 11,
   "id": "f8637347",
   "metadata": {},
   "outputs": [
    {
     "data": {
      "text/plain": [
       "str"
      ]
     },
     "execution_count": 11,
     "metadata": {},
     "output_type": "execute_result"
    }
   ],
   "source": [
    "type(w)"
   ]
  },
  {
   "cell_type": "code",
   "execution_count": 12,
   "id": "8c9b9175",
   "metadata": {},
   "outputs": [
    {
     "name": "stdout",
     "output_type": "stream",
     "text": [
      "Enter the float value\n"
     ]
    },
    {
     "ename": "ValueError",
     "evalue": "could not convert string to float: ''",
     "output_type": "error",
     "traceback": [
      "\u001b[1;31m---------------------------------------------------------------------------\u001b[0m",
      "\u001b[1;31mValueError\u001b[0m                                Traceback (most recent call last)",
      "Input \u001b[1;32mIn [12]\u001b[0m, in \u001b[0;36m<cell line: 1>\u001b[1;34m()\u001b[0m\n\u001b[1;32m----> 1\u001b[0m u \u001b[38;5;241m=\u001b[39m \u001b[38;5;28;43mfloat\u001b[39;49m\u001b[43m(\u001b[49m\u001b[38;5;28;43minput\u001b[39;49m\u001b[43m(\u001b[49m\u001b[38;5;124;43m\"\u001b[39;49m\u001b[38;5;124;43mEnter the float value\u001b[39;49m\u001b[38;5;124;43m\"\u001b[39;49m\u001b[43m)\u001b[49m\u001b[43m)\u001b[49m\n",
      "\u001b[1;31mValueError\u001b[0m: could not convert string to float: ''"
     ]
    }
   ],
   "source": [
    "u = float(input(\"Enter the float value\"))"
   ]
  },
  {
   "cell_type": "code",
   "execution_count": null,
   "id": "40c1ed5e",
   "metadata": {},
   "outputs": [],
   "source": [
    "type(u)"
   ]
  },
  {
   "cell_type": "code",
   "execution_count": null,
   "id": "fc46c8d8",
   "metadata": {},
   "outputs": [],
   "source": [
    "#Python Operators:Perform operations on variables and values.\n",
    "a = 5\n",
    "b = 3\n",
    "print(a+b)"
   ]
  },
  {
   "cell_type": "code",
   "execution_count": null,
   "id": "0df5a943",
   "metadata": {},
   "outputs": [],
   "source": [
    "#Arithematic operators-> +, -, *, /\n",
    "# % Modulus -> returns the remainder after dividing the values.\n",
    "a = 5\n",
    "b = 2\n",
    "print(a%b)"
   ]
  },
  {
   "cell_type": "code",
   "execution_count": null,
   "id": "5d42f67e",
   "metadata": {},
   "outputs": [],
   "source": [
    "c = 6\n",
    "d = 3\n",
    "print(c%d)"
   ]
  },
  {
   "cell_type": "code",
   "execution_count": null,
   "id": "14938192",
   "metadata": {},
   "outputs": [],
   "source": [
    "# ** -> Exponentiation\n",
    "a = 80\n",
    "B = 23\n",
    "print(a**a)\n"
   ]
  },
  {
   "cell_type": "code",
   "execution_count": null,
   "id": "d9b95484",
   "metadata": {},
   "outputs": [],
   "source": [
    "# // -> Floor division  \n",
    "A = 3  #2.66\n",
    "B = 8\n",
    "print(B//A)"
   ]
  },
  {
   "cell_type": "code",
   "execution_count": 13,
   "id": "86a014dd",
   "metadata": {},
   "outputs": [
    {
     "data": {
      "text/plain": [
       "3.0"
      ]
     },
     "execution_count": 13,
     "metadata": {},
     "output_type": "execute_result"
    }
   ],
   "source": [
    "import math\n",
    "a = 9\n",
    "math.sqrt(a)"
   ]
  },
  {
   "cell_type": "code",
   "execution_count": 14,
   "id": "97a78388",
   "metadata": {},
   "outputs": [],
   "source": [
    "#Assignment operators, =, +=, -=, *=, /=, %=,"
   ]
  },
  {
   "cell_type": "code",
   "execution_count": 15,
   "id": "9b0f021f",
   "metadata": {},
   "outputs": [
    {
     "name": "stdout",
     "output_type": "stream",
     "text": [
      "9\n"
     ]
    }
   ],
   "source": [
    "a = 4\n",
    "a+=5  #a = a+5, a-=5 -> a=a-5,\n",
    "print(a)"
   ]
  },
  {
   "cell_type": "code",
   "execution_count": 16,
   "id": "afdc5b5b",
   "metadata": {},
   "outputs": [],
   "source": [
    "# Comparison Operator -> ==, !=, <, >, <=, >="
   ]
  },
  {
   "cell_type": "code",
   "execution_count": 17,
   "id": "85c9227e",
   "metadata": {},
   "outputs": [
    {
     "data": {
      "text/plain": [
       "True"
      ]
     },
     "execution_count": 17,
     "metadata": {},
     "output_type": "execute_result"
    }
   ],
   "source": [
    "a= 5\n",
    "b=5\n",
    "a==b"
   ]
  },
  {
   "cell_type": "code",
   "execution_count": 18,
   "id": "b609ffaf",
   "metadata": {},
   "outputs": [
    {
     "data": {
      "text/plain": [
       "True"
      ]
     },
     "execution_count": 18,
     "metadata": {},
     "output_type": "execute_result"
    }
   ],
   "source": [
    "a = 5\n",
    "b = 8\n",
    "a!=b"
   ]
  },
  {
   "cell_type": "code",
   "execution_count": 19,
   "id": "77b5892e",
   "metadata": {},
   "outputs": [
    {
     "name": "stdout",
     "output_type": "stream",
     "text": [
      "False\n"
     ]
    }
   ],
   "source": [
    "#Logical Operators -> and, or, not. 1 is true, 2 is true\n",
    "x =3\n",
    "y=6\n",
    "print(x<2 and y<10)\n"
   ]
  },
  {
   "cell_type": "code",
   "execution_count": 20,
   "id": "c52289c9",
   "metadata": {},
   "outputs": [
    {
     "name": "stdout",
     "output_type": "stream",
     "text": [
      "False\n"
     ]
    }
   ],
   "source": [
    "x = 3\n",
    "y =12\n",
    "print(not(x<5 or y<10))"
   ]
  },
  {
   "cell_type": "code",
   "execution_count": null,
   "id": "86538bf6",
   "metadata": {},
   "outputs": [],
   "source": [
    "def getSum(n):\n",
    "\t\n",
    "\tsum = 0\n",
    "    for digit in str(n):\n",
    "        sum += int(digit)\n",
    "        return sum\n",
    "\n",
    "n = 12345\n",
    "print(getSum(n))\n"
   ]
  },
  {
   "cell_type": "code",
   "execution_count": 18,
   "id": "dd2c0f5f",
   "metadata": {},
   "outputs": [
    {
     "name": "stdout",
     "output_type": "stream",
     "text": [
      "enter 5 digit =1123243\n",
      "1123243\n"
     ]
    },
    {
     "ename": "TypeError",
     "evalue": "'int' object is not iterable",
     "output_type": "error",
     "traceback": [
      "\u001b[1;31m---------------------------------------------------------------------------\u001b[0m",
      "\u001b[1;31mTypeError\u001b[0m                                 Traceback (most recent call last)",
      "Input \u001b[1;32mIn [18]\u001b[0m, in \u001b[0;36m<cell line: 5>\u001b[1;34m()\u001b[0m\n\u001b[0;32m      1\u001b[0m a \u001b[38;5;241m=\u001b[39m \u001b[38;5;28mstr\u001b[39m(\u001b[38;5;28minput\u001b[39m(\u001b[38;5;124m\"\u001b[39m\u001b[38;5;124menter 5 digit =\u001b[39m\u001b[38;5;124m\"\u001b[39m))\n\u001b[0;32m      3\u001b[0m \u001b[38;5;28mprint\u001b[39m(\u001b[38;5;28mstr\u001b[39m(a))\n\u001b[1;32m----> 5\u001b[0m \u001b[38;5;28;01mfor\u001b[39;00m i \u001b[38;5;129;01min\u001b[39;00m \u001b[38;5;28mlen\u001b[39m(a):\n\u001b[0;32m      7\u001b[0m     \u001b[38;5;28;01mif\u001b[39;00m \u001b[38;5;28mlen\u001b[39m(a) \u001b[38;5;241m==\u001b[39m \u001b[38;5;241m6\u001b[39m:\n\u001b[0;32m      9\u001b[0m         \u001b[38;5;28mprint\u001b[39m(\u001b[38;5;124m'\u001b[39m\u001b[38;5;124msum of 5 is =\u001b[39m\u001b[38;5;124m'\u001b[39m , \u001b[38;5;28msum\u001b[39m[a])\n",
      "\u001b[1;31mTypeError\u001b[0m: 'int' object is not iterable"
     ]
    }
   ],
   "source": [
    "a = str(input(\"enter 5 digit =\"))\n",
    "\n",
    "for i in len(a):\n",
    "    \n",
    "    if len(a) == 6:\n",
    "        \n",
    "        print('sum of 5 is =' , sum[a])\n",
    "        \n",
    "    else:\n",
    "        \n",
    "        print('abe nai hota!')\n",
    "        \n",
    "\n",
    "    "
   ]
  },
  {
   "cell_type": "code",
   "execution_count": null,
   "id": "1fa0b16d",
   "metadata": {},
   "outputs": [],
   "source": [
    "name = input(\"nina esaru\")\n",
    "\n",
    "print(name)\n",
    "\n",
    "urdob = input(\"ur dob?\")\n",
    "\n",
    "print(urdob)"
   ]
  },
  {
   "cell_type": "code",
   "execution_count": null,
   "id": "efa2febf",
   "metadata": {},
   "outputs": [],
   "source": []
  },
  {
   "cell_type": "code",
   "execution_count": null,
   "id": "86b9dbd1",
   "metadata": {},
   "outputs": [],
   "source": []
  }
 ],
 "metadata": {
  "kernelspec": {
   "display_name": "Python 3 (ipykernel)",
   "language": "python",
   "name": "python3"
  },
  "language_info": {
   "codemirror_mode": {
    "name": "ipython",
    "version": 3
   },
   "file_extension": ".py",
   "mimetype": "text/x-python",
   "name": "python",
   "nbconvert_exporter": "python",
   "pygments_lexer": "ipython3",
   "version": "3.9.12"
  }
 },
 "nbformat": 4,
 "nbformat_minor": 5
}
