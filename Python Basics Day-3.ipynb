{
 "cells": [
  {
   "cell_type": "code",
   "execution_count": 1,
   "id": "a26f1a96",
   "metadata": {},
   "outputs": [],
   "source": [
    "l = [12, 13, 5, 6, 'abc', 'abc']\n",
    "s = set(l)"
   ]
  },
  {
   "cell_type": "code",
   "execution_count": 2,
   "id": "9ef3e9f7",
   "metadata": {},
   "outputs": [
    {
     "data": {
      "text/plain": [
       "{12, 13, 5, 6, 'abc'}"
      ]
     },
     "execution_count": 2,
     "metadata": {},
     "output_type": "execute_result"
    }
   ],
   "source": [
    "s"
   ]
  },
  {
   "cell_type": "code",
   "execution_count": 3,
   "id": "515ace2d",
   "metadata": {},
   "outputs": [],
   "source": [
    "new_l = list(s)"
   ]
  },
  {
   "cell_type": "code",
   "execution_count": 4,
   "id": "ff1828d7",
   "metadata": {},
   "outputs": [
    {
     "data": {
      "text/plain": [
       "[5, 6, 12, 13, 'abc']"
      ]
     },
     "execution_count": 4,
     "metadata": {},
     "output_type": "execute_result"
    }
   ],
   "source": [
    "new_l"
   ]
  },
  {
   "cell_type": "code",
   "execution_count": null,
   "id": "6ec50503",
   "metadata": {},
   "outputs": [],
   "source": [
    "# Conditional Statements --> To check something from a conditional value\n",
    "#Syntax -->  if(condition1):\n",
    "#                task1\n",
    "#            else:\n",
    "#                task2"
   ]
  },
  {
   "cell_type": "code",
   "execution_count": 5,
   "id": "c7c9d9d3",
   "metadata": {},
   "outputs": [
    {
     "name": "stdout",
     "output_type": "stream",
     "text": [
      "b is greater than a\n"
     ]
    }
   ],
   "source": [
    "a = 10\n",
    "b = 20\n",
    "if(a>b):\n",
    "    print('a is greater')\n",
    "else:\n",
    "    print('b is greater than a')"
   ]
  },
  {
   "cell_type": "code",
   "execution_count": 7,
   "id": "2a63ba7b",
   "metadata": {},
   "outputs": [
    {
     "name": "stdout",
     "output_type": "stream",
     "text": [
      "Both are same\n"
     ]
    }
   ],
   "source": [
    "# if-elif-else --> eilf-- else if. Instead of using multiple if's, we use elif\n",
    "a = 20\n",
    "b = 20\n",
    "if(a>b):\n",
    "    print('a is greater')\n",
    "elif(b>a):\n",
    "    print('b is greater')\n",
    "elif(b==a):\n",
    "    print('Both are same')'\n",
    "else:\n",
    "    print('invalid data')"
   ]
  },
  {
   "cell_type": "code",
   "execution_count": 11,
   "id": "d72a2d5c",
   "metadata": {},
   "outputs": [
    {
     "name": "stdout",
     "output_type": "stream",
     "text": [
      "Enter an integer value-9\n",
      "Number is negative\n"
     ]
    }
   ],
   "source": [
    "# Nested if-else: if inside if condition. \n",
    "n = int(input('Enter an integer value'))\n",
    "if(n>=0):\n",
    "    if(n==0):\n",
    "        print('Number is 0')\n",
    "    else:\n",
    "        print('Number is positive')\n",
    "else:\n",
    "    print('Number is negative')\n",
    "    "
   ]
  },
  {
   "cell_type": "code",
   "execution_count": null,
   "id": "a088bc60",
   "metadata": {},
   "outputs": [],
   "source": [
    "#Looping Statements: A kind of statement that will help us out to perform some set of tasks again and again"
   ]
  },
  {
   "cell_type": "code",
   "execution_count": null,
   "id": "8899ded0",
   "metadata": {},
   "outputs": [],
   "source": [
    "#Types -->  1. For loop\n",
    "#           2. While loop"
   ]
  },
  {
   "cell_type": "code",
   "execution_count": null,
   "id": "708d5567",
   "metadata": {},
   "outputs": [],
   "source": [
    "#For loop --> range() -- Helps us to create our range values\n",
    "#range(5) --> range(0,5) --> 5 = n, 0-(n-1)"
   ]
  },
  {
   "cell_type": "code",
   "execution_count": 16,
   "id": "8c1fcbd4",
   "metadata": {},
   "outputs": [
    {
     "name": "stdout",
     "output_type": "stream",
     "text": [
      "Python\n",
      "Python\n",
      "Python\n",
      "Python\n",
      "Python\n",
      "Python\n",
      "Python\n",
      "Python\n",
      "Python\n",
      "Python\n"
     ]
    }
   ],
   "source": [
    "for i in range(10):\n",
    "    print('Python')  "
   ]
  },
  {
   "cell_type": "code",
   "execution_count": 22,
   "id": "a8450dde",
   "metadata": {},
   "outputs": [
    {
     "name": "stdout",
     "output_type": "stream",
     "text": [
      "Enter a number: 2\n",
      "2 * 1 = 2\n",
      "2 * 2 = 4\n",
      "2 * 3 = 6\n",
      "2 * 4 = 8\n",
      "2 * 5 = 10\n",
      "2 * 6 = 12\n",
      "2 * 7 = 14\n",
      "2 * 8 = 16\n",
      "2 * 9 = 18\n",
      "2 * 10 = 20\n"
     ]
    }
   ],
   "source": [
    "#for printing the table of 2 --\n",
    "num = int(input('Enter a number: '))\n",
    "for i in range(1, 11):\n",
    "    print(num, '*', i, '=', num*i)"
   ]
  },
  {
   "cell_type": "code",
   "execution_count": 27,
   "id": "b4fb9f21",
   "metadata": {},
   "outputs": [
    {
     "name": "stdout",
     "output_type": "stream",
     "text": [
      "0\n",
      "1\n",
      "2\n",
      "3\n",
      "5\n",
      "6\n",
      "7\n",
      "8\n",
      "9\n"
     ]
    }
   ],
   "source": [
    "# break, continue\n",
    "for i in range(10):\n",
    "    if(i==4):\n",
    "        continue\n",
    "    else:\n",
    "        print(i)"
   ]
  },
  {
   "cell_type": "code",
   "execution_count": 29,
   "id": "e1d8fb34",
   "metadata": {},
   "outputs": [
    {
     "name": "stdout",
     "output_type": "stream",
     "text": [
      "1\n",
      "2\n",
      "3\n",
      "4\n",
      "5\n"
     ]
    }
   ],
   "source": [
    "for i in range(1, 11):\n",
    "    if(i==6):\n",
    "        break\n",
    "    else:\n",
    "        print(i)"
   ]
  },
  {
   "cell_type": "code",
   "execution_count": 33,
   "id": "6b74417e",
   "metadata": {},
   "outputs": [
    {
     "name": "stdout",
     "output_type": "stream",
     "text": [
      "python\n",
      "python\n",
      "python\n",
      "python\n",
      "python\n",
      "python\n",
      "python\n",
      "python\n"
     ]
    }
   ],
   "source": [
    "# While loops -->It helps us to perform a certain set of tasks n number of times.\n",
    "i = 1\n",
    "while(i<=8):\n",
    "    print('python')\n",
    "    i = i+1\n",
    "    "
   ]
  },
  {
   "cell_type": "code",
   "execution_count": 34,
   "id": "a033f4f3",
   "metadata": {},
   "outputs": [
    {
     "name": "stdout",
     "output_type": "stream",
     "text": [
      "2 * 1 = 2\n",
      "2 * 2 = 4\n",
      "2 * 3 = 6\n",
      "2 * 4 = 8\n",
      "2 * 5 = 10\n",
      "2 * 6 = 12\n",
      "2 * 7 = 14\n",
      "2 * 8 = 16\n",
      "2 * 9 = 18\n",
      "2 * 10 = 20\n"
     ]
    }
   ],
   "source": [
    "n = 2\n",
    "i = 1\n",
    "while(i<=10):\n",
    "    print(n, '*', i, '=', n*i)\n",
    "    i = i+1"
   ]
  },
  {
   "cell_type": "code",
   "execution_count": 35,
   "id": "dd6d697b",
   "metadata": {},
   "outputs": [
    {
     "name": "stdout",
     "output_type": "stream",
     "text": [
      "Python 8\n",
      "Python 9\n",
      "Python 10\n"
     ]
    }
   ],
   "source": [
    "i = 8\n",
    "while(i<=10):\n",
    "    print('Python', i)\n",
    "    i = i+1"
   ]
  },
  {
   "cell_type": "code",
   "execution_count": null,
   "id": "b564df0b",
   "metadata": {},
   "outputs": [],
   "source": [
    "i = 1\n",
    "while(i<=10):\n",
    "    \n",
    "    if(i!=4):\n",
    "        continue\n",
    "        i = i+1\n",
    "    else:\n",
    "        print('Python', i)\n"
   ]
  },
  {
   "cell_type": "code",
   "execution_count": 2,
   "id": "ed72c075",
   "metadata": {},
   "outputs": [
    {
     "name": "stdout",
     "output_type": "stream",
     "text": [
      "python 0\n",
      "python 1\n",
      "python 2\n",
      "python 3\n",
      "python 5\n",
      "python 6\n",
      "python 7\n",
      "python 8\n",
      "python 9\n",
      "python 10\n"
     ]
    }
   ],
   "source": [
    "i=0\n",
    "while(i<=10):\n",
    "  if(i==4): \n",
    "    i=i+1\n",
    "    continue\n",
    "  print(\"python\", i)\n",
    "  i+=1 # -> i = i+1\n"
   ]
  },
  {
   "cell_type": "code",
   "execution_count": null,
   "id": "b7bf2ce8",
   "metadata": {},
   "outputs": [],
   "source": [
    "# Function -> Set of tasks. There are 3 types of functions.\n",
    "# 1. User-defined Functions --> User id defining their own function\n",
    "# How do we define our own functions - def"
   ]
  },
  {
   "cell_type": "code",
   "execution_count": null,
   "id": "e197f152",
   "metadata": {},
   "outputs": [],
   "source": [
    "def check_even_odd(n):\n",
    "    if(n%2 == 0):\n",
    "        print('The num is even')\n",
    "    else:\n",
    "        print('num is odd')\n",
    "check_even_odd(int(input()))"
   ]
  },
  {
   "cell_type": "code",
   "execution_count": null,
   "id": "3b6c3534",
   "metadata": {},
   "outputs": [],
   "source": [
    "#2. In-built functions\n",
    "l = [12, 23, 44, 55]\n",
    "l.insert(3, True)"
   ]
  },
  {
   "cell_type": "code",
   "execution_count": null,
   "id": "cbcf2d82",
   "metadata": {},
   "outputs": [],
   "source": [
    "l"
   ]
  },
  {
   "cell_type": "code",
   "execution_count": null,
   "id": "c11a1714",
   "metadata": {},
   "outputs": [],
   "source": [
    "l.append('Python')"
   ]
  },
  {
   "cell_type": "code",
   "execution_count": null,
   "id": "65aeafd4",
   "metadata": {},
   "outputs": [],
   "source": [
    "l"
   ]
  },
  {
   "cell_type": "code",
   "execution_count": null,
   "id": "2e6ef21b",
   "metadata": {},
   "outputs": [],
   "source": [
    "l.pop(3)"
   ]
  },
  {
   "cell_type": "code",
   "execution_count": null,
   "id": "684f99b6",
   "metadata": {},
   "outputs": [],
   "source": [
    "l"
   ]
  },
  {
   "cell_type": "code",
   "execution_count": null,
   "id": "e8a42a64",
   "metadata": {},
   "outputs": [],
   "source": [
    "# 3. Lambda Function --> Nameless function --> Anonymous functions, define a single set of task, one-liner function.\n",
    "# How to create a lambda function  lambda\n"
   ]
  },
  {
   "cell_type": "markdown",
   "id": "e3de4f66",
   "metadata": {},
   "source": [
    "var = lambda a, b, c: a+b+c\n",
    "var(2,3,5)"
   ]
  },
  {
   "cell_type": "code",
   "execution_count": null,
   "id": "98ab845e",
   "metadata": {},
   "outputs": [],
   "source": [
    "var = lambda a, b, c: a+b+c \n",
    "var(2, 3, 5)"
   ]
  },
  {
   "cell_type": "code",
   "execution_count": null,
   "id": "4f7db94f",
   "metadata": {},
   "outputs": [],
   "source": [
    "x = lambda a, b, c, d: a*b+c-d\n",
    "x(7, 8, 12, 3)"
   ]
  },
  {
   "cell_type": "code",
   "execution_count": null,
   "id": "ca4980cb",
   "metadata": {},
   "outputs": [],
   "source": []
  },
  {
   "cell_type": "code",
   "execution_count": null,
   "id": "0cb9a52f",
   "metadata": {},
   "outputs": [],
   "source": []
  },
  {
   "cell_type": "code",
   "execution_count": null,
   "id": "c6f0a2ae",
   "metadata": {},
   "outputs": [],
   "source": []
  },
  {
   "cell_type": "code",
   "execution_count": null,
   "id": "8250f7c1",
   "metadata": {},
   "outputs": [],
   "source": []
  },
  {
   "cell_type": "code",
   "execution_count": null,
   "id": "baad55b1",
   "metadata": {},
   "outputs": [],
   "source": []
  }
 ],
 "metadata": {
  "kernelspec": {
   "display_name": "Python 3 (ipykernel)",
   "language": "python",
   "name": "python3"
  },
  "language_info": {
   "codemirror_mode": {
    "name": "ipython",
    "version": 3
   },
   "file_extension": ".py",
   "mimetype": "text/x-python",
   "name": "python",
   "nbconvert_exporter": "python",
   "pygments_lexer": "ipython3",
   "version": "3.9.12"
  }
 },
 "nbformat": 4,
 "nbformat_minor": 5
}
