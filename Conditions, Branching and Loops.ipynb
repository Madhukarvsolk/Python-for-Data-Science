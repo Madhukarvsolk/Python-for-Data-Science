{
 "cells": [
  {
   "cell_type": "code",
   "execution_count": 1,
   "id": "d0ccae26",
   "metadata": {},
   "outputs": [],
   "source": [
    "#Conditions and Branching"
   ]
  },
  {
   "cell_type": "code",
   "execution_count": 2,
   "id": "e0fd8241",
   "metadata": {},
   "outputs": [],
   "source": [
    "# if Statement"
   ]
  },
  {
   "cell_type": "code",
   "execution_count": 3,
   "id": "d6050282",
   "metadata": {},
   "outputs": [
    {
     "name": "stdout",
     "output_type": "stream",
     "text": [
      "move on\n"
     ]
    }
   ],
   "source": [
    "age=17\n",
    "\n",
    "if (age>18):\n",
    "    print('enter')\n",
    "print('move on')"
   ]
  },
  {
   "cell_type": "code",
   "execution_count": 4,
   "id": "78761da5",
   "metadata": {},
   "outputs": [
    {
     "name": "stdout",
     "output_type": "stream",
     "text": [
      "enter\n",
      "move on\n"
     ]
    }
   ],
   "source": [
    "age=20\n",
    "\n",
    "if (age>18):\n",
    "    print('enter')\n",
    "print('move on')"
   ]
  },
  {
   "cell_type": "code",
   "execution_count": 5,
   "id": "a5e18bd2",
   "metadata": {},
   "outputs": [],
   "source": [
    "# For loop"
   ]
  },
  {
   "cell_type": "code",
   "execution_count": 6,
   "id": "5deb87f3",
   "metadata": {},
   "outputs": [
    {
     "name": "stdout",
     "output_type": "stream",
     "text": [
      "audi\n",
      "tesla\n",
      "vols\n",
      "benz\n"
     ]
    }
   ],
   "source": [
    "cars=['audi', 'tesla', 'vols', 'benz']\n",
    "\n",
    "for x in cars:\n",
    "    \n",
    "    print(x)"
   ]
  },
  {
   "cell_type": "code",
   "execution_count": 11,
   "id": "3a7b7f81",
   "metadata": {},
   "outputs": [
    {
     "name": "stdout",
     "output_type": "stream",
     "text": [
      "[1, 2, 3, 4, 5, 6]\n",
      "[1, 2, 3, 4, 5, 6]\n",
      "[1, 2, 3, 4, 5, 6]\n",
      "[1, 2, 3, 4, 5, 6]\n",
      "[1, 2, 3, 4, 5, 6]\n",
      "[1, 2, 3, 4, 5, 6]\n"
     ]
    }
   ],
   "source": [
    "num=[1,2,3,4,5,6]\n",
    "for n in num:\n",
    "    print(num)"
   ]
  },
  {
   "cell_type": "code",
   "execution_count": 1,
   "id": "7ba15b6a",
   "metadata": {},
   "outputs": [],
   "source": [
    "# Loop Control Statements "
   ]
  },
  {
   "cell_type": "code",
   "execution_count": 2,
   "id": "b52386ab",
   "metadata": {},
   "outputs": [],
   "source": [
    "#1. Break Statement"
   ]
  },
  {
   "cell_type": "code",
   "execution_count": 18,
   "id": "77002c87",
   "metadata": {},
   "outputs": [
    {
     "name": "stdout",
     "output_type": "stream",
     "text": [
      "1\n",
      "inside for loop\n",
      "2\n",
      "inside for loop\n",
      "3\n",
      "inside for loop\n",
      "4\n",
      "inside for loop\n",
      "5\n",
      "inside for loop\n",
      "6\n",
      "inside for loop\n",
      "5\n",
      "inside for loop\n",
      "8\n",
      "inside for loop\n",
      "9\n",
      "inside for loop\n",
      "outside for loop\n"
     ]
    }
   ],
   "source": [
    "numbers=[1,2,3,4,5,6,5,8,9]\n",
    "\n",
    "for num in numbers:\n",
    "    print(num)\n",
    "    if num==10:\n",
    "        break\n",
    "    print(\"inside for loop\")\n",
    "else:\n",
    "    print(\"outside for loop\")"
   ]
  },
  {
   "cell_type": "code",
   "execution_count": 10,
   "id": "76f42dd6",
   "metadata": {},
   "outputs": [
    {
     "name": "stdout",
     "output_type": "stream",
     "text": [
      "audi\n",
      "tesla\n"
     ]
    }
   ],
   "source": [
    "cars=['audi', 'tesla', 'volsvegan', 'jagvar', 'benz']\n",
    "for car in cars:\n",
    "    if car=='volsvegan':\n",
    "        break\n",
    "    print(car)\n",
    "    "
   ]
  },
  {
   "cell_type": "code",
   "execution_count": 11,
   "id": "90cfd6cd",
   "metadata": {},
   "outputs": [
    {
     "name": "stdout",
     "output_type": "stream",
     "text": [
      "audi\n",
      "tesla\n",
      "volsvegan\n",
      "jagvar\n",
      "benz\n"
     ]
    }
   ],
   "source": [
    "cars=['audi', 'tesla', 'volsvegan', 'jagvar', 'benz']\n",
    "for car in cars:\n",
    "    print(car)"
   ]
  },
  {
   "cell_type": "code",
   "execution_count": null,
   "id": "cbd1bba6",
   "metadata": {},
   "outputs": [],
   "source": []
  }
 ],
 "metadata": {
  "kernelspec": {
   "display_name": "Python 3 (ipykernel)",
   "language": "python",
   "name": "python3"
  },
  "language_info": {
   "codemirror_mode": {
    "name": "ipython",
    "version": 3
   },
   "file_extension": ".py",
   "mimetype": "text/x-python",
   "name": "python",
   "nbconvert_exporter": "python",
   "pygments_lexer": "ipython3",
   "version": "3.9.12"
  }
 },
 "nbformat": 4,
 "nbformat_minor": 5
}
