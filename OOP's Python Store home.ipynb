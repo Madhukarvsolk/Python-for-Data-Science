{
 "cells": [
  {
   "cell_type": "markdown",
   "id": "4c269d36",
   "metadata": {},
   "source": [
    "# Task 1 \n",
    "\n",
    "Create the Class definition based on requirements\n"
   ]
  },
  {
   "cell_type": "raw",
   "id": "17621b57",
   "metadata": {},
   "source": [
    "Requirements is in csv format-\n",
    "\n",
    "make,model ,color,year,price\n",
    "buick,lesabre,red,2013,10000\n",
    "dodge,charger,black,2018,18000\n",
    "chevy,malibu,white,2018,12000\n",
    "toyota,camry,blue,2000,6000\n",
    "nissan,ultima,silver,2012,8000\n",
    "volvo,S60,Gray,2018,45000\n",
    "chevy,malibu,blue,2007,6000\n",
    "toyota,corolla,green,2010,8000\n",
    "ford,explorer,brown,2005,3000\n"
   ]
  },
  {
   "cell_type": "code",
   "execution_count": 1,
   "id": "98be050a",
   "metadata": {
    "scrolled": true
   },
   "outputs": [
    {
     "name": "stdout",
     "output_type": "stream",
     "text": [
      "model = lesabre\n"
     ]
    }
   ],
   "source": [
    "class Car:\n",
    "    make = \"buick\"\n",
    "    model = \"lesabre\"\n",
    "    color = \"red\"\n",
    "    year = 2013\n",
    "    price = 10000\n",
    "\n",
    "car = Car()\n",
    "print('model = ' + car.model)"
   ]
  },
  {
   "cell_type": "markdown",
   "id": "7559e1f3",
   "metadata": {},
   "source": [
    "# Task 2\n",
    "\n",
    "Create a Constructor"
   ]
  },
  {
   "cell_type": "raw",
   "id": "e6bdfffe",
   "metadata": {},
   "source": [
    "Points to be noted:\n",
    "\n",
    "- Construction is called when an object created \n",
    "- Allows for Initializations ofattributes \n",
    "- Allows for default values "
   ]
  },
  {
   "cell_type": "code",
   "execution_count": 2,
   "id": "96444cf2",
   "metadata": {},
   "outputs": [
    {
     "name": "stdout",
     "output_type": "stream",
     "text": [
      "price =  -1\n",
      "color = Unkown\n"
     ]
    }
   ],
   "source": [
    "class Car:\n",
    "    def __init__(self, make = \"Unknown\", model = \"Unknown\" , color = \"Unkown\", year = -1, price = -1):\n",
    "        self.make = make\n",
    "        self.model = model\n",
    "        self.color = color\n",
    "        self.year = year\n",
    "        self.price = price\n",
    "        \n",
    "car = Car()\n",
    "print('price = ' , car.price)\n",
    "print('color = ' +  car.color)"
   ]
  },
  {
   "cell_type": "code",
   "execution_count": 3,
   "id": "963fc181",
   "metadata": {},
   "outputs": [
    {
     "name": "stdout",
     "output_type": "stream",
     "text": [
      "color =red\n"
     ]
    }
   ],
   "source": [
    "car = Car(\"buick\", \"lesabre\", \"red\", 2013, 10000)\n",
    "print('color =' + car.color)"
   ]
  },
  {
   "cell_type": "markdown",
   "id": "e0e39956",
   "metadata": {},
   "source": [
    "# Task 3\n",
    "\n",
    "Add Getter and Setter"
   ]
  },
  {
   "cell_type": "raw",
   "id": "c7d54967",
   "metadata": {},
   "source": [
    "Points to be noted - \n",
    "\n",
    "- They are used to add the data to the class \n",
    "- Getter provide access control. It will retrive the data from the objects.\n",
    "- Getters reads the attributes.\n",
    "- Setters provide protection for the attributes. It sets the value in the         objects.\n",
    "- Setters will assign the attributes.\n",
    "- Setters are used to protect the attributes from getting bad values.\n",
    "- Getters are implemented to return multiple properties or different formates     of given attributes.\n",
    "- It uses decorator @property for its operations.\n",
    "- This property decorator allows for the access of getter\n",
    "  and setters by assigning and reading the attributes\n",
    "  as properties"
   ]
  },
  {
   "cell_type": "code",
   "execution_count": 4,
   "id": "227c5949",
   "metadata": {},
   "outputs": [
    {
     "name": "stdout",
     "output_type": "stream",
     "text": [
      "price =  -1\n",
      "setter for price called\n"
     ]
    }
   ],
   "source": [
    "class Car:\n",
    "    def __init__(self, make = \"Unknown\", model = \"Unknown\" , color = \"Unkown\", year = -1, price = -1):\n",
    "        self.make = make\n",
    "        self.model = model\n",
    "        self.color = color\n",
    "        self.year = year\n",
    "        self._price = price  # We want to hide this attribute\n",
    "        \n",
    "    @property                # Getting Getter\n",
    "    def price(self):          \n",
    "        return self._price\n",
    "\n",
    "    @price.setter            # Getting Setter\n",
    "    def price(self, p):\n",
    "        if (p <= 0):\n",
    "            print(\"price is less than zero!\")\n",
    "        print(\"setter for price called\")\n",
    "        self._price = p      # Assigning the price \n",
    "    \n",
    "car = Car()\n",
    "print('price = ' , car.price)\n",
    "car.price = 1000"
   ]
  },
  {
   "cell_type": "markdown",
   "id": "fc48e616",
   "metadata": {},
   "source": [
    "# Task 4\n",
    "\n",
    "Creating String Repesentation \n",
    "\n",
    "Tasks - \n",
    "\n",
    "- Print the objects created in the last lesson\n",
    "- Determine how the object should be printed \n",
    "- Impliment the _ _str_ _ method in the Class defination"
   ]
  },
  {
   "cell_type": "code",
   "execution_count": 1,
   "id": "24abbf84",
   "metadata": {},
   "outputs": [
    {
     "name": "stdout",
     "output_type": "stream",
     "text": [
      "price =  -1\n",
      "setter for price called\n",
      "Model = S60\n",
      "Car: Car(make = volvo, model = S60, color = Gray, year = 2018, price = 45000)\n"
     ]
    }
   ],
   "source": [
    "class Car:\n",
    "    def __init__(self, make = \"Unknown\", model = \"Unknown\" , color = \"Unkown\", year = -1, price = -1):\n",
    "        self.make = make\n",
    "        self.model = model\n",
    "        self.color = color\n",
    "        self.year = year\n",
    "        self._price = price  # We want to hide this attribute\n",
    "        \n",
    "    @property                # Getting Getter\n",
    "    def price(self):          \n",
    "        return self._price\n",
    "\n",
    "    @price.setter            # Getting Setter\n",
    "    def price(self, p):\n",
    "        if (p <= 0):\n",
    "            print(\"price is less than zero!\")\n",
    "        print(\"setter for price called\")\n",
    "        self._price = p      # Assigning the price \n",
    "        \n",
    "# we want to actually print the object and see what values the attributes have.\n",
    "    \n",
    "    def __str__(self):\n",
    "        return 'Car(make = '+ self.make +', model = ' + str(self.model) +\\\n",
    "    ', color = '+ str(self.color) +', year = '+ str(self.year) +\\\n",
    "    ', price = '+ str(self.price) +')'\n",
    "    \n",
    "# And then we're just going to decide that we're going to print each labeled attributes and indicate that it'sa car. So we're going to do this car. \n",
    "# if you have a number, you have to cast into a string because this has to be a string for it to print properly    \n",
    "    \n",
    "car = Car()\n",
    "print('price = ' , car.price)\n",
    "car.price = 1000\n",
    "\n",
    "car = Car(\"volvo\", \"S60\", \"Gray\", 2018, 45000)\n",
    "print(\"Model = \" + car.model)\n",
    "print(\"Car:\", car)\n",
    "\n",
    "# If we execute it successuflly, then we properly formatted the the string representation of our object\n",
    "# And now we can just print the object on one line of code.\n",
    "# So we just printed the car just in one line of code right\n",
    "# here. Just printed the car object, and we get the whole all of the attributes with the car."
   ]
  },
  {
   "cell_type": "markdown",
   "id": "8cacb0f8",
   "metadata": {},
   "source": [
    "# Task 5\n",
    "\n",
    "Sort the objects \n",
    "\n",
    "Tasks - \n",
    "\n",
    "- Read data from file\n",
    "- Extract the data from the file\n",
    "- Create the object from the file\n",
    "- Add the object to the list\n",
    "- Sort the list of the object\n"
   ]
  },
  {
   "cell_type": "code",
   "execution_count": 14,
   "id": "2bb8bde5",
   "metadata": {},
   "outputs": [
    {
     "name": "stdout",
     "output_type": "stream",
     "text": [
      "\n"
     ]
    }
   ],
   "source": [
    "fh = open(\"cars.csv\")\n",
    "cars_data = fh.readlines()\n",
    "\n",
    "#cars_data.pop(0)\n",
    "\n",
    "cars_list = []\n",
    "\n",
    "for rawstring in cars_data:\n",
    "    make,model,color,year,price = rawstring.split(',')\n",
    "    cars_list.append(Car(make,model,color,year,price))\n",
    "    \n",
    "\n",
    "cars_list.sort(key=lambda car: car.price)\n",
    "\n",
    "print(*cars_list, sep='\\n')"
   ]
  },
  {
   "cell_type": "raw",
   "id": "fd5a0880",
   "metadata": {},
   "source": [
    "Creating a class and object with class and instance attributes"
   ]
  },
  {
   "cell_type": "code",
   "execution_count": 15,
   "id": "76ef9e1c",
   "metadata": {},
   "outputs": [
    {
     "name": "stdout",
     "output_type": "stream",
     "text": [
      "mammal\n",
      "I'm a mammal\n",
      "I'm a dog\n"
     ]
    }
   ],
   "source": [
    "# demonstrate instantiating a class\n",
    "\n",
    "class Dog:\n",
    " \n",
    "    # A simple class\n",
    "    # attribute\n",
    "\n",
    "    attr1 = \"mammal\"\n",
    "    attr2 = \"dog\"\n",
    " \n",
    "    # A sample method\n",
    "    \n",
    "    def fun(self):\n",
    "        print(\"I'm a\", self.attr1)\n",
    "        print(\"I'm a\", self.attr2)\n",
    " \n",
    " \n",
    "# Driver code\n",
    "# Object instantiation\n",
    "Rodger = Dog()\n",
    " \n",
    "# Accessing class attributes\n",
    "# and method through objects\n",
    "\n",
    "print(Rodger.attr1)\n",
    "Rodger.fun()"
   ]
  },
  {
   "cell_type": "code",
   "execution_count": 20,
   "id": "01b0d32e",
   "metadata": {},
   "outputs": [
    {
     "name": "stdout",
     "output_type": "stream",
     "text": [
      "Rodger is a mammal\n",
      "Tommy is also a mammal\n",
      "My name is Rodger\n",
      "My name is Tommy\n"
     ]
    }
   ],
   "source": [
    "class Dog:\n",
    " \n",
    "    # class attribute\n",
    "    attr1 = \"mammal\"\n",
    " \n",
    "    # Instance attribute\n",
    "    def __init__(self, name):\n",
    "        self.name = name\n",
    " \n",
    "# Driver code\n",
    "# Object instantiation\n",
    "Rodger = Dog(\"Rodger\")\n",
    "Tommy = Dog(\"Tommy\")\n",
    " \n",
    "# Accessing class attributes\n",
    "print(\"Rodger is a {}\".format(Rodger.__class__.attr1))\n",
    "print(\"Tommy is also a {}\".format(Tommy.__class__.attr1))\n",
    " \n",
    "# Accessing instance attributes\n",
    "print(\"My name is {}\".format(Rodger.name))\n",
    "print(\"My name is {}\".format(Tommy.name))"
   ]
  },
  {
   "cell_type": "code",
   "execution_count": 21,
   "id": "e97342ca",
   "metadata": {},
   "outputs": [
    {
     "name": "stdout",
     "output_type": "stream",
     "text": [
      "My name is Rodger\n",
      "My name is Tommy\n"
     ]
    }
   ],
   "source": [
    "class Dog:\n",
    " \n",
    "    # class attribute\n",
    "    attr1 = \"mammal\"\n",
    " \n",
    "    # Instance attribute\n",
    "    def __init__(self, name):\n",
    "        self.name = name\n",
    "         \n",
    "    def speak(self):\n",
    "        print(\"My name is {}\".format(self.name))\n",
    " \n",
    "# Driver code\n",
    "# Object instantiation\n",
    "Rodger = Dog(\"Rodger\")\n",
    "Tommy = Dog(\"Tommy\")\n",
    " \n",
    "# Accessing class methods\n",
    "Rodger.speak()\n",
    "Tommy.speak()"
   ]
  },
  {
   "cell_type": "code",
   "execution_count": 22,
   "id": "aebf3be8",
   "metadata": {},
   "outputs": [
    {
     "name": "stdout",
     "output_type": "stream",
     "text": [
      "Rahul\n",
      "886012\n",
      "My name is Rahul\n",
      "IdNumber: 886012\n",
      "Post: Intern\n"
     ]
    }
   ],
   "source": [
    "# Example: Inheritance in Python\n",
    "\n",
    "# Python code to demonstrate how parent constructors\n",
    "# are called.\n",
    " \n",
    "# parent class\n",
    "class Person(object):\n",
    " \n",
    "    # __init__ is known as the constructor\n",
    "    def __init__(self, name, idnumber):\n",
    "        self.name = name\n",
    "        self.idnumber = idnumber\n",
    " \n",
    "    def display(self):\n",
    "        print(self.name)\n",
    "        print(self.idnumber)\n",
    "         \n",
    "    def details(self):\n",
    "        print(\"My name is {}\".format(self.name))\n",
    "        print(\"IdNumber: {}\".format(self.idnumber))\n",
    "     \n",
    "# child class\n",
    "class Employee(Person):\n",
    "    def __init__(self, name, idnumber, salary, post):\n",
    "        self.salary = salary\n",
    "        self.post = post\n",
    " \n",
    "        # invoking the __init__ of the parent class\n",
    "        Person.__init__(self, name, idnumber)\n",
    "         \n",
    "    def details(self):\n",
    "        print(\"My name is {}\".format(self.name))\n",
    "        print(\"IdNumber: {}\".format(self.idnumber))\n",
    "        print(\"Post: {}\".format(self.post))\n",
    " \n",
    " \n",
    "# creation of an object variable or an instance\n",
    "a = Employee('Rahul', 886012, 200000, \"Intern\")\n",
    " \n",
    "# calling a function of the class Person using\n",
    "# its instance\n",
    "a.display()\n",
    "a.details()"
   ]
  },
  {
   "cell_type": "raw",
   "id": "750048b9",
   "metadata": {},
   "source": [
    "__init__ method"
   ]
  },
  {
   "cell_type": "code",
   "execution_count": 17,
   "id": "69e96aea",
   "metadata": {},
   "outputs": [
    {
     "name": "stdout",
     "output_type": "stream",
     "text": [
      "Hello, my name is Nikhil\n"
     ]
    }
   ],
   "source": [
    "# Sample class with init method\n",
    "\n",
    "class Person:\n",
    " \n",
    "    # init method or constructor\n",
    "    def __init__(self, name):\n",
    "        self.name = name\n",
    " \n",
    "    # Sample Method\n",
    "    def say_hi(self):\n",
    "        print('Hello, my name is', self.name)\n",
    " \n",
    " \n",
    "p = Person('Nikhil')\n",
    "p.say_hi()"
   ]
  },
  {
   "cell_type": "raw",
   "id": "44cf1a34",
   "metadata": {},
   "source": [
    "Class and Instance Variables\n",
    "\n",
    "Instance variables are for data, unique to each instance and class variables are for attributes and methods shared by all instances of the class. Instance variables are variables whose value is assigned inside a constructor or method with self whereas class variables are variables whose value is assigned in the class."
   ]
  },
  {
   "cell_type": "code",
   "execution_count": 18,
   "id": "1d563d8a",
   "metadata": {},
   "outputs": [
    {
     "name": "stdout",
     "output_type": "stream",
     "text": [
      "Rodger details:\n",
      "Rodger is a dog\n",
      "Breed:  Pug\n",
      "Color:  brown\n",
      "\n",
      "Buzo details:\n",
      "Buzo is a dog\n",
      "Breed:  Bulldog\n",
      "Color:  black\n",
      "\n",
      "Accessing class variable using class name\n",
      "dog\n"
     ]
    }
   ],
   "source": [
    "\n",
    "# Program to show that the variables with a value\n",
    "# assigned in the class declaration, are class variables and\n",
    "# variables inside methods and constructors are instance\n",
    "# variables.\n",
    " \n",
    "# Class for Dog\n",
    " \n",
    "class Dog:\n",
    " \n",
    "    # Class Variable\n",
    "    animal = 'dog'\n",
    " \n",
    "    # The init method or constructor\n",
    "    def __init__(self, breed, color):\n",
    " \n",
    "        # Instance Variable\n",
    "        self.breed = breed\n",
    "        self.color = color\n",
    " \n",
    " \n",
    "# Objects of Dog class\n",
    "Rodger = Dog(\"Pug\", \"brown\")\n",
    "Buzo = Dog(\"Bulldog\", \"black\")\n",
    " \n",
    "print('Rodger details:')\n",
    "print('Rodger is a', Rodger.animal)\n",
    "print('Breed: ', Rodger.breed)\n",
    "print('Color: ', Rodger.color)\n",
    " \n",
    "print('\\nBuzo details:')\n",
    "print('Buzo is a', Buzo.animal)\n",
    "print('Breed: ', Buzo.breed)\n",
    "print('Color: ', Buzo.color)\n",
    " \n",
    "# Class variables can be accessed using class\n",
    "# name also\n",
    "print(\"\\nAccessing class variable using class name\")\n",
    "print(Dog.animal)"
   ]
  },
  {
   "cell_type": "code",
   "execution_count": 19,
   "id": "ea615786",
   "metadata": {},
   "outputs": [
    {
     "name": "stdout",
     "output_type": "stream",
     "text": [
      "brown\n"
     ]
    }
   ],
   "source": [
    "# Python3 program to show that we can create\n",
    "# instance variables inside methods\n",
    " \n",
    "# Class for Dog\n",
    " \n",
    "class Dog:\n",
    " \n",
    "    # Class Variable\n",
    "    animal = 'dog'\n",
    " \n",
    "    # The init method or constructor\n",
    "    def __init__(self, breed):\n",
    " \n",
    "        # Instance Variable\n",
    "        self.breed = breed\n",
    " \n",
    "    # Adds an instance variable\n",
    "    def setColor(self, color):\n",
    "        self.color = color\n",
    " \n",
    "    # Retrieves instance variable\n",
    "    def getColor(self):\n",
    "        return self.color\n",
    " \n",
    " \n",
    "# Driver Code\n",
    "Rodger = Dog(\"pug\")\n",
    "Rodger.setColor(\"brown\")\n",
    "print(Rodger.getColor())"
   ]
  },
  {
   "cell_type": "code",
   "execution_count": 23,
   "id": "da2ab8fc",
   "metadata": {},
   "outputs": [
    {
     "name": "stdout",
     "output_type": "stream",
     "text": [
      "There are many types of birds.\n",
      "Most of the birds can fly but some cannot.\n",
      "There are many types of birds.\n",
      "Sparrows can fly.\n",
      "There are many types of birds.\n",
      "Ostriches cannot fly.\n"
     ]
    }
   ],
   "source": [
    "# Example: Polymorphism in Python\n",
    "\n",
    "class Bird:\n",
    "   \n",
    "    def intro(self):\n",
    "        print(\"There are many types of birds.\")\n",
    " \n",
    "    def flight(self):\n",
    "        print(\"Most of the birds can fly but some cannot.\")\n",
    " \n",
    "class sparrow(Bird):\n",
    "   \n",
    "    def flight(self):\n",
    "        print(\"Sparrows can fly.\")\n",
    " \n",
    "class ostrich(Bird):\n",
    " \n",
    "    def flight(self):\n",
    "        print(\"Ostriches cannot fly.\")\n",
    " \n",
    "obj_bird = Bird()\n",
    "obj_spr = sparrow()\n",
    "obj_ost = ostrich()\n",
    " \n",
    "obj_bird.intro()\n",
    "obj_bird.flight()\n",
    " \n",
    "obj_spr.intro()\n",
    "obj_spr.flight()\n",
    " \n",
    "obj_ost.intro()\n",
    "obj_ost.flight()"
   ]
  },
  {
   "cell_type": "code",
   "execution_count": 24,
   "id": "c9982acd",
   "metadata": {},
   "outputs": [
    {
     "name": "stdout",
     "output_type": "stream",
     "text": [
      "GeeksforGeeks\n"
     ]
    }
   ],
   "source": [
    "# Example: Encapsulation in Python\n",
    "\n",
    "# Python program to\n",
    "# demonstrate private members\n",
    " \n",
    "# Creating a Base class\n",
    "class Base:\n",
    "    def __init__(self):\n",
    "        self.a = \"GeeksforGeeks\"\n",
    "        self.__c = \"GeeksforGeeks\"\n",
    " \n",
    "# Creating a derived class\n",
    "class Derived(Base):\n",
    "    def __init__(self):\n",
    " \n",
    "        # Calling constructor of\n",
    "        # Base class\n",
    "        Base.__init__(self)\n",
    "        print(\"Calling private member of base class: \")\n",
    "        print(self.__c)\n",
    " \n",
    " \n",
    "# Driver code\n",
    "obj1 = Base()\n",
    "print(obj1.a)\n",
    " \n",
    "# Uncommenting print(obj1.c) will\n",
    "# raise an AttributeError\n",
    " \n",
    "# Uncommenting obj2 = Derived() will\n",
    "# also raise an AtrributeError as\n",
    "# private member of base class\n",
    "# is called inside derived class"
   ]
  },
  {
   "cell_type": "code",
   "execution_count": null,
   "id": "3d968f42",
   "metadata": {},
   "outputs": [],
   "source": []
  }
 ],
 "metadata": {
  "kernelspec": {
   "display_name": "Python 3 (ipykernel)",
   "language": "python",
   "name": "python3"
  },
  "language_info": {
   "codemirror_mode": {
    "name": "ipython",
    "version": 3
   },
   "file_extension": ".py",
   "mimetype": "text/x-python",
   "name": "python",
   "nbconvert_exporter": "python",
   "pygments_lexer": "ipython3",
   "version": "3.9.12"
  }
 },
 "nbformat": 4,
 "nbformat_minor": 5
}
