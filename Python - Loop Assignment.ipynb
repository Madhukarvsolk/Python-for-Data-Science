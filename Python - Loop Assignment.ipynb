{
 "cells": [
  {
   "cell_type": "code",
   "execution_count": null,
   "id": "bc014a1c",
   "metadata": {},
   "outputs": [],
   "source": [
    "n=26\n",
    "while n>15:\n",
    "    print(n)\n",
    "    n-=2\n",
    "print(\"loop ended\")"
   ]
  },
  {
   "cell_type": "code",
   "execution_count": null,
   "id": "add44c8b",
   "metadata": {},
   "outputs": [],
   "source": [
    "n=26\n",
    "while n>15:\n",
    "    print(n)\n",
    "    n-=2\n",
    "print(\"loop ended\")"
   ]
  },
  {
   "cell_type": "code",
   "execution_count": null,
   "id": "8f398375",
   "metadata": {},
   "outputs": [],
   "source": []
  }
 ],
 "metadata": {
  "kernelspec": {
   "display_name": "Python 3 (ipykernel)",
   "language": "python",
   "name": "python3"
  },
  "language_info": {
   "codemirror_mode": {
    "name": "ipython",
    "version": 3
   },
   "file_extension": ".py",
   "mimetype": "text/x-python",
   "name": "python",
   "nbconvert_exporter": "python",
   "pygments_lexer": "ipython3",
   "version": "3.9.12"
  }
 },
 "nbformat": 4,
 "nbformat_minor": 5
}
