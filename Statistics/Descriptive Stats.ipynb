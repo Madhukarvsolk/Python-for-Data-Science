{
 "cells": [
  {
   "cell_type": "code",
   "execution_count": 1,
   "id": "4c34039e",
   "metadata": {},
   "outputs": [],
   "source": [
    "# Descriptive Statistics --> It describes the data\n",
    "# There are two types of descriptive statistics --\n",
    "# 1. Measure of Central Tendency -->  It attempts to describe the whole set of data"
   ]
  },
  {
   "cell_type": "code",
   "execution_count": 1,
   "id": "52fa23eb",
   "metadata": {},
   "outputs": [],
   "source": [
    "#1. Mean --> Sum of all the observations/ Total number of observations\n",
    "# 1 2 3 4 5 6\n",
    "# 1+2+3+4+5+6/6"
   ]
  },
  {
   "cell_type": "code",
   "execution_count": 2,
   "id": "8db22377",
   "metadata": {},
   "outputs": [],
   "source": [
    "import statistics"
   ]
  },
  {
   "cell_type": "code",
   "execution_count": 6,
   "id": "dd1d142c",
   "metadata": {},
   "outputs": [
    {
     "data": {
      "text/plain": [
       "4.75"
      ]
     },
     "execution_count": 6,
     "metadata": {},
     "output_type": "execute_result"
    }
   ],
   "source": [
    "l = [1,2,3,3,2,1,1,4,5,9,12,14]\n",
    "statistics.mean(l)"
   ]
  },
  {
   "cell_type": "code",
   "execution_count": 5,
   "id": "2ea2a475",
   "metadata": {},
   "outputs": [],
   "source": [
    "#2. Median --> Middle value of the dataset\n",
    "# 3,4,5,6,7,8,9 => n=7 Odd --> n+1/2\n",
    "# 1,2,3,4,5,6 => n=6 Even --> n/2, n/2+1\n",
    "# 3,4"
   ]
  },
  {
   "cell_type": "code",
   "execution_count": 7,
   "id": "a3cc222f",
   "metadata": {},
   "outputs": [
    {
     "data": {
      "text/plain": [
       "5"
      ]
     },
     "execution_count": 7,
     "metadata": {},
     "output_type": "execute_result"
    }
   ],
   "source": [
    "data1 = (2,3,4,5,7,9,11)\n",
    "statistics.median(data1)"
   ]
  },
  {
   "cell_type": "code",
   "execution_count": 8,
   "id": "81102af5",
   "metadata": {},
   "outputs": [
    {
     "data": {
      "text/plain": [
       "45"
      ]
     },
     "execution_count": 8,
     "metadata": {},
     "output_type": "execute_result"
    }
   ],
   "source": [
    "a = 45,11,34,29,67,55,78\n",
    "statistics.median(a)\n",
    "# 11, 29, 34, 45, 55, 67, 78"
   ]
  },
  {
   "cell_type": "code",
   "execution_count": 9,
   "id": "7af5c5bd",
   "metadata": {},
   "outputs": [
    {
     "data": {
      "text/plain": [
       "3.5"
      ]
     },
     "execution_count": 9,
     "metadata": {},
     "output_type": "execute_result"
    }
   ],
   "source": [
    "data2 = (1,2,3,4,5,6)\n",
    "statistics.median(data2)"
   ]
  },
  {
   "cell_type": "code",
   "execution_count": 10,
   "id": "190ef100",
   "metadata": {},
   "outputs": [
    {
     "data": {
      "text/plain": [
       "3"
      ]
     },
     "execution_count": 10,
     "metadata": {},
     "output_type": "execute_result"
    }
   ],
   "source": [
    "statistics.median_low(data2)"
   ]
  },
  {
   "cell_type": "code",
   "execution_count": 11,
   "id": "9d7d35ba",
   "metadata": {},
   "outputs": [
    {
     "data": {
      "text/plain": [
       "4"
      ]
     },
     "execution_count": 11,
     "metadata": {},
     "output_type": "execute_result"
    }
   ],
   "source": [
    "statistics.median_high(data2)"
   ]
  },
  {
   "cell_type": "code",
   "execution_count": 10,
   "id": "23913ddf",
   "metadata": {},
   "outputs": [],
   "source": [
    "#3. Mode --> The value that has the highest frequency in the data.\n",
    "# The value that appears most number of times\n",
    "# 1 2 3 1 1 2 2 2 1 (mode = 1) \n",
    "# 0  1\n",
    "# 1  2\n",
    "# 2  3"
   ]
  },
  {
   "cell_type": "code",
   "execution_count": 12,
   "id": "9ab886b2",
   "metadata": {},
   "outputs": [
    {
     "data": {
      "text/plain": [
       "7"
      ]
     },
     "execution_count": 12,
     "metadata": {},
     "output_type": "execute_result"
    }
   ],
   "source": [
    "a = [1,2,3,9,7,7,7,5,5,5]\n",
    "statistics.mode(a)"
   ]
  },
  {
   "cell_type": "code",
   "execution_count": 13,
   "id": "847cbeeb",
   "metadata": {},
   "outputs": [
    {
     "data": {
      "text/plain": [
       "1"
      ]
     },
     "execution_count": 13,
     "metadata": {},
     "output_type": "execute_result"
    }
   ],
   "source": [
    "b = [1, 2, 3, 1, 1, 2, 2, 2, 1]\n",
    "statistics.mode(b)"
   ]
  },
  {
   "cell_type": "code",
   "execution_count": 13,
   "id": "565b73eb",
   "metadata": {},
   "outputs": [],
   "source": [
    "#2. Measure of Variability --> It tells that how well the data is distributed.\n",
    "# The variability measures are --\n",
    "#1. Range -->The difference between the largest and the smallest value in the dataset.\n",
    "# Range --> Largest value - Smallest value\n",
    "# 22,23,24,25,29,30,32\n",
    "# Range = 32-22 --> 10\n",
    "# 1,2,3,4,22  --> Outlier --> The value which is very much far away from most of the values\n",
    "# Range = 22-1 = 20"
   ]
  },
  {
   "cell_type": "code",
   "execution_count": 14,
   "id": "b9c03d4c",
   "metadata": {},
   "outputs": [],
   "source": [
    "a = [1,2,3,4,5]\n",
    "Max = max(a)\n",
    "Min = min(a)"
   ]
  },
  {
   "cell_type": "code",
   "execution_count": 15,
   "id": "fe58e56b",
   "metadata": {},
   "outputs": [
    {
     "data": {
      "text/plain": [
       "5"
      ]
     },
     "execution_count": 15,
     "metadata": {},
     "output_type": "execute_result"
    }
   ],
   "source": [
    "Max"
   ]
  },
  {
   "cell_type": "code",
   "execution_count": 16,
   "id": "d760290c",
   "metadata": {},
   "outputs": [
    {
     "data": {
      "text/plain": [
       "1"
      ]
     },
     "execution_count": 16,
     "metadata": {},
     "output_type": "execute_result"
    }
   ],
   "source": [
    "Min"
   ]
  },
  {
   "cell_type": "code",
   "execution_count": 17,
   "id": "0e86e639",
   "metadata": {},
   "outputs": [],
   "source": [
    "Range = Max-Min"
   ]
  },
  {
   "cell_type": "code",
   "execution_count": 18,
   "id": "a7b2cde4",
   "metadata": {},
   "outputs": [
    {
     "data": {
      "text/plain": [
       "4"
      ]
     },
     "execution_count": 18,
     "metadata": {},
     "output_type": "execute_result"
    }
   ],
   "source": [
    "Range"
   ]
  },
  {
   "cell_type": "code",
   "execution_count": 20,
   "id": "ba32c3c2",
   "metadata": {},
   "outputs": [],
   "source": [
    "#2. Variance --> It is used to determine how far each number is from the mean and from every other\n",
    "#                value in the dataset.\n",
    "# 1,2,3,4,5 --> Mean = 3\n",
    "# 2,1,0,-1,-2\n",
    "# 4,1,0,1,4 --> Distance of each and every value from the mean --> 10\n",
    "# 1-2, 2-3, 3-4, 4-5\n",
    "# Distance of each value from every other value -1,-1,-1,-1, 5 --> After squaring and adding --> 9\n",
    "# 9/5 --> 1.8 \n",
    "# 10+1.8/5\n",
    "# 2.5 --> Variance"
   ]
  },
  {
   "cell_type": "code",
   "execution_count": null,
   "id": "0e08b60a",
   "metadata": {},
   "outputs": [],
   "source": []
  },
  {
   "cell_type": "code",
   "execution_count": 19,
   "id": "01521a96",
   "metadata": {},
   "outputs": [
    {
     "data": {
      "text/plain": [
       "2.5"
      ]
     },
     "execution_count": 19,
     "metadata": {},
     "output_type": "execute_result"
    }
   ],
   "source": [
    "s = (1,2,3,4,5)\n",
    "statistics.variance(s)"
   ]
  },
  {
   "cell_type": "code",
   "execution_count": 20,
   "id": "5e44fbfc",
   "metadata": {},
   "outputs": [
    {
     "data": {
      "text/plain": [
       "1.5811388300841898"
      ]
     },
     "execution_count": 20,
     "metadata": {},
     "output_type": "execute_result"
    }
   ],
   "source": [
    "#3. Standard Deviation --> The square root of variance\n",
    "statistics.stdev(s)"
   ]
  },
  {
   "cell_type": "code",
   "execution_count": null,
   "id": "7782062c",
   "metadata": {},
   "outputs": [],
   "source": [
    "# Steps for calculating the variance\n",
    "# Step 1: Find the mean.\n",
    "# Step 2: Find each score's deviation from the mean.\n",
    "# Step 3: Square each deviation from the mean.\n",
    "# Step 4: Find the sum of squares.\n",
    "# Step 5: Divide the sum of squares by n – 1 or N.\n",
    "\n"
   ]
  }
 ],
 "metadata": {
  "kernelspec": {
   "display_name": "Python 3 (ipykernel)",
   "language": "python",
   "name": "python3"
  },
  "language_info": {
   "codemirror_mode": {
    "name": "ipython",
    "version": 3
   },
   "file_extension": ".py",
   "mimetype": "text/x-python",
   "name": "python",
   "nbconvert_exporter": "python",
   "pygments_lexer": "ipython3",
   "version": "3.9.12"
  }
 },
 "nbformat": 4,
 "nbformat_minor": 5
}
