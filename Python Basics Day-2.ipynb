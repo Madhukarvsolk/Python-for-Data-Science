{
 "cells": [
  {
   "cell_type": "code",
   "execution_count": 2,
   "id": "8137b7ba",
   "metadata": {},
   "outputs": [
    {
     "name": "stdout",
     "output_type": "stream",
     "text": [
      "True\n"
     ]
    }
   ],
   "source": [
    "a = 5\n",
    "print(a<=5)"
   ]
  },
  {
   "cell_type": "code",
   "execution_count": null,
   "id": "9c358ea9",
   "metadata": {},
   "outputs": [],
   "source": [
    "#Data Types: Classification of data\n",
    "# Data types are classes, variables are objects."
   ]
  },
  {
   "cell_type": "code",
   "execution_count": 3,
   "id": "fdcf4394",
   "metadata": {},
   "outputs": [
    {
     "name": "stdout",
     "output_type": "stream",
     "text": [
      "<class 'bool'>\n"
     ]
    }
   ],
   "source": [
    "#int, float\n",
    "#Boolean : It contains two values - True and False\n",
    "#It is denoted by class bool.\n",
    "\n",
    "print(type(True))"
   ]
  },
  {
   "cell_type": "code",
   "execution_count": 4,
   "id": "8a5b2252",
   "metadata": {},
   "outputs": [
    {
     "data": {
      "text/plain": [
       "bool"
      ]
     },
     "execution_count": 4,
     "metadata": {},
     "output_type": "execute_result"
    }
   ],
   "source": [
    "type(False)"
   ]
  },
  {
   "cell_type": "code",
   "execution_count": 5,
   "id": "9c6166eb",
   "metadata": {},
   "outputs": [
    {
     "name": "stdout",
     "output_type": "stream",
     "text": [
      "Hi\n"
     ]
    }
   ],
   "source": [
    "#Immutable Data Types - Information once stored cannot be changed after declaration. Tuples, Strings\n",
    "#Strings\n",
    "s = \"Hello, World\" # helo\n",
    "s = \"Hi\"\n",
    "print(s)\n"
   ]
  },
  {
   "cell_type": "code",
   "execution_count": 7,
   "id": "b2c0d91c",
   "metadata": {},
   "outputs": [
    {
     "name": "stdout",
     "output_type": "stream",
     "text": [
      "6\n"
     ]
    }
   ],
   "source": [
    "a = 6\n",
    "print(a)"
   ]
  },
  {
   "cell_type": "code",
   "execution_count": 17,
   "id": "8884a85f",
   "metadata": {},
   "outputs": [
    {
     "data": {
      "text/plain": [
       "3"
      ]
     },
     "execution_count": 17,
     "metadata": {},
     "output_type": "execute_result"
    }
   ],
   "source": [
    "b = \"Python\"\n",
    "#Indexing - To access any particular or individual element from the collection. It works on top of indexes.\n",
    "#  P  y  t  h  o  n\n",
    "#  0  1  2  3  4  5  --> Regular indexes index()\n",
    "b.index('h') #-> index value\n"
   ]
  },
  {
   "cell_type": "code",
   "execution_count": 15,
   "id": "3f85663a",
   "metadata": {},
   "outputs": [
    {
     "data": {
      "text/plain": [
       "'h'"
      ]
     },
     "execution_count": 15,
     "metadata": {},
     "output_type": "execute_result"
    }
   ],
   "source": [
    "#Let's extract h from Python here\n",
    "b[3]  "
   ]
  },
  {
   "cell_type": "code",
   "execution_count": 23,
   "id": "4780c56d",
   "metadata": {},
   "outputs": [
    {
     "data": {
      "text/plain": [
       "2"
      ]
     },
     "execution_count": 23,
     "metadata": {},
     "output_type": "execute_result"
    }
   ],
   "source": [
    "c = \"El ephant\"\n",
    "c.index(' ')"
   ]
  },
  {
   "cell_type": "code",
   "execution_count": 24,
   "id": "9c214980",
   "metadata": {},
   "outputs": [
    {
     "data": {
      "text/plain": [
       "4"
      ]
     },
     "execution_count": 24,
     "metadata": {},
     "output_type": "execute_result"
    }
   ],
   "source": [
    "b.index('o')"
   ]
  },
  {
   "cell_type": "code",
   "execution_count": 25,
   "id": "7271ba3e",
   "metadata": {},
   "outputs": [
    {
     "data": {
      "text/plain": [
       "'o'"
      ]
     },
     "execution_count": 25,
     "metadata": {},
     "output_type": "execute_result"
    }
   ],
   "source": [
    "b[4]"
   ]
  },
  {
   "cell_type": "code",
   "execution_count": 26,
   "id": "f562cdba",
   "metadata": {},
   "outputs": [
    {
     "data": {
      "text/plain": [
       "'e'"
      ]
     },
     "execution_count": 26,
     "metadata": {},
     "output_type": "execute_result"
    }
   ],
   "source": [
    "c[3]"
   ]
  },
  {
   "cell_type": "code",
   "execution_count": 27,
   "id": "46181c1d",
   "metadata": {},
   "outputs": [
    {
     "data": {
      "text/plain": [
       "'ytho'"
      ]
     },
     "execution_count": 27,
     "metadata": {},
     "output_type": "execute_result"
    }
   ],
   "source": [
    "#slicing -> Concept to extract out a sequence of elements.\n",
    "b = \"Python\"  #Syntax - variable_name[start:end+1]\n",
    "b[1:5]"
   ]
  },
  {
   "cell_type": "code",
   "execution_count": 29,
   "id": "1623b93e",
   "metadata": {},
   "outputs": [
    {
     "data": {
      "text/plain": [
       "'thon'"
      ]
     },
     "execution_count": 29,
     "metadata": {},
     "output_type": "execute_result"
    }
   ],
   "source": [
    "b[2:] #[2,5] --> 2,3,4"
   ]
  },
  {
   "cell_type": "code",
   "execution_count": 30,
   "id": "630368f4",
   "metadata": {},
   "outputs": [
    {
     "data": {
      "text/plain": [
       "'hon'"
      ]
     },
     "execution_count": 30,
     "metadata": {},
     "output_type": "execute_result"
    }
   ],
   "source": [
    "b[3:6]"
   ]
  },
  {
   "cell_type": "code",
   "execution_count": 36,
   "id": "87951965",
   "metadata": {},
   "outputs": [
    {
     "data": {
      "text/plain": [
       "('yt', 'hon')"
      ]
     },
     "execution_count": 36,
     "metadata": {},
     "output_type": "execute_result"
    }
   ],
   "source": [
    "b[1:3], b[3:6]"
   ]
  },
  {
   "cell_type": "code",
   "execution_count": 37,
   "id": "c1fd1e56",
   "metadata": {},
   "outputs": [
    {
     "data": {
      "text/plain": [
       "'Python'"
      ]
     },
     "execution_count": 37,
     "metadata": {},
     "output_type": "execute_result"
    }
   ],
   "source": [
    "b"
   ]
  },
  {
   "cell_type": "code",
   "execution_count": 38,
   "id": "ac1e5ed4",
   "metadata": {},
   "outputs": [
    {
     "data": {
      "text/plain": [
       "'Python'"
      ]
     },
     "execution_count": 38,
     "metadata": {},
     "output_type": "execute_result"
    }
   ],
   "source": [
    "b[0:6]"
   ]
  },
  {
   "cell_type": "code",
   "execution_count": 39,
   "id": "6b33dad4",
   "metadata": {},
   "outputs": [
    {
     "data": {
      "text/plain": [
       "'n'"
      ]
     },
     "execution_count": 39,
     "metadata": {},
     "output_type": "execute_result"
    }
   ],
   "source": [
    "#Negative Indexing\n",
    "# P  y  t  h  o  n\n",
    "# 0  1  2  3  4  5  --> Regular indexing\n",
    "#-6 -5 -4 -3 -2 -1  --> Negative Indexing\n",
    "b[-1]"
   ]
  },
  {
   "cell_type": "code",
   "execution_count": 41,
   "id": "33cf0e9b",
   "metadata": {},
   "outputs": [
    {
     "data": {
      "text/plain": [
       "'Python B'"
      ]
     },
     "execution_count": 41,
     "metadata": {},
     "output_type": "execute_result"
    }
   ],
   "source": [
    "v = \"Python Basics\"\n",
    "#v = \"P y t h o n   B a s i  c  s\"\n",
    "#     0 1 2 3 4 5 6 7 8 9 10 11 12\n",
    "v[0:8]"
   ]
  },
  {
   "cell_type": "code",
   "execution_count": 42,
   "id": "952d3f10",
   "metadata": {},
   "outputs": [
    {
     "data": {
      "text/plain": [
       "'Pto '"
      ]
     },
     "execution_count": 42,
     "metadata": {},
     "output_type": "execute_result"
    }
   ],
   "source": [
    "v[0:8:2]"
   ]
  },
  {
   "cell_type": "code",
   "execution_count": 43,
   "id": "84884fda",
   "metadata": {},
   "outputs": [
    {
     "ename": "TypeError",
     "evalue": "'str' object does not support item assignment",
     "output_type": "error",
     "traceback": [
      "\u001b[1;31m---------------------------------------------------------------------------\u001b[0m",
      "\u001b[1;31mTypeError\u001b[0m                                 Traceback (most recent call last)",
      "Input \u001b[1;32mIn [43]\u001b[0m, in \u001b[0;36m<cell line: 1>\u001b[1;34m()\u001b[0m\n\u001b[1;32m----> 1\u001b[0m v[\u001b[38;5;241m1\u001b[39m] \u001b[38;5;241m=\u001b[39m \u001b[38;5;124m'\u001b[39m\u001b[38;5;124ma\u001b[39m\u001b[38;5;124m'\u001b[39m\n",
      "\u001b[1;31mTypeError\u001b[0m: 'str' object does not support item assignment"
     ]
    }
   ],
   "source": [
    "v[1] = 'a'"
   ]
  },
  {
   "cell_type": "code",
   "execution_count": 47,
   "id": "595c10ab",
   "metadata": {},
   "outputs": [],
   "source": [
    "#Tuple -> Can hold multiple values such as string, int, float, etc.\n",
    "#How to create a Tuple -> 1. without brackets \n",
    "t = 12, 90, 78, 'querty', True"
   ]
  },
  {
   "cell_type": "code",
   "execution_count": 48,
   "id": "42b30c77",
   "metadata": {},
   "outputs": [
    {
     "name": "stdout",
     "output_type": "stream",
     "text": [
      "(12, 90, 78, 'querty', True)\n"
     ]
    }
   ],
   "source": [
    "print(t)"
   ]
  },
  {
   "cell_type": "code",
   "execution_count": 50,
   "id": "0a654c58",
   "metadata": {},
   "outputs": [],
   "source": [
    "#2. Using brackets\n",
    "t1 = (12, 90, 45, 'Python', False)"
   ]
  },
  {
   "cell_type": "code",
   "execution_count": 52,
   "id": "a693e147",
   "metadata": {},
   "outputs": [
    {
     "data": {
      "text/plain": [
       "(12, 90, 45, 'Python', False)"
      ]
     },
     "execution_count": 52,
     "metadata": {},
     "output_type": "execute_result"
    }
   ],
   "source": [
    "t1"
   ]
  },
  {
   "cell_type": "code",
   "execution_count": 53,
   "id": "ecda1db9",
   "metadata": {},
   "outputs": [
    {
     "data": {
      "text/plain": [
       "45"
      ]
     },
     "execution_count": 53,
     "metadata": {},
     "output_type": "execute_result"
    }
   ],
   "source": [
    "t1[2]"
   ]
  },
  {
   "cell_type": "code",
   "execution_count": 56,
   "id": "15060ae9",
   "metadata": {},
   "outputs": [
    {
     "data": {
      "text/plain": [
       "tuple"
      ]
     },
     "execution_count": 56,
     "metadata": {},
     "output_type": "execute_result"
    }
   ],
   "source": [
    "t1[1:4]\n",
    "type(t1)"
   ]
  },
  {
   "cell_type": "code",
   "execution_count": 55,
   "id": "d99a5b8e",
   "metadata": {},
   "outputs": [
    {
     "ename": "TypeError",
     "evalue": "'tuple' object does not support item assignment",
     "output_type": "error",
     "traceback": [
      "\u001b[1;31m---------------------------------------------------------------------------\u001b[0m",
      "\u001b[1;31mTypeError\u001b[0m                                 Traceback (most recent call last)",
      "Input \u001b[1;32mIn [55]\u001b[0m, in \u001b[0;36m<cell line: 1>\u001b[1;34m()\u001b[0m\n\u001b[1;32m----> 1\u001b[0m t1[\u001b[38;5;241m1\u001b[39m] \u001b[38;5;241m=\u001b[39m \u001b[38;5;241m95\u001b[39m\n",
      "\u001b[1;31mTypeError\u001b[0m: 'tuple' object does not support item assignment"
     ]
    }
   ],
   "source": [
    "t1[1] = 95"
   ]
  },
  {
   "cell_type": "code",
   "execution_count": null,
   "id": "4390a39f",
   "metadata": {},
   "outputs": [],
   "source": [
    "#Mutable Data Types -> Information once stored can be changed after its declaration. Lists, Dictionary and sets"
   ]
  },
  {
   "cell_type": "code",
   "execution_count": 57,
   "id": "11dfb020",
   "metadata": {},
   "outputs": [
    {
     "name": "stdout",
     "output_type": "stream",
     "text": [
      "<class 'list'>\n"
     ]
    }
   ],
   "source": [
    "#List -> Can contain multiple sets of information all at once in a single variable.\n",
    "#How to create a list --> \n",
    "l = [12, 88, 55, 'qwerty', True]\n",
    "print(type(l))"
   ]
  },
  {
   "cell_type": "code",
   "execution_count": 58,
   "id": "9c78129e",
   "metadata": {},
   "outputs": [],
   "source": [
    "l[1] = 66"
   ]
  },
  {
   "cell_type": "code",
   "execution_count": 59,
   "id": "f668a6ad",
   "metadata": {},
   "outputs": [
    {
     "data": {
      "text/plain": [
       "[12, 66, 55, 'qwerty', True]"
      ]
     },
     "execution_count": 59,
     "metadata": {},
     "output_type": "execute_result"
    }
   ],
   "source": [
    "l"
   ]
  },
  {
   "cell_type": "code",
   "execution_count": 61,
   "id": "b22983a8",
   "metadata": {},
   "outputs": [
    {
     "data": {
      "text/plain": [
       "['Python', 55.6]"
      ]
     },
     "execution_count": 61,
     "metadata": {},
     "output_type": "execute_result"
    }
   ],
   "source": [
    "l1 = [12, 66, 55, ['Python', 55.6]]\n",
    "l1[3]\n",
    "#  12  66  55  python  55.6\n",
    "#  0  1    2   ------3------\n",
    "                0       1"
   ]
  },
  {
   "cell_type": "code",
   "execution_count": 62,
   "id": "578409fe",
   "metadata": {},
   "outputs": [
    {
     "data": {
      "text/plain": [
       "'Python'"
      ]
     },
     "execution_count": 62,
     "metadata": {},
     "output_type": "execute_result"
    }
   ],
   "source": [
    "l1[3][0]"
   ]
  },
  {
   "cell_type": "code",
   "execution_count": 63,
   "id": "c64aeda0",
   "metadata": {},
   "outputs": [],
   "source": [
    "#Dictionary --> We can store multiple data types, elements do not have a pre-defined index value location."
   ]
  },
  {
   "cell_type": "code",
   "execution_count": null,
   "id": "18c48e24",
   "metadata": {},
   "outputs": [],
   "source": [
    "#key - value pairs\n",
    "# 13, 45.92, 'Python', True\n",
    "# e1   101     e3       61  -> user-defined index"
   ]
  },
  {
   "cell_type": "code",
   "execution_count": 84,
   "id": "3a6ef2e4",
   "metadata": {},
   "outputs": [],
   "source": [
    "d = {'e1': 13, 101: 45.92, 'e3': 'Python', 61:True, 34:13}"
   ]
  },
  {
   "cell_type": "code",
   "execution_count": 65,
   "id": "1a9c4217",
   "metadata": {},
   "outputs": [
    {
     "data": {
      "text/plain": [
       "{'e1': 13, 101: 45.92, 'e3': 'Python', 61: True}"
      ]
     },
     "execution_count": 65,
     "metadata": {},
     "output_type": "execute_result"
    }
   ],
   "source": [
    "d"
   ]
  },
  {
   "cell_type": "code",
   "execution_count": 66,
   "id": "59c66008",
   "metadata": {},
   "outputs": [
    {
     "data": {
      "text/plain": [
       "dict"
      ]
     },
     "execution_count": 66,
     "metadata": {},
     "output_type": "execute_result"
    }
   ],
   "source": [
    "type(d)"
   ]
  },
  {
   "cell_type": "code",
   "execution_count": 70,
   "id": "5aa7219f",
   "metadata": {},
   "outputs": [
    {
     "data": {
      "text/plain": [
       "76"
      ]
     },
     "execution_count": 70,
     "metadata": {},
     "output_type": "execute_result"
    }
   ],
   "source": [
    "d[101]"
   ]
  },
  {
   "cell_type": "code",
   "execution_count": 69,
   "id": "b3afec4e",
   "metadata": {},
   "outputs": [],
   "source": [
    "d[101] = 76\n"
   ]
  },
  {
   "cell_type": "code",
   "execution_count": 74,
   "id": "38b931cd",
   "metadata": {},
   "outputs": [],
   "source": [
    "#Sets --> Can can hold multiple values at once,  it can only contain original values\n",
    "s = {'abc', 2, 3, True, 2, 3}"
   ]
  },
  {
   "cell_type": "code",
   "execution_count": 75,
   "id": "a075f5fc",
   "metadata": {},
   "outputs": [
    {
     "data": {
      "text/plain": [
       "{2, 3, True, 'abc'}"
      ]
     },
     "execution_count": 75,
     "metadata": {},
     "output_type": "execute_result"
    }
   ],
   "source": [
    "s"
   ]
  },
  {
   "cell_type": "code",
   "execution_count": 76,
   "id": "72fa1583",
   "metadata": {},
   "outputs": [
    {
     "ename": "TypeError",
     "evalue": "'set' object is not subscriptable",
     "output_type": "error",
     "traceback": [
      "\u001b[1;31m---------------------------------------------------------------------------\u001b[0m",
      "\u001b[1;31mTypeError\u001b[0m                                 Traceback (most recent call last)",
      "Input \u001b[1;32mIn [76]\u001b[0m, in \u001b[0;36m<cell line: 1>\u001b[1;34m()\u001b[0m\n\u001b[1;32m----> 1\u001b[0m \u001b[43ms\u001b[49m\u001b[43m[\u001b[49m\u001b[38;5;241;43m1\u001b[39;49m\u001b[43m]\u001b[49m\n",
      "\u001b[1;31mTypeError\u001b[0m: 'set' object is not subscriptable"
     ]
    }
   ],
   "source": [
    "s[1]"
   ]
  },
  {
   "cell_type": "code",
   "execution_count": 77,
   "id": "ff24d077",
   "metadata": {},
   "outputs": [],
   "source": [
    "l2 = [25, 4, 5, 23, 67, 67, 67]"
   ]
  },
  {
   "cell_type": "code",
   "execution_count": 78,
   "id": "b1b1e386",
   "metadata": {},
   "outputs": [],
   "source": [
    "s1 = set(l2)"
   ]
  },
  {
   "cell_type": "code",
   "execution_count": 79,
   "id": "711240eb",
   "metadata": {},
   "outputs": [
    {
     "data": {
      "text/plain": [
       "{4, 5, 23, 25, 67}"
      ]
     },
     "execution_count": 79,
     "metadata": {},
     "output_type": "execute_result"
    }
   ],
   "source": [
    "s1"
   ]
  },
  {
   "cell_type": "code",
   "execution_count": 80,
   "id": "e1020d26",
   "metadata": {},
   "outputs": [],
   "source": [
    "l3 = list(s1)"
   ]
  },
  {
   "cell_type": "code",
   "execution_count": 81,
   "id": "76be5f79",
   "metadata": {},
   "outputs": [
    {
     "data": {
      "text/plain": [
       "[67, 4, 5, 23, 25]"
      ]
     },
     "execution_count": 81,
     "metadata": {},
     "output_type": "execute_result"
    }
   ],
   "source": [
    "l3"
   ]
  },
  {
   "cell_type": "code",
   "execution_count": 85,
   "id": "35078e0a",
   "metadata": {},
   "outputs": [],
   "source": [
    "s4 = set(d)"
   ]
  },
  {
   "cell_type": "code",
   "execution_count": 86,
   "id": "d0e30304",
   "metadata": {},
   "outputs": [
    {
     "data": {
      "text/plain": [
       "{101, 34, 61, 'e1', 'e3'}"
      ]
     },
     "execution_count": 86,
     "metadata": {},
     "output_type": "execute_result"
    }
   ],
   "source": [
    "s4"
   ]
  },
  {
   "cell_type": "code",
   "execution_count": null,
   "id": "4566135f",
   "metadata": {},
   "outputs": [],
   "source": []
  }
 ],
 "metadata": {
  "kernelspec": {
   "display_name": "Python 3 (ipykernel)",
   "language": "python",
   "name": "python3"
  },
  "language_info": {
   "codemirror_mode": {
    "name": "ipython",
    "version": 3
   },
   "file_extension": ".py",
   "mimetype": "text/x-python",
   "name": "python",
   "nbconvert_exporter": "python",
   "pygments_lexer": "ipython3",
   "version": "3.9.12"
  }
 },
 "nbformat": 4,
 "nbformat_minor": 5
}
