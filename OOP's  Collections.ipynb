{
 "cells": [
  {
   "cell_type": "markdown",
   "metadata": {},
   "source": [
    "# Object Oriented Programe - Python\n",
    "\n",
    "- It creates the objects\n",
    "\n",
    "- Objects : They are the group of statements which are of \"inter-related variables and functions\"\n",
    "\n",
    "- Variables : They are the properties of objects, example: car color, features etc  are properties of car \n",
    "\n",
    "- Functions : They are the behaviour of the objects, example: speed, moving, playing music, ac etc in car\n"
   ]
  },
  {
   "cell_type": "markdown",
   "metadata": {},
   "source": [
    "# Classes and Instances \n",
    "\n",
    "- Class : It is a blueprint or tamplate of entities of the same kind\n",
    "          - They are also used to create user-defined data structures \n",
    "          - They also used to create user-defined functions within classes where it identifies the behaviours and                   actions that an objects created for the class\n",
    "          - They are merely tamplate and doesnt contain any data\n",
    "          - Example: A questionary form without answers(data) is called as classes \n",
    "          - The classes uses the user defined structures called as \"Methods\" which usually starts with dunders \"__ int __\"\n",
    "\n",
    "- Instances : They realise the data in the classes with unique memory address\n",
    "              - They contain data\n",
    "              - Example: A questoionary form filled by many \n",
    "          "
   ]
  },
  {
   "cell_type": "markdown",
   "metadata": {
    "tags": []
   },
   "source": [
    "# Initilizing the Instance variables\n",
    "\n",
    "- Initialized init() will intialize every new instances we create hereon with instance's (circle) objects with initial values\n",
    "- It will initilize the initial state of the instances by assigning the values to an obbject properties \n",
    "- Though we can give any number of parameters, the first paramenter is always called as \"self\"\n",
    "\n",
    "- self : It is a 1st parameter of all the \"member methods\" that shall be an \"object\" called \"self\"\n",
    "- During the invokation, it binds itself to call its object.\n",
    "- Whenever a new instances are created, those instances are authomatically passed to the \"self\" paramenters in the init(), it will benifit us while creating the new attributes in the objects because, it can be defined in the objects."
   ]
  },
  {
   "cell_type": "code",
   "execution_count": 100,
   "metadata": {},
   "outputs": [],
   "source": [
    "# Initilizing the Instance variables\n",
    "\n",
    "class Circle:                        # Created a instance named \"circle\"\n",
    "    def __init__(self, radius=1.0):  # Initilized radius is set to 1.0 as default\n",
    "        self.radius = radius         # created a instance variable named \"radius\" in the instance \"circle\"\n",
    "        "
   ]
  },
  {
   "cell_type": "markdown",
   "metadata": {
    "tags": []
   },
   "source": [
    "# Class or Instances Attributes\n",
    "\n",
    "Instance Attribute : Any attributes created in init() are called as Instances Attributes\n",
    "\n",
    "- An instance attribute's value is specific to a perticular instance of the class.\n",
    "- Example : All dog objects have a name and age but the values within it like their names and age are differnt depending upon dog's instance\n",
    "\n",
    "Class Attributes : They are attributes whoich are common in all the instances of the class.\n",
    "\n",
    "- We can define a class attribute by defining the variable with a perticular value assigining to it outside of the __ init __"
   ]
  },
  {
   "cell_type": "code",
   "execution_count": 101,
   "metadata": {
    "tags": []
   },
   "outputs": [],
   "source": [
    "class Circle:\n",
    "    shape_object = \"Circle\"               # Class Attribute\n",
    "\n",
    "# A variable \"shape_object\" which has string \"Circle\" is constant for every class instance of \"class circle\"\n",
    "    \n",
    "    def __init__(self, radius = 1.0):     # Instance Attribute  \n",
    "        self.radius = radius\n",
    "# Here, the values are'nt constant as it varies depending upon values assigned into a perticular instances \n"
   ]
  },
  {
   "cell_type": "markdown",
   "metadata": {},
   "source": [
    "# Instantiating an object \n",
    "\n",
    "- Creating a new object in a class is called instantiating the object"
   ]
  },
  {
   "cell_type": "code",
   "execution_count": 102,
   "metadata": {},
   "outputs": [
    {
     "data": {
      "text/plain": [
       "53407520"
      ]
     },
     "execution_count": 102,
     "metadata": {},
     "output_type": "execute_result"
    }
   ],
   "source": [
    "c1 = Circle()         # Instance 1 of class Circle\n",
    "id(c1)                # A new circle object at perticular memory location"
   ]
  },
  {
   "cell_type": "code",
   "execution_count": 103,
   "metadata": {},
   "outputs": [
    {
     "data": {
      "text/plain": [
       "54051160"
      ]
     },
     "execution_count": 103,
     "metadata": {},
     "output_type": "execute_result"
    }
   ],
   "source": [
    "c2 = Circle()         # Instance 2 of same class Circle\n",
    "id(c2)                # One more new circle object at different memory location "
   ]
  },
  {
   "cell_type": "code",
   "execution_count": 104,
   "metadata": {},
   "outputs": [
    {
     "name": "stdout",
     "output_type": "stream",
     "text": [
      "False\n",
      "True\n"
     ]
    }
   ],
   "source": [
    "a = Circle(3)\n",
    "b = Circle(33)\n",
    "\n",
    "print(a==b)\n",
    "print(a!=b)"
   ]
  },
  {
   "cell_type": "markdown",
   "metadata": {},
   "source": [
    "# Class Methods\n",
    "\n",
    "- A class method belongs to a perticular class and is a function of the class. \n",
    "- It is declared as @classmethod decorator. It will aceept the class as its first argument \n",
    "\n",
    "# Instance Method\n",
    "\n",
    "- It invokes instance object and not class object\n",
    "- It takes \"self\" as its first argument\n",
    "\n",
    "# Static Method\n",
    "\n",
    "- It does'nt know its class but just attached for convineance \n",
    "- Declared with @staticmethod\n",
    "- Can be invoked via a class object or instance object\n",
    "- It wont depend upon the state of object, it can stay as seperate function "
   ]
  },
  {
   "cell_type": "code",
   "execution_count": 111,
   "metadata": {},
   "outputs": [
    {
     "name": "stdout",
     "output_type": "stream",
     "text": [
      "<class '__main__.Myclass'>\n",
      "hello from Myclass , madhu\n"
     ]
    }
   ],
   "source": [
    "# Class Method\n",
    "\n",
    "class Myclass:\n",
    "    @classmethod\n",
    "    def hello(self, name):\n",
    "        print(self)\n",
    "        print('hello from', self.__name__,',', name)\n",
    "        \n",
    "Myclass.hello(\"madhu\")"
   ]
  },
  {
   "cell_type": "code",
   "execution_count": 106,
   "metadata": {},
   "outputs": [],
   "source": [
    "# Instnce Methood\n",
    "\n",
    "class Myclass():\n",
    "    def hello(self):\n",
    "        print('hello from', self.__class__.__name__)\n",
    "        "
   ]
  },
  {
   "cell_type": "code",
   "execution_count": 110,
   "metadata": {},
   "outputs": [
    {
     "name": "stdout",
     "output_type": "stream",
     "text": [
      "hello from Myclass\n"
     ]
    }
   ],
   "source": [
    "myinstance1 = Myclass()   # Creating instance in some variable\n",
    "myinstance1.hello()       # Invoking that variable is actually invokiing that instance"
   ]
  },
  {
   "cell_type": "code",
   "execution_count": 114,
   "metadata": {},
   "outputs": [],
   "source": [
    "class Myclass:\n",
    "    @staticmethod\n",
    "    def hello():\n",
    "        print('hello, world')"
   ]
  },
  {
   "cell_type": "code",
   "execution_count": 115,
   "metadata": {},
   "outputs": [
    {
     "name": "stdout",
     "output_type": "stream",
     "text": [
      "hello, world\n"
     ]
    }
   ],
   "source": [
    "myinstance1 = Myclass()\n",
    "myinstance1.hello()"
   ]
  },
  {
   "cell_type": "code",
   "execution_count": null,
   "metadata": {},
   "outputs": [],
   "source": []
  },
  {
   "cell_type": "code",
   "execution_count": 21,
   "metadata": {},
   "outputs": [
    {
     "name": "stdout",
     "output_type": "stream",
     "text": [
      "tomoto, onion, and cheese\n",
      "rice, chutny and sambar\n",
      "The Pizza had tomoto, onion, and cheese prepared in 30 minutes\n",
      "None\n",
      "The Idly_Dosa had rice, chutny and sambar prepared in 5 minutes\n",
      "None\n"
     ]
    }
   ],
   "source": [
    "class Recipy():\n",
    "    def __init__(self, dish, items, time):\n",
    "        self.dish = dish \n",
    "        self.items = items\n",
    "        self.time = time\n",
    "        \n",
    "    def contents(self):\n",
    "        print(\"The \" + str(self.dish) + \" had \" + str(self.items) + \" prepared in \" + str(self.time) + \" minutes\")\n",
    "        \n",
    "pizza = Recipy(\"Pizza\", \"tomoto, onion, and cheese\", 30)\n",
    "idli_dosa = Recipy(\"Idly_Dosa\", \"rice, chutny and sambar\", 5)\n",
    "\n",
    "print(pizza.items)\n",
    "print(idli_dosa.items)\n",
    "\n",
    "print(pizza.contents())\n",
    "print(idli_dosa.contents())"
   ]
  },
  {
   "cell_type": "code",
   "execution_count": 28,
   "metadata": {},
   "outputs": [
    {
     "name": "stdout",
     "output_type": "stream",
     "text": [
      "Who wrote this?\n",
      "Author Pluto wrote that book Republic\n",
      "None\n"
     ]
    }
   ],
   "source": [
    "# Define class MyFirstClass\n",
    "\n",
    "class MyFirstClass():\n",
    "    print(\"Who wrote this?\")\n",
    "\n",
    "    # Define string variable called index\n",
    "    index = \"Audio Book\"\n",
    "    \n",
    "    # Define function hand_list()\n",
    "\n",
    "    def __init__(self, philosopher, book):\n",
    "\n",
    "        self.philosopher = philosopher\n",
    "        self.book = book\n",
    "        \n",
    "    def hand_list(self):\n",
    "    \n",
    "        # variable + “ wrote the book: ” + variable\n",
    "        print (\"Author \" + str(self.philosopher) + \" wrote that book \" + str(self.book))\n",
    "\n",
    "# Call function handlist()\n",
    "\n",
    "\n",
    "author  = MyFirstClass(\"Pluto\", \"Republic\")\n",
    "\n",
    "print(author.hand_list())\n",
    "\n",
    "# Here you have initilized the Parent class with parameters. \n",
    "# So only you passed parameters in parent class while calling function"
   ]
  },
  {
   "cell_type": "code",
   "execution_count": 34,
   "metadata": {},
   "outputs": [
    {
     "name": "stdout",
     "output_type": "stream",
     "text": [
      "Who wrote Sages Psyche?\n",
      "Author-Book\n",
      "Madhukar wrote the book: Sages Psyche\n"
     ]
    }
   ],
   "source": [
    "class MyFirstClass():\n",
    "    print(\"Who wrote Sages Psyche?\")\n",
    "    index = \"Author-Book\"\n",
    "\n",
    "    def hand_list(self, philosopher, book):\n",
    "        print(MyFirstClass.index)\n",
    "        print(philosopher + \" wrote the book: \" + book)\n",
    "\n",
    "whodunnit = MyFirstClass()\n",
    "whodunnit.hand_list(\"Madhukar\", \"Sages Psyche\")\n",
    "\n",
    "# Since you have initilized child class, You have to pass parameters into child function only"
   ]
  },
  {
   "cell_type": "code",
   "execution_count": 56,
   "metadata": {},
   "outputs": [
    {
     "name": "stdout",
     "output_type": "stream",
     "text": [
      "Madhukar  paid the  10000\n",
      "Svarat  not paid  20000\n",
      "None \n",
      " None\n"
     ]
    }
   ],
   "source": [
    "# Payment method \n",
    "\n",
    "class payslips():\n",
    "    def __init__(self, Name, Payment, Amount):\n",
    "        self.Name = Name\n",
    "        self.Payment = Payment\n",
    "        self.Amount = Amount\n",
    "        \n",
    "    def payment(self, pay):\n",
    "        self.Payment = \"yes\"\n",
    "        \n",
    "    def status(self):\n",
    "        if self.Payment == \"yes\":\n",
    "            \n",
    "            print(self.Name, \" paid the \", self.Amount)\n",
    "            \n",
    "        else:\n",
    "                \n",
    "            print(self.Name, \" not paid \", self.Amount)\n",
    "                \n",
    "\n",
    "a = payslips(\"Madhukar\", \"yes\", 10000)  # Instances\n",
    "\n",
    "b = payslips(\"Svarat\", \"no\", 20000)     # Instances\n",
    "\n",
    "print(a.status(),\"\\n\", b.status())\n",
    "\n",
    "# Changes made in an instance object affect only that instance.   "
   ]
  },
  {
   "cell_type": "code",
   "execution_count": null,
   "metadata": {},
   "outputs": [],
   "source": []
  },
  {
   "cell_type": "code",
   "execution_count": 74,
   "metadata": {},
   "outputs": [
    {
     "name": "stdout",
     "output_type": "stream",
     "text": [
      "May I take a leave for 3 days?\n",
      "Svarat\n",
      "J\n",
      "May I take a leave for 3 days?\n",
      "Prateek\n",
      "K\n",
      "Madhukar\n",
      " V\n",
      "xyz\n"
     ]
    }
   ],
   "source": [
    "# Child and Parent class\n",
    "\n",
    "class Employees:\n",
    "    def __init__(self, name, last):\n",
    "        self.name = name\n",
    "        self.last = last\n",
    "        \n",
    "class Supervisor(Employees):\n",
    "    def __init__(self, name, last, password):\n",
    "        super().__init__(name, last)             # super() is a built in function\n",
    "        self.password = password\n",
    "        \n",
    "class Chefs(Employees):\n",
    "    def leave_requests(self, days):\n",
    "        \n",
    "        return \"May I take a leave for \" + str(days) + \" days?\"\n",
    "        \n",
    "a = Supervisor(\"Madhukar\", \" V\", \"xyz\")\n",
    "\n",
    "b = Chefs(\"Svarat\", \"J\")  # because Employees.__init__() takes 3 positional arguments, we called for Employee class\n",
    "\n",
    "c = Chefs(\"Prateek\", \"K\") # Chefs is the child class of Employee, so it inhereted only 2 parameters\n",
    "\n",
    "print(b.leave_requests(3))\n",
    "\n",
    "print(b.name)\n",
    "\n",
    "print(b.last)\n",
    "\n",
    "print(c.leave_requests(3))\n",
    "\n",
    "print(c.name)\n",
    "\n",
    "print(c.last)\n",
    "\n",
    "print(a.name)\n",
    "\n",
    "print(a.last)\n",
    "\n",
    "print(a.password)"
   ]
  },
  {
   "cell_type": "code",
   "execution_count": 67,
   "metadata": {},
   "outputs": [
    {
     "ename": "<class 'TypeError'>",
     "evalue": "Employees.__init__() takes 3 positional arguments but 4 were given",
     "output_type": "error",
     "traceback": [
      "\u001b[0;31m---------------------------------------------------------------------------\u001b[0m",
      "\u001b[0;31mTypeError\u001b[0m                                 Traceback (most recent call last)",
      "Cell \u001b[0;32mIn [67], line 1\u001b[0m\n\u001b[0;32m----> 1\u001b[0m b \u001b[38;5;241m=\u001b[39m \u001b[43mChefs\u001b[49m\u001b[43m(\u001b[49m\u001b[38;5;124;43m\"\u001b[39;49m\u001b[38;5;124;43mSvarat\u001b[39;49m\u001b[38;5;124;43m\"\u001b[39;49m\u001b[43m,\u001b[49m\u001b[43m \u001b[49m\u001b[38;5;124;43m\"\u001b[39;49m\u001b[38;5;124;43mJ\u001b[39;49m\u001b[38;5;124;43m\"\u001b[39;49m\u001b[43m,\u001b[49m\u001b[43m \u001b[49m\u001b[38;5;124;43m\"\u001b[39;49m\u001b[38;5;124;43mxys\u001b[39;49m\u001b[38;5;124;43m\"\u001b[39;49m\u001b[43m)\u001b[49m\n\u001b[1;32m      3\u001b[0m c \u001b[38;5;241m=\u001b[39m Chefs(\u001b[38;5;124m\"\u001b[39m\u001b[38;5;124mPrateek\u001b[39m\u001b[38;5;124m\"\u001b[39m, \u001b[38;5;124m\"\u001b[39m\u001b[38;5;124mK\u001b[39m\u001b[38;5;124m\"\u001b[39m, \u001b[38;5;124m\"\u001b[39m\u001b[38;5;124mxys\u001b[39m\u001b[38;5;124m\"\u001b[39m)\n",
      "\u001b[0;31mTypeError\u001b[0m: Employees.__init__() takes 3 positional arguments but 4 were given"
     ]
    }
   ],
   "source": [
    "b = Chefs(\"Svarat\", \"J\", \"xys\")\n",
    "\n",
    "c = Chefs(\"Prateek\", \"K\", \"xys\")\n",
    "\n",
    "# it gives error due to chefs couldnt inheret from its parent Employee class which as only 2 parameters"
   ]
  },
  {
   "cell_type": "code",
   "execution_count": 75,
   "metadata": {},
   "outputs": [
    {
     "ename": "<class 'AttributeError'>",
     "evalue": "'Supervisor' object has no attribute 'leave_requests'",
     "output_type": "error",
     "traceback": [
      "\u001b[0;31m---------------------------------------------------------------------------\u001b[0m",
      "\u001b[0;31mAttributeError\u001b[0m                            Traceback (most recent call last)",
      "Cell \u001b[0;32mIn [75], line 1\u001b[0m\n\u001b[0;32m----> 1\u001b[0m \u001b[38;5;28mprint\u001b[39m(\u001b[43ma\u001b[49m\u001b[38;5;241;43m.\u001b[39;49m\u001b[43mleave_requests\u001b[49m(\u001b[38;5;241m3\u001b[39m))\n\u001b[1;32m      3\u001b[0m \u001b[38;5;66;03m# It gives error Changes made to a child class do not extend to the parent class\u001b[39;00m\n",
      "\u001b[0;31mAttributeError\u001b[0m: 'Supervisor' object has no attribute 'leave_requests'"
     ]
    }
   ],
   "source": [
    "print(a.leave_requests(3))\n",
    "\n",
    "# It gives error Changes made to a child class do not extend to the parent class"
   ]
  },
  {
   "cell_type": "code",
   "execution_count": null,
   "metadata": {},
   "outputs": [],
   "source": []
  },
  {
   "cell_type": "code",
   "execution_count": 94,
   "metadata": {},
   "outputs": [
    {
     "name": "stdout",
     "output_type": "stream",
     "text": [
      "1 2\n"
     ]
    }
   ],
   "source": [
    "class A:\n",
    "   a = 1\n",
    "   \n",
    "class B:\n",
    "   b = 2\n",
    "   \n",
    "class C(A, B):\n",
    "   pass\n",
    "\n",
    "c = C()\n",
    "print(c.a, c.b)\n"
   ]
  },
  {
   "cell_type": "code",
   "execution_count": 95,
   "metadata": {},
   "outputs": [
    {
     "name": "stdout",
     "output_type": "stream",
     "text": [
      "2\n"
     ]
    }
   ],
   "source": [
    "class A:\n",
    "   a = 1\n",
    "\n",
    "class B(A):\n",
    "   a = 2\n",
    "\n",
    "class C(B):\n",
    "   pass\n",
    "\n",
    "c = C()\n",
    "print(c.a)"
   ]
  },
  {
   "cell_type": "raw",
   "metadata": {},
   "source": [
    "Built-in functions\n",
    "There are two built-in functions that can come in handy when trying to find the relationship between different classes and objects: issubclass() and isinstance().\n",
    "\n",
    "The first one, issubclass () is demonstrated below. \n",
    "\n",
    "issubclass(object, subclass) -----> syntax"
   ]
  },
  {
   "cell_type": "code",
   "execution_count": null,
   "metadata": {},
   "outputs": [],
   "source": []
  },
  {
   "cell_type": "code",
   "execution_count": 91,
   "metadata": {},
   "outputs": [
    {
     "name": "stdout",
     "output_type": "stream",
     "text": [
      "True\n"
     ]
    }
   ],
   "source": [
    "class myAge:\n",
    "  age = 36\n",
    "\n",
    "class myObj(myAge):\n",
    "  name = \"John\"\n",
    "  age = myAge\n",
    "\n",
    "x = issubclass(myObj, myAge)\n",
    "\n",
    "print(x)"
   ]
  },
  {
   "cell_type": "raw",
   "metadata": {},
   "source": [
    "Another built-in function similar to this one is isinstance() thatdetermines if some object is an instance of some class. So if I write:"
   ]
  },
  {
   "cell_type": "code",
   "execution_count": 82,
   "metadata": {},
   "outputs": [
    {
     "name": "stdout",
     "output_type": "stream",
     "text": [
      "True\n",
      "True\n"
     ]
    }
   ],
   "source": [
    "class A:\n",
    "    pass\n",
    "    \n",
    "class B(A):\n",
    "    pass\n",
    "\n",
    "\n",
    "b = B()\n",
    "print(isinstance(b,B))\n",
    "print(isinstance(b,B))"
   ]
  },
  {
   "cell_type": "raw",
   "metadata": {},
   "source": [
    " let's look at another useful built-in function called the super() function.\n",
    "\n",
    "The super() function is a built-in function that can be called inside the derived class and gives access to the methods and variables of the parent classes or sibling classes. Sibling classes are the classes that share the same parent class. When you call the super() function, you get an object that represents the parent class in return.\n",
    "\n",
    "The super() function plays an important role in multiple inheritance and helps drive the flow of the code execution. It helps in managing or determining the control of from where I can draw the values of my desired functions and variables.\n",
    "\n",
    "If you change anything inside the parent class, there is a direct retrieval of changes inside the derived class. This is mainly used in places where you need to initialize the functionalities present inside the parent class in the child class as well. You can then add additional code in the child class.\n",
    "\n",
    "Here is an example."
   ]
  },
  {
   "cell_type": "code",
   "execution_count": 85,
   "metadata": {},
   "outputs": [
    {
     "name": "stdout",
     "output_type": "stream",
     "text": [
      "Fruit type:  Apple\n",
      "Apple is sweet\n"
     ]
    }
   ],
   "source": [
    "class Fruit():\n",
    "    def __init__(self, fruit):\n",
    "        print('Fruit type: ', fruit)\n",
    "\n",
    "\n",
    "class FruitFlavour(Fruit):\n",
    "    def __init__(self):\n",
    "        super().__init__('Apple')\n",
    "        print('Apple is sweet')\n",
    "\n",
    "apple = FruitFlavour()"
   ]
  },
  {
   "cell_type": "code",
   "execution_count": 3,
   "metadata": {},
   "outputs": [
    {
     "name": "stdout",
     "output_type": "stream",
     "text": [
      "Print inside A.\n",
      "['__class__', '__delattr__', '__dict__', '__dir__', '__doc__', '__eq__', '__format__', '__ge__', '__getattribute__', '__gt__', '__hash__', '__init__', '__init_subclass__', '__le__', '__lt__', '__module__', '__ne__', '__new__', '__reduce__', '__reduce_ex__', '__repr__', '__setattr__', '__sizeof__', '__str__', '__subclasshook__', '__weakref__', 'alpha']\n",
      "Instantiating A..\n",
      "---------Inside class A----------\n",
      "2\n",
      "2\n",
      "5\n",
      "<__main__.A object at 0xe6be98>\n",
      "Instantiating B..\n",
      "---------Inside class B----------\n",
      "<__main__.A object at 0xe6be98>\n"
     ]
    }
   ],
   "source": [
    "class A:                      # Class definition of A  \n",
    "    def __init__(self, c):    # Constructor for A  \n",
    "        print(\"---------Inside class A----------\")  \n",
    "        self.c = c\n",
    "    print(\"Print inside A.\")\n",
    "\n",
    "    def alpha(self):          # Definition of local method alpha()\n",
    "        c = self.c + 1\n",
    "        return c\n",
    "\n",
    "print(dir(A))                 # Calling method alpha() over object of class A \n",
    "print(\"Instantiating A..\")    # Instantiating object a over class A \n",
    "a = A(1)                     \n",
    "print(a.alpha())\n",
    "\n",
    "class B:                      # Constructor for B  \n",
    "    def __init__(self, a):    \n",
    "        print(\"---------Inside class B----------\")\n",
    "        self.a = a\n",
    "\n",
    "print(a.alpha())               # Calling method alpha() over object of class A  \n",
    "d = 5\n",
    "print(d)\n",
    "print(a)\n",
    "\n",
    "print(\"Instantiating B..\")     # Instantiating object a over class B\n",
    "\n",
    "\n",
    "b = B(a)\n",
    "print(a)                       # Additional print statements distributed through the code."
   ]
  },
  {
   "cell_type": "markdown",
   "metadata": {},
   "source": [
    "# Abstract Class"
   ]
  },
  {
   "cell_type": "raw",
   "metadata": {},
   "source": [
    "One of the key advantages of Abstract Class is the ability to hide the details of implementation without sacrificing functionality. \n",
    "\n",
    "Implementation in abstract classes can be done in two ways. \n",
    "\n",
    "One is that, as base abstract classes lack implementation of their own, the methods must be implemented by the derived class. \n",
    "\n",
    "Another possibility is that the super function can be used."
   ]
  },
  {
   "cell_type": "raw",
   "metadata": {},
   "source": [
    "For now, let's focus on the module for defining an abstract class. \n",
    "\n",
    "The module is known as the abstract base class or ABC, and needs to be imported with some code. \n",
    "After that, you can create a class called SomeAbstractClass and pass in the ABC module so that it inherits that class. \n",
    "The next step is to import the abstract method decorator inside the same module. \n",
    "\n",
    "A decorator is a function that takes another function as its arguments and gives a new function as its output. It's denoted by the add sign. \n",
    "\n",
    "You may not be familiar with decorators, but for now, it's enough to know that decorators are like helper functions that add functionality to an already existing function. \n",
    "\n",
    "Finally, here you'll define an abstract method which cannot be called on an object of this class. You will be able to call this method over objects of classes that inherit from this class. Similarly, we can define abstract methods with the help of what we call an abstract method decorator present inside the same module. Any given abstract class can consist of one or more abstract methods. However, a class that has abstract class as its parents cannot be instantiated unless you override all the abstract methods present in at first. With that in mind, imagine a scenario in which an employer wants to collect donations from employees for a charitable cause. With your new found knowledge, let's write some code to make that possible. First, I import the ABC module and it's abstractmethod, then I create the employee abstract class called abstractmethod to define a method called donate. Note that there's no implementation to this method here. After that, I create the class donation which derived from the abstract class. Note that this class also overrides the abstractmethod. I write an implementation for the donate function, which takes a user inputs, stores it in a variable a, and returns it. Next I create two employee instances called John and Peter and call the function over each of them. I also create a list amounts, to which the returned values will be appended. Finally, I have a print statement for amounts which will give the value of the total donations from both employees. In this video, you learned about abstract classes and methods and how to implement them in your code."
   ]
  },
  {
   "cell_type": "code",
   "execution_count": 61,
   "metadata": {},
   "outputs": [
    {
     "ename": "<class 'SyntaxError'>",
     "evalue": "invalid character '“' (U+201C) (<ipython-input-61-5dd5f78dbf93>, line 21)",
     "output_type": "error",
     "traceback": [
      "\u001b[0;36m  Cell \u001b[0;32mIn [61], line 21\u001b[0;36m\u001b[0m\n\u001b[0;31m    print(“This is the Swiss Bank”)\u001b[0m\n\u001b[0m          ^\u001b[0m\n\u001b[0;31mSyntaxError\u001b[0m\u001b[0;31m:\u001b[0m invalid character '“' (U+201C)\n"
     ]
    }
   ],
   "source": [
    "from abc import ABC, abstractmethod\n",
    "\n",
    "class Bank(ABC):\n",
    "    \n",
    "    def basicinfo(self):\n",
    "        print(\"this is generic bank\")\n",
    "        return (\"Generic bank: 0\")\n",
    "    \n",
    "    @abstractmethod\n",
    "    def withdraw(self):\n",
    "        pass\n",
    "    \n",
    "class Swiss(Bank):                        #  Inheriting from class Bank\n",
    "\n",
    "    def __init__(self, bal):\n",
    "        self.bal =1000\n",
    "        \n",
    "# Override both functions from the Bank class: basicinfo() and withdraw()\n",
    "    \n",
    "    def basicinfo(self):\n",
    "        print(“This is the Swiss Bank”)\n",
    "        return ('Swiss Bank: ', str(self.bal))\n",
    "    \n",
    "    def withdraw(self, amount):\n",
    "        \n",
    "        if amount == self.bal:\n",
    "            print(\"cannot have zero money\")\n",
    "            \n",
    "        if amount >= self.bal:\n",
    "            print(\"exceeded amount\")\n",
    "            \n",
    "        else:\n",
    "            \n",
    "            self.bal = self.bal - amount\n",
    "            \n",
    "            print(\"withdrawed : \" + str(amount) + \" remaining balance \" + str(self.bal))\n",
    "            \n",
    "            return self.bal\n",
    "\n",
    "# Driver Code\n",
    "\n",
    "def main():\n",
    "\n",
    "    assert issubclass(Bank, ABC), \"Bank must derive from class ABC\"\n",
    "\n",
    "x = Swiss()\n",
    "\n",
    "print(s.basicinfo())\n",
    "\n",
    "x.withdraw(30)\n",
    "\n",
    "x.withdraw(1000)\n",
    "\n",
    "if __name__ == \"__main__\":\n",
    "\n",
    "    main()"
   ]
  },
  {
   "cell_type": "raw",
   "metadata": {},
   "source": [
    "Example of overriding the functions in Python"
   ]
  },
  {
   "cell_type": "code",
   "execution_count": 59,
   "metadata": {},
   "outputs": [
    {
     "name": "stdout",
     "output_type": "stream",
     "text": [
      "this message is from emp\n",
      "-----\n",
      "this dept is inherited from emp\n",
      "-----\n",
      "this sales is inhereted from emp\n"
     ]
    }
   ],
   "source": [
    "class Employees:\n",
    "    def message(self):\n",
    "        print(\"this message is from emp\")\n",
    "        \n",
    "class Department(Employees):\n",
    "    def message(self):\n",
    "        print(\"this dept is inherited from emp\")\n",
    "\n",
    "class Sales(Employees):\n",
    "    def message(self):\n",
    "        print(\"this sales is inhereted from emp\")\n",
    "        \n",
    "emp = Employees()\n",
    "emp.message()\n",
    "\n",
    "print(\"-----\")\n",
    "\n",
    "dept = Department()\n",
    "dept.message()\n",
    "\n",
    "print(\"-----\")\n",
    "\n",
    "sales = Sales()\n",
    "sales.message()"
   ]
  },
  {
   "cell_type": "code",
   "execution_count": 15,
   "metadata": {},
   "outputs": [
    {
     "name": "stdout",
     "output_type": "stream",
     "text": [
      "the sum =  3\n",
      "-------\n",
      "the sum =  6\n"
     ]
    }
   ],
   "source": [
    "class Employees:\n",
    "    def add(self, a, b):\n",
    "        print('the sum = ', a + b)\n",
    "        \n",
    "class Department(Employees):\n",
    "    def add(self, a, b, c):\n",
    "        print('the sum = ', a + b + c)\n",
    "        \n",
    "x = Employees()\n",
    "x.add(1,2)\n",
    "\n",
    "print('-------')\n",
    "\n",
    "y = Department()\n",
    "y.add(1,2,3)\n"
   ]
  },
  {
   "cell_type": "code",
   "execution_count": 25,
   "metadata": {},
   "outputs": [
    {
     "name": "stdout",
     "output_type": "stream",
     "text": [
      "hello\n",
      "-------\n",
      "how r u?\n"
     ]
    }
   ],
   "source": [
    "# Method Overriding\n",
    "\n",
    "\n",
    "# It means, creating two methos with the same name but differ the logic block. \n",
    "# It allows us to change or override the Parent Class function in the child class.\n",
    "\n",
    "class Employees:\n",
    "    def pqr(self):\n",
    "        print('hello')\n",
    "        \n",
    "class Department(Employees):\n",
    "    def pqr(self):\n",
    "        print('how r u?')\n",
    "        \n",
    "x = Employees()\n",
    "x.pqr()\n",
    "\n",
    "print('-------')\n",
    "\n",
    "y = Department()\n",
    "y.pqr()"
   ]
  },
  {
   "cell_type": "code",
   "execution_count": 26,
   "metadata": {},
   "outputs": [
    {
     "name": "stdout",
     "output_type": "stream",
     "text": [
      "hello\n",
      "-------\n",
      "hello\n",
      "how r u?\n"
     ]
    }
   ],
   "source": [
    "class Employees:\n",
    "    def pqr(self):\n",
    "        print('hello')\n",
    "        \n",
    "class Department(Employees):\n",
    "    def pqr(self):               # super function\n",
    "        super().pqr()\n",
    "        print('how r u?')\n",
    "        \n",
    "x = Employees()\n",
    "x.pqr()\n",
    "\n",
    "print('-------')\n",
    "\n",
    "y = Department()\n",
    "y.pqr()"
   ]
  },
  {
   "cell_type": "raw",
   "metadata": {},
   "source": [
    "Which of the following is among the five primary types of inheritance? Choose all that apply:       \n",
    "\n",
    "\n",
    "Hierarchical inheritance \n",
    "\n",
    "\n",
    "Linear inheritance  (not)\n",
    "\n",
    "\n",
    "Hybrid inheritance\n",
    "\n",
    "\n",
    "Multi level inheritance"
   ]
  },
  {
   "cell_type": "code",
   "execution_count": 29,
   "metadata": {},
   "outputs": [
    {
     "name": "stdout",
     "output_type": "stream",
     "text": [
      "HEY !!!!!! GfG I am initialised(Class GEG3)\n",
      "HEY !!!!!! GfG I am initialised(Class GEG2)\n",
      "HEY !!!!!! GfG I am initialised(Class GEG1)\n",
      "Printing from class GFG3: 10\n",
      "Printing from class GFG2: 11\n",
      "Printing from class GFG1: 12\n"
     ]
    }
   ],
   "source": [
    "# Program to define the use of super() \n",
    "# function in multiple inheritance \n",
    "\n",
    "\n",
    "class GFG1: \n",
    "    def __init__(self): \n",
    "        print('HEY !!!!!! GfG I am initialised(Class GEG1)') \n",
    "    \n",
    "    def sub_GFG(self, b): \n",
    "        print('Printing from class GFG1:', b) \n",
    "    \n",
    "# class GFG2 inherits the GFG1 \n",
    "\n",
    "class GFG2(GFG1): \n",
    "    def __init__(self): \n",
    "        print('HEY !!!!!! GfG I am initialised(Class GEG2)') \n",
    "        super().__init__() \n",
    "    \n",
    "    def sub_GFG(self, b): \n",
    "        print('Printing from class GFG2:', b) \n",
    "        super().sub_GFG(b + 1) \n",
    "    \n",
    "# class GFG3 inherits the GFG1 ang GFG2 both \n",
    "\n",
    "class GFG3(GFG2): \n",
    "    def __init__(self): \n",
    "        print('HEY !!!!!! GfG I am initialised(Class GEG3)') \n",
    "        super().__init__() \n",
    "    \n",
    "    def sub_GFG(self, b): \n",
    "        print('Printing from class GFG3:', b) \n",
    "        super().sub_GFG(b + 1) \n",
    "    \n",
    "    \n",
    "# main function \n",
    "if __name__ == '__main__': \n",
    "    \n",
    "    # created the object gfg \n",
    "    gfg = GFG3() \n",
    "    \n",
    "    # calling the function sub_GFG3() from class GHG3 \n",
    "    # which inherits both GFG1 and GFG2 classes \n",
    "    gfg.sub_GFG(10)"
   ]
  },
  {
   "cell_type": "code",
   "execution_count": 30,
   "metadata": {},
   "outputs": [
    {
     "name": "stdout",
     "output_type": "stream",
     "text": [
      "Inside Parent\n",
      "Inside Child\n"
     ]
    }
   ],
   "source": [
    "# Python program to demonstrate\n",
    "# calling the parent's class method\n",
    "# inside the overridden method using\n",
    "# super()\n",
    "\n",
    "\n",
    "class Parent():\n",
    " \n",
    " def show(self):\n",
    "  print(\"Inside Parent\")\n",
    "  \n",
    "class Child(Parent):\n",
    " \n",
    " def show(self):\n",
    "  \n",
    "  # Calling the parent's class\n",
    "  # method\n",
    "  super().show()\n",
    "  print(\"Inside Child\")\n",
    "  \n",
    "# Driver's code\n",
    "obj = Child()\n",
    "obj.show()"
   ]
  },
  {
   "cell_type": "code",
   "execution_count": 31,
   "metadata": {},
   "outputs": [
    {
     "name": "stdout",
     "output_type": "stream",
     "text": [
      "Inside Parent\n",
      "Inside Child\n"
     ]
    }
   ],
   "source": [
    "\n",
    "#Python program to demonstrate\n",
    "# calling the parent's class method\n",
    "# inside the overridden method\n",
    "  \n",
    "  \n",
    "class Parent():\n",
    "      \n",
    "    def show(self):\n",
    "        print(\"Inside Parent\")\n",
    "          \n",
    "class Child(Parent):\n",
    "      \n",
    "    def show(self):\n",
    "          \n",
    "        # Calling the parent's class\n",
    "        # method\n",
    "        Parent.show(self)\n",
    "        print(\"Inside Child\")\n",
    "          \n",
    "# Driver's code\n",
    "obj = Child()\n",
    "obj.show()"
   ]
  },
  {
   "cell_type": "code",
   "execution_count": 37,
   "metadata": {},
   "outputs": [
    {
     "ename": "<class 'IndentationError'>",
     "evalue": "expected an indented block after function definition on line 12 (<ipython-input-37-0018fc8e7156>, line 13)",
     "output_type": "error",
     "traceback": [
      "\u001b[0;36m  Cell \u001b[0;32mIn [37], line 13\u001b[0;36m\u001b[0m\n\u001b[0;31m    print(\"Inside Parent\")\u001b[0m\n\u001b[0m    ^\u001b[0m\n\u001b[0;31mIndentationError\u001b[0m\u001b[0;31m:\u001b[0m expected an indented block after function definition on line 12\n"
     ]
    }
   ],
   "source": [
    "# Python program to demonstrate\n",
    "# overriding in multilevel inheritance\n",
    "\n",
    "\n",
    "# Python program to demonstrate\n",
    "# overriding in multilevel inheritance\n",
    "\n",
    "\n",
    "class Parent():\n",
    "  \n",
    " # Parent's show method\n",
    "    def display(self):\n",
    "    print(\"Inside Parent\")\n",
    " \n",
    " \n",
    "# Inherited or Sub class (Note Parent in bracket)\n",
    "class Child(Parent):\n",
    "  \n",
    " # Child's show method\n",
    "    def show(self):\n",
    "    print(\"Inside Child\")\n",
    " \n",
    "# Inherited or Sub class (Note Child in bracket)\n",
    "\n",
    "class GrandChild(Child):\n",
    "  \n",
    " # Child's show method\n",
    "    def show(self):\n",
    "    print(\"Inside GrandChild\")  \n",
    " \n",
    "# Driver code\n",
    "g = GrandChild()\n",
    "g.show()\n",
    "g.display()"
   ]
  },
  {
   "cell_type": "code",
   "execution_count": 38,
   "metadata": {},
   "outputs": [
    {
     "name": "stdout",
     "output_type": "stream",
     "text": [
      "Inside Child\n",
      "Inside Parent2\n"
     ]
    }
   ],
   "source": [
    "# Python program to demonstrate\n",
    "# overriding in multiple inheritance\n",
    "\n",
    "\n",
    "# Defining parent class 1\n",
    "class Parent1():\n",
    "  \n",
    " # Parent's show method\n",
    "    def show(self):\n",
    "        \n",
    "        print(\"Inside Parent1\")\n",
    "    \n",
    "# Defining Parent class 2\n",
    "class Parent2():\n",
    "  \n",
    " # Parent's show method\n",
    "    def display(self):\n",
    "        print(\"Inside Parent2\")\n",
    "# Defining child class\n",
    "class Child(Parent1, Parent2):\n",
    "  \n",
    " # Child's show method\n",
    "    def show(self):\n",
    "        print(\"Inside Child\")\n",
    " \n",
    "  \n",
    "# Driver's code\n",
    "obj = Child()\n",
    "\n",
    "obj.show()\n",
    "obj.display()"
   ]
  },
  {
   "cell_type": "code",
   "execution_count": 39,
   "metadata": {},
   "outputs": [
    {
     "name": "stdout",
     "output_type": "stream",
     "text": [
      "Inside Parent\n",
      "Inside Child\n"
     ]
    }
   ],
   "source": [
    "\n",
    "# Python program to demonstrate\n",
    "# method overriding\n",
    "\n",
    "\n",
    "# Defining parent class\n",
    "class Parent():\n",
    " \n",
    " # Constructor\n",
    " def __init__(self):\n",
    "  self.value = \"Inside Parent\"\n",
    "  \n",
    " # Parent's show method\n",
    " def show(self):\n",
    "  print(self.value)\n",
    "  \n",
    "# Defining child class\n",
    "class Child(Parent):\n",
    " \n",
    " # Constructor\n",
    " def __init__(self):\n",
    "  self.value = \"Inside Child\"\n",
    "  \n",
    " # Child's show method\n",
    " def show(self):\n",
    "  print(self.value)\n",
    "  \n",
    "  \n",
    "# Driver's code\n",
    "obj1 = Parent()\n",
    "obj2 = Child()\n",
    "\n",
    "obj1.show()\n",
    "obj2.show()"
   ]
  },
  {
   "cell_type": "code",
   "execution_count": 48,
   "metadata": {},
   "outputs": [
    {
     "name": "stdout",
     "output_type": "stream",
     "text": [
      "I have 3 sides\n",
      "I have 4 sides\n",
      "I have 5 sides\n",
      "I have 6 sides\n"
     ]
    }
   ],
   "source": [
    "# Python program showing\n",
    "# abstract base class work\n",
    "\n",
    "from abc import ABC, abstractmethod\n",
    "\n",
    "class Polygon(ABC):\n",
    "    \n",
    "\n",
    "    @abstractmethod\n",
    "    def noofsides(self):\n",
    "        pass\n",
    "\n",
    "class Triangle(Polygon):\n",
    "    \n",
    "\n",
    " # overriding abstract method\n",
    "    def noofsides(self):\n",
    "        print(\"I have 3 sides\")\n",
    "\n",
    "class Pentagon(Polygon):\n",
    "    def noofsides(self):\n",
    "        print(\"I have 5 sides\")\n",
    "\n",
    " # overriding abstract method\n",
    "   \n",
    "class Hexagon(Polygon):\n",
    "    def noofsides(self):\n",
    "        print(\"I have 6 sides\")\n",
    "\n",
    " # overriding abstract method\n",
    " \n",
    "\n",
    "class Quadrilateral(Polygon):\n",
    "    def noofsides(self):\n",
    "        print(\"I have 4 sides\")\n",
    "\n",
    " # overriding abstract method\n",
    "    \n",
    "  \n",
    " # Driver code\n",
    "R = Triangle()\n",
    "R.noofsides()\n",
    "\n",
    "K = Quadrilateral()\n",
    "K.noofsides()\n",
    "\n",
    "R = Pentagon()\n",
    "R.noofsides()\n",
    "\n",
    "K = Hexagon()\n",
    "K.noofsides()"
   ]
  },
  {
   "cell_type": "code",
   "execution_count": 41,
   "metadata": {},
   "outputs": [
    {
     "name": "stdout",
     "output_type": "stream",
     "text": [
      "I can walk and run\n",
      "I can crawl\n",
      "I can bark\n",
      "I can roar\n"
     ]
    }
   ],
   "source": [
    "\n",
    "# Python program showing\n",
    "# abstract base class work\n",
    "\n",
    "from abc import ABC, abstractmethod\n",
    "class Animal(ABC):\n",
    "\n",
    " def move(self):\n",
    "  pass\n",
    "\n",
    "class Human(Animal):\n",
    "\n",
    " def move(self):\n",
    "  print(\"I can walk and run\")\n",
    "\n",
    "class Snake(Animal):\n",
    "\n",
    " def move(self):\n",
    "  print(\"I can crawl\")\n",
    "\n",
    "class Dog(Animal):\n",
    "\n",
    " def move(self):\n",
    "  print(\"I can bark\")\n",
    "\n",
    "class Lion(Animal):\n",
    "\n",
    " def move(self):\n",
    "  print(\"I can roar\")\n",
    "  \n",
    "# Driver code\n",
    "R = Human()\n",
    "R.move()\n",
    "\n",
    "K = Snake()\n",
    "K.move()\n",
    "\n",
    "R = Dog()\n",
    "R.move()\n",
    "\n",
    "K = Lion()\n",
    "K.move()"
   ]
  },
  {
   "cell_type": "code",
   "execution_count": 42,
   "metadata": {},
   "outputs": [
    {
     "name": "stdout",
     "output_type": "stream",
     "text": [
      "True\n",
      "True\n"
     ]
    }
   ],
   "source": [
    "\n",
    "# Python program showing\n",
    "# implementation of abstract\n",
    "# class through subclassing\n",
    "\n",
    "import abc\n",
    "\n",
    "class parent: \n",
    " def geeks(self):\n",
    "  pass\n",
    "\n",
    "class child(parent):\n",
    " def geeks(self):\n",
    "  print(\"child class\")\n",
    "\n",
    "# Driver code\n",
    "print( issubclass(child, parent))\n",
    "print( isinstance(child(), parent))"
   ]
  },
  {
   "cell_type": "code",
   "execution_count": 43,
   "metadata": {},
   "outputs": [
    {
     "name": "stdout",
     "output_type": "stream",
     "text": [
      "Abstract Base Class\n",
      "subclass \n"
     ]
    }
   ],
   "source": [
    "# Python program invoking a\n",
    "# method using super()\n",
    "\n",
    "import abc\n",
    "from abc import ABC, abstractmethod\n",
    "\n",
    "class R(ABC):\n",
    " def rk(self):\n",
    "  print(\"Abstract Base Class\")\n",
    "\n",
    "class K(R):\n",
    " def rk(self):\n",
    "  super().rk()\n",
    "  print(\"subclass \")\n",
    "\n",
    "# Driver code\n",
    "r = K()\n",
    "r.rk()"
   ]
  },
  {
   "cell_type": "code",
   "execution_count": 44,
   "metadata": {},
   "outputs": [
    {
     "name": "stdout",
     "output_type": "stream",
     "text": [
      "Can't instantiate abstract class parent with abstract method geeks\n",
      "child class\n"
     ]
    }
   ],
   "source": [
    "# Python program showing\n",
    "# abstract properties\n",
    "\n",
    "import abc\n",
    "from abc import ABC, abstractmethod\n",
    "\n",
    "class parent(ABC):\n",
    " @abc.abstractproperty\n",
    " def geeks(self):\n",
    "  return \"parent class\"\n",
    "class child(parent):\n",
    " \n",
    " @property\n",
    " def geeks(self):\n",
    "  return \"child class\"\n",
    "\n",
    "\n",
    "try:\n",
    " r =parent()\n",
    " print( r.geeks)\n",
    "except Exception as err:\n",
    " print (err)\n",
    "\n",
    "r = child()\n",
    "print (r.geeks)\n"
   ]
  },
  {
   "cell_type": "raw",
   "metadata": {},
   "source": [
    "\n",
    "Abstract Class Instantiation : \n",
    "Abstract classes are incomplete because they have methods that have nobody. If python allows creating an object for abstract classes then using that object if anyone calls the abstract method, but there is no actual implementation to invoke. So we use an abstract class as a template and according to the need, we extend it and build on it before we can use it. Due to the fact, an abstract class is not a concrete class, it cannot be instantiated. When we create an object for the abstract class it raises an error."
   ]
  },
  {
   "cell_type": "code",
   "execution_count": 47,
   "metadata": {},
   "outputs": [
    {
     "ename": "<class 'TypeError'>",
     "evalue": "Can't instantiate abstract class Animal with abstract method move",
     "output_type": "error",
     "traceback": [
      "\u001b[0;31m---------------------------------------------------------------------------\u001b[0m",
      "\u001b[0;31mTypeError\u001b[0m                                 Traceback (most recent call last)",
      "Cell \u001b[0;32mIn [47], line 26\u001b[0m\n\u001b[1;32m     23\u001b[0m  \u001b[38;5;28;01mdef\u001b[39;00m \u001b[38;5;21mmove\u001b[39m(\u001b[38;5;28mself\u001b[39m):\n\u001b[1;32m     24\u001b[0m   \u001b[38;5;28mprint\u001b[39m(\u001b[38;5;124m\"\u001b[39m\u001b[38;5;124mI can roar\u001b[39m\u001b[38;5;124m\"\u001b[39m)\n\u001b[0;32m---> 26\u001b[0m c\u001b[38;5;241m=\u001b[39m\u001b[43mAnimal\u001b[49m\u001b[43m(\u001b[49m\u001b[43m)\u001b[49m\n\u001b[1;32m     29\u001b[0m \u001b[38;5;66;03m# Error is explained above\u001b[39;00m\n",
      "\u001b[0;31mTypeError\u001b[0m: Can't instantiate abstract class Animal with abstract method move"
     ]
    }
   ],
   "source": [
    "# Python program showing\n",
    "# abstract class cannot\n",
    "# be an instantiation\n",
    "from abc import ABC,abstractmethod\n",
    "\n",
    "class Animal(ABC):\n",
    " @abstractmethod\n",
    " def move(self):\n",
    "  pass\n",
    "class Human(Animal):\n",
    " def move(self):\n",
    "  print(\"I can walk and run\")\n",
    "\n",
    "class Snake(Animal):\n",
    " def move(self):\n",
    "  print(\"I can crawl\")\n",
    "\n",
    "class Dog(Animal):\n",
    " def move(self):\n",
    "  print(\"I can bark\")\n",
    "\n",
    "class Lion(Animal):\n",
    " def move(self):\n",
    "  print(\"I can roar\")\n",
    "\n",
    "c=Animal()\n",
    "\n",
    "\n",
    "# Error is explained above\n"
   ]
  },
  {
   "cell_type": "code",
   "execution_count": 62,
   "metadata": {},
   "outputs": [
    {
     "name": "stdout",
     "output_type": "stream",
     "text": [
      "This is Swiss bank\n",
      "Swiss Bank: 1000\n",
      "Withdrawn amount: 30\n",
      "New Balance: 970\n",
      "Insufficient funds\n"
     ]
    }
   ],
   "source": [
    "# Import ABC and abstractmethod from the module abc (which stands for abstract base classes)\n",
    "\n",
    "from abc import ABC, abstractmethod\n",
    "\n",
    "# Class Bank\n",
    "\n",
    "class Bank(ABC):\n",
    "\n",
    "    \"\"\" An abstract bank class\n",
    "\n",
    "    [IMPLEMENT ME]\n",
    "\n",
    "        1. This class must derive from class ABC\n",
    "\n",
    "        2. Write a basicinfo() function that prints out \"This is a generic bank\" and\n",
    "\n",
    "           returns the string \"Generic bank: 0\" \n",
    "\n",
    "        3. Define a second function called withdraw and keep it empty by\n",
    "\n",
    "           adding the `pass` keyword under it. Make this function abstract by\n",
    "\n",
    "           adding an '@abstractmethod' tag right above the function declaration.\n",
    "\n",
    "    \"\"\"\n",
    "\n",
    "    ### YOUR CODE HERE\n",
    "\n",
    "    def basicinfo(self):\n",
    "\n",
    "        print(\"This is a generic bank\")\n",
    "\n",
    "        return (\"Generic bank: 0\")\n",
    "\n",
    "    @abstractmethod\n",
    "\n",
    "    def withdraw(self):\n",
    "\n",
    "        pass\n",
    "\n",
    "# Class Swiss\n",
    "\n",
    "class Swiss(Bank):\n",
    "\n",
    "    \"\"\" A specific type of bank than derives from class Bank\n",
    "\n",
    "    [IMPLEMENT ME]\n",
    "\n",
    "        1. This class must derive from class Bank\n",
    "\n",
    "        2. Create a constructor for this class that initializes a class\n",
    "\n",
    "           variable `bal` to 1000\n",
    "\n",
    "        3. Implement the basicinfo() function so that it prints \"This is the \n",
    "\n",
    "           Swiss Bank\" and returns a string with \"Swiss Bank: \" (don't forget\n",
    "\n",
    "           the space after the colon) followed by the current bank balance.\n",
    "\n",
    "           For example, if self.bal = 80, then it would return \"Swiss Bank: 80\"\n",
    "\n",
    "        4. Implement withdraw so that it takes one argument (in addition to\n",
    "\n",
    "           self) that is an integer which represents the amount to be withdrawn\n",
    "\n",
    "           from the bank. Deduct the withdrawn amount from the bank bal, print \n",
    "\n",
    "           the withdrawn amount (\"Withdrawn amount: {amount}\"), print the new\n",
    "\n",
    "           balance (\"New Balance: {self.bal}\"), and return the new balance.\n",
    "\n",
    "           Note: Make sure to verify that there is enough money to withdraw!  \n",
    "\n",
    "                 If amount is greater than balance, then do not deduct any \n",
    "\n",
    "                 money from the class variable `bal`. Instead, print a \n",
    "\n",
    "                 statement saying `\"Insufficient funds\"`, and return the \n",
    "\n",
    "                 original account balance instead.\n",
    "\n",
    "    \"\"\"\n",
    "\n",
    "    ### YOUR CODE HERE\n",
    "\n",
    "    def __init__(self) ->None:\n",
    "\n",
    "        self.bal = 1000\n",
    "\n",
    "    def basicinfo(self):\n",
    "\n",
    "        print(\"This is Swiss bank\")\n",
    "\n",
    "        return (\"Swiss Bank: \" + str(self.bal))\n",
    "\n",
    "    def withdraw(self, amount):\n",
    "\n",
    "        if amount <= self.bal:\n",
    "\n",
    "            self.bal = self.bal - amount\n",
    "\n",
    "            print(\"Withdrawn amount: \" + str(amount) + \"\\nNew Balance: \" + str(self.bal))\n",
    "\n",
    "            return self.bal\n",
    "\n",
    "        else:\n",
    "\n",
    "            print(\"Insufficient funds\")\n",
    "\n",
    "            return self.bal\n",
    "\n",
    "# Driver Code\n",
    "\n",
    "def main():\n",
    "\n",
    "    assert issubclass(Bank, ABC), \"Bank must derive from class ABC\"\n",
    "\n",
    "s = Swiss()\n",
    "\n",
    "print(s.basicinfo())\n",
    "\n",
    "s.withdraw(30)\n",
    "\n",
    "s.withdraw(1000)\n",
    "\n",
    "if __name__ == \"__main__\":\n",
    "\n",
    "    main()"
   ]
  },
  {
   "cell_type": "code",
   "execution_count": null,
   "metadata": {},
   "outputs": [],
   "source": []
  }
 ],
 "metadata": {
  "kernelspec": {
   "display_name": "Python 3 (ipykernel)",
   "language": "python",
   "name": "python3"
  },
  "language_info": {
   "codemirror_mode": {
    "name": "ipython",
    "version": 3
   },
   "file_extension": ".py",
   "mimetype": "text/x-python",
   "name": "python",
   "nbconvert_exporter": "python",
   "pygments_lexer": "ipython3",
   "version": "3.9.12"
  }
 },
 "nbformat": 4,
 "nbformat_minor": 4
}
